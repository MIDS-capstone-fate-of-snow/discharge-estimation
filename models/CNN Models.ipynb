{
 "cells": [
  {
   "cell_type": "markdown",
   "id": "c60319da-e3b5-4d0c-83df-9f84ef90dab2",
   "metadata": {},
   "source": [
    "# CNN Model"
   ]
  },
  {
   "cell_type": "code",
   "execution_count": 1,
   "id": "3fbd5b55-10b5-4037-a4bb-4023cee6af6d",
   "metadata": {},
   "outputs": [
    {
     "name": "stderr",
     "output_type": "stream",
     "text": [
      "2022-11-12 15:29:22.492218: I tensorflow/core/platform/cpu_feature_guard.cc:193] This TensorFlow binary is optimized with oneAPI Deep Neural Network Library (oneDNN) to use the following CPU instructions in performance-critical operations:  AVX2 FMA\n",
      "To enable them in other operations, rebuild TensorFlow with the appropriate compiler flags.\n"
     ]
    }
   ],
   "source": [
    "# Required imports:\n",
    "\n",
    "import datetime\n",
    "import os \n",
    "import shutil\n",
    "import sys\n",
    "\n",
    "import numpy as np\n",
    "import pandas as pd\n",
    "from tensorflow import keras\n",
    "import tensorflow as tf\n",
    "from tensorflow.keras import datasets, layers, models\n",
    "import matplotlib.pyplot as plt\n",
    "\n",
    "sys.path.append(os.path.join(\"..\", \"code\"))\n",
    "from cnn_model import *\n",
    "from tif_files import TifFile, TifDir\n",
    "from utils import get_y_data, open_y_data, sat_img_filelist_df\n",
    "\n",
    "pd.set_option(\"display.max_colwidth\", 500)\n",
    "\n",
    "\n",
    "DIR = os.getcwd()\n",
    "DATA_DIR = os.path.join(os.path.dirname(DIR), \"data\")\n",
    "TRAIN_DIR = os.path.join(DATA_DIR, \"training_data\")\n",
    "DEV_DIR = os.path.join(DATA_DIR, \"img_dir\")"
   ]
  },
  {
   "cell_type": "markdown",
   "id": "61d007ed-adac-48db-8652-f13919bfd60a",
   "metadata": {},
   "source": [
    "## Put some data in the training dir"
   ]
  },
  {
   "cell_type": "code",
   "execution_count": 2,
   "id": "1c4d0169-7506-4414-95a7-5c61939f1b1b",
   "metadata": {},
   "outputs": [],
   "source": [
    "gage = \"11402000\"\n",
    "band = \"total_precipitation\"\n",
    "date_from = \"2010_01_01\"\n",
    "date_to = \"2010_12_31\""
   ]
  },
  {
   "cell_type": "code",
   "execution_count": 3,
   "id": "3d331449-549c-434f-97fd-63f84ce5851e",
   "metadata": {},
   "outputs": [],
   "source": [
    "fp = os.path.join(TRAIN_DIR, \"raw\", gage)\n",
    "files = [f for f in os.listdir(fp) if f.endswith(\".tif\")]\n",
    "files_df = sat_img_filelist_df(files)"
   ]
  },
  {
   "cell_type": "code",
   "execution_count": 4,
   "id": "48aad1ff-f7f6-4910-a6f2-65cae71122d4",
   "metadata": {},
   "outputs": [],
   "source": [
    "dt_from = datetime.datetime.strptime(date_from, DATE_FORMAT)\n",
    "dt_to = datetime.datetime.strptime(date_to, DATE_FORMAT)"
   ]
  },
  {
   "cell_type": "code",
   "execution_count": 5,
   "id": "d1a21796-8541-485e-b18b-e919d474b8fa",
   "metadata": {},
   "outputs": [
    {
     "data": {
      "text/html": [
       "<div>\n",
       "<style scoped>\n",
       "    .dataframe tbody tr th:only-of-type {\n",
       "        vertical-align: middle;\n",
       "    }\n",
       "\n",
       "    .dataframe tbody tr th {\n",
       "        vertical-align: top;\n",
       "    }\n",
       "\n",
       "    .dataframe thead th {\n",
       "        text-align: right;\n",
       "    }\n",
       "</style>\n",
       "<table border=\"1\" class=\"dataframe\">\n",
       "  <thead>\n",
       "    <tr style=\"text-align: right;\">\n",
       "      <th></th>\n",
       "      <th>filename</th>\n",
       "      <th>filename_ext</th>\n",
       "      <th>filename_prefix</th>\n",
       "      <th>subdir</th>\n",
       "      <th>crs</th>\n",
       "      <th>scale</th>\n",
       "      <th>satellite</th>\n",
       "      <th>band</th>\n",
       "      <th>date_str</th>\n",
       "      <th>date</th>\n",
       "    </tr>\n",
       "  </thead>\n",
       "  <tbody>\n",
       "    <tr>\n",
       "      <th>5</th>\n",
       "      <td>11402000#EPSG_4326__11131_95__ECMWF_ERA5_LAND_HOURLY__total_precipitation__2010_05_16.tif</td>\n",
       "      <td>tif</td>\n",
       "      <td>11402000#EPSG_4326__11131_95__ECMWF_ERA5_LAND_HOURLY__total_precipitation__2010_05_16</td>\n",
       "      <td></td>\n",
       "      <td>11402000#EPSG_4326</td>\n",
       "      <td>11131.95</td>\n",
       "      <td>ECMWF_ERA5_LAND_HOURLY</td>\n",
       "      <td>total_precipitation</td>\n",
       "      <td>2010_05_16</td>\n",
       "      <td>2010-05-16</td>\n",
       "    </tr>\n",
       "    <tr>\n",
       "      <th>6</th>\n",
       "      <td>11402000#EPSG_4326__11131_95__ECMWF_ERA5_LAND_HOURLY__total_precipitation__2010_05_02.tif</td>\n",
       "      <td>tif</td>\n",
       "      <td>11402000#EPSG_4326__11131_95__ECMWF_ERA5_LAND_HOURLY__total_precipitation__2010_05_02</td>\n",
       "      <td></td>\n",
       "      <td>11402000#EPSG_4326</td>\n",
       "      <td>11131.95</td>\n",
       "      <td>ECMWF_ERA5_LAND_HOURLY</td>\n",
       "      <td>total_precipitation</td>\n",
       "      <td>2010_05_02</td>\n",
       "      <td>2010-05-02</td>\n",
       "    </tr>\n",
       "    <tr>\n",
       "      <th>7</th>\n",
       "      <td>11402000#EPSG_4326__11131_95__ECMWF_ERA5_LAND_HOURLY__total_precipitation__2010_02_23.tif</td>\n",
       "      <td>tif</td>\n",
       "      <td>11402000#EPSG_4326__11131_95__ECMWF_ERA5_LAND_HOURLY__total_precipitation__2010_02_23</td>\n",
       "      <td></td>\n",
       "      <td>11402000#EPSG_4326</td>\n",
       "      <td>11131.95</td>\n",
       "      <td>ECMWF_ERA5_LAND_HOURLY</td>\n",
       "      <td>total_precipitation</td>\n",
       "      <td>2010_02_23</td>\n",
       "      <td>2010-02-23</td>\n",
       "    </tr>\n",
       "    <tr>\n",
       "      <th>11</th>\n",
       "      <td>11402000#EPSG_4326__11131_95__ECMWF_ERA5_LAND_HOURLY__total_precipitation__2010_12_26.tif</td>\n",
       "      <td>tif</td>\n",
       "      <td>11402000#EPSG_4326__11131_95__ECMWF_ERA5_LAND_HOURLY__total_precipitation__2010_12_26</td>\n",
       "      <td></td>\n",
       "      <td>11402000#EPSG_4326</td>\n",
       "      <td>11131.95</td>\n",
       "      <td>ECMWF_ERA5_LAND_HOURLY</td>\n",
       "      <td>total_precipitation</td>\n",
       "      <td>2010_12_26</td>\n",
       "      <td>2010-12-26</td>\n",
       "    </tr>\n",
       "    <tr>\n",
       "      <th>15</th>\n",
       "      <td>11402000#EPSG_4326__11131_95__ECMWF_ERA5_LAND_HOURLY__total_precipitation__2010_10_23.tif</td>\n",
       "      <td>tif</td>\n",
       "      <td>11402000#EPSG_4326__11131_95__ECMWF_ERA5_LAND_HOURLY__total_precipitation__2010_10_23</td>\n",
       "      <td></td>\n",
       "      <td>11402000#EPSG_4326</td>\n",
       "      <td>11131.95</td>\n",
       "      <td>ECMWF_ERA5_LAND_HOURLY</td>\n",
       "      <td>total_precipitation</td>\n",
       "      <td>2010_10_23</td>\n",
       "      <td>2010-10-23</td>\n",
       "    </tr>\n",
       "  </tbody>\n",
       "</table>\n",
       "</div>"
      ],
      "text/plain": [
       "                                                                                     filename  \\\n",
       "5   11402000#EPSG_4326__11131_95__ECMWF_ERA5_LAND_HOURLY__total_precipitation__2010_05_16.tif   \n",
       "6   11402000#EPSG_4326__11131_95__ECMWF_ERA5_LAND_HOURLY__total_precipitation__2010_05_02.tif   \n",
       "7   11402000#EPSG_4326__11131_95__ECMWF_ERA5_LAND_HOURLY__total_precipitation__2010_02_23.tif   \n",
       "11  11402000#EPSG_4326__11131_95__ECMWF_ERA5_LAND_HOURLY__total_precipitation__2010_12_26.tif   \n",
       "15  11402000#EPSG_4326__11131_95__ECMWF_ERA5_LAND_HOURLY__total_precipitation__2010_10_23.tif   \n",
       "\n",
       "   filename_ext  \\\n",
       "5           tif   \n",
       "6           tif   \n",
       "7           tif   \n",
       "11          tif   \n",
       "15          tif   \n",
       "\n",
       "                                                                          filename_prefix  \\\n",
       "5   11402000#EPSG_4326__11131_95__ECMWF_ERA5_LAND_HOURLY__total_precipitation__2010_05_16   \n",
       "6   11402000#EPSG_4326__11131_95__ECMWF_ERA5_LAND_HOURLY__total_precipitation__2010_05_02   \n",
       "7   11402000#EPSG_4326__11131_95__ECMWF_ERA5_LAND_HOURLY__total_precipitation__2010_02_23   \n",
       "11  11402000#EPSG_4326__11131_95__ECMWF_ERA5_LAND_HOURLY__total_precipitation__2010_12_26   \n",
       "15  11402000#EPSG_4326__11131_95__ECMWF_ERA5_LAND_HOURLY__total_precipitation__2010_10_23   \n",
       "\n",
       "   subdir                 crs     scale               satellite  \\\n",
       "5          11402000#EPSG_4326  11131.95  ECMWF_ERA5_LAND_HOURLY   \n",
       "6          11402000#EPSG_4326  11131.95  ECMWF_ERA5_LAND_HOURLY   \n",
       "7          11402000#EPSG_4326  11131.95  ECMWF_ERA5_LAND_HOURLY   \n",
       "11         11402000#EPSG_4326  11131.95  ECMWF_ERA5_LAND_HOURLY   \n",
       "15         11402000#EPSG_4326  11131.95  ECMWF_ERA5_LAND_HOURLY   \n",
       "\n",
       "                   band    date_str       date  \n",
       "5   total_precipitation  2010_05_16 2010-05-16  \n",
       "6   total_precipitation  2010_05_02 2010-05-02  \n",
       "7   total_precipitation  2010_02_23 2010-02-23  \n",
       "11  total_precipitation  2010_12_26 2010-12-26  \n",
       "15  total_precipitation  2010_10_23 2010-10-23  "
      ]
     },
     "execution_count": 5,
     "metadata": {},
     "output_type": "execute_result"
    }
   ],
   "source": [
    "# Filter to files to copy over:\n",
    "files_for_training = files_df[\n",
    "    (files_df[\"band\"] == band) &\n",
    "    (files_df[\"date\"] >= dt_from) &\n",
    "    (files_df[\"date\"] <= dt_to)\n",
    "]\n",
    "files_for_training.head()"
   ]
  },
  {
   "cell_type": "code",
   "execution_count": 6,
   "id": "f6f3d2b4-caa0-4850-99a4-5ef1361803fc",
   "metadata": {},
   "outputs": [],
   "source": [
    "# Empty out current contents of training source dir:\n",
    "for f in os.listdir(DEV_DIR):\n",
    "    if f.endswith(\".tif\"):\n",
    "        fp = os.path.join(DEV_DIR, f)\n",
    "        os.remove(fp)"
   ]
  },
  {
   "cell_type": "code",
   "execution_count": 7,
   "id": "d8b79dee-f5c6-4be0-b147-2a532240308f",
   "metadata": {},
   "outputs": [],
   "source": [
    "for ix, row in files_for_training.iterrows():\n",
    "    src_fn = row[\"filename\"]\n",
    "    src = os.path.join(TRAIN_DIR, \"raw\", gage, src_fn)\n",
    "    dest_fn = f\"{gage}#{src_fn}\"\n",
    "    dest = os.path.join(DEV_DIR, dest_fn)\n",
    "    shutil.copyfile(src, dest)"
   ]
  },
  {
   "cell_type": "code",
   "execution_count": 8,
   "id": "5f139e06-40a9-4a32-9aed-b6708bb286ab",
   "metadata": {},
   "outputs": [],
   "source": [
    "files_df = sat_img_filelist_df(os.listdir(DEV_DIR))\n",
    "files_df[\"gage\"] = files_df[\"crs\"].map(lambda s: s.split(\"#\")[0])\n",
    "files_df[\"crs\"] = files_df[\"crs\"].map(lambda s: s.split(\"#\")[-1])"
   ]
  },
  {
   "cell_type": "markdown",
   "id": "b8d1dde6-176d-4b46-ac11-384935509962",
   "metadata": {
    "tags": []
   },
   "source": [
    "## Sample images"
   ]
  },
  {
   "cell_type": "code",
   "execution_count": 9,
   "id": "77a53d05-2120-4947-afe9-3b7499d52051",
   "metadata": {},
   "outputs": [],
   "source": [
    "tifs = TifDir(DEV_DIR)\n",
    "\n",
    "fps = dict(enumerate(tifs.tif_fps))"
   ]
  },
  {
   "cell_type": "code",
   "execution_count": 10,
   "id": "a31b4f88-bbee-4801-8ce7-53aac395ca0a",
   "metadata": {},
   "outputs": [],
   "source": [
    "# # Example gage 11266500 image:\n",
    "# ix = [k for k, v in fps.items() if \"11266500\" in v]\n",
    "# sample_temp_img = tifs[ix[0]]\n",
    "# sample_temp_img.plot()"
   ]
  },
  {
   "cell_type": "code",
   "execution_count": 11,
   "id": "16585845-9e80-4be3-ac75-28b78057a670",
   "metadata": {},
   "outputs": [
    {
     "data": {
      "image/png": "[encoded data removed]",
      "text/plain": [
       "<Figure size 600x600 with 1 Axes>"
      ]
     },
     "metadata": {},
     "output_type": "display_data"
    }
   ],
   "source": [
    "# Example gage 11402000 image:\n",
    "ix = [k for k, v in fps.items() if \"11402000\" in v]\n",
    "sample_temp_img = tifs[ix[0]]\n",
    "sample_temp_img.plot()"
   ]
  },
  {
   "cell_type": "markdown",
   "id": "6f4eecbf-19aa-47ec-87b2-e4ecad0c671f",
   "metadata": {},
   "source": [
    "## Calculate image normalization values"
   ]
  },
  {
   "cell_type": "code",
   "execution_count": 12,
   "id": "cbad41fa-769a-413f-985a-89393c652a60",
   "metadata": {},
   "outputs": [],
   "source": [
    "files = [f for f in  os.listdir(DEV_DIR) if f.endswith(\".tif\")]\n",
    "img_fp = [os.path.join(DEV_DIR, f) for f in files]"
   ]
  },
  {
   "cell_type": "code",
   "execution_count": 13,
   "id": "411ea191-6d12-4460-8708-035db7e5d879",
   "metadata": {},
   "outputs": [],
   "source": [
    "def pixel_mean_std(*img_fp):\n",
    "    \"\"\"Calculate mean and STD of all image pixels across multiple images.\"\"\"\n",
    "    # Source: https://kozodoi.me/python/deep%20learning/pytorch/tutorial/2021/03/08/image-mean-std.html\n",
    "    total_count = len(img_fp)\n",
    "    total_img_sum = 0\n",
    "    total_img_sum_sq = 0\n",
    "    total_num_pixels = 0\n",
    "\n",
    "    for fp in img_fp:\n",
    "        tif = TifFile(fp)\n",
    "        img_sum = tif.as_numpy.sum()\n",
    "        total_img_sum += img_sum\n",
    "        img_sum_sq = (tif.as_numpy ** 2).sum()\n",
    "        total_img_sum_sq += img_sum_sq\n",
    "        total_num_pixels += tif.num_pixels\n",
    "\n",
    "    pixel_mean = total_img_sum / total_num_pixels\n",
    "    pixel_var  = (total_img_sum_sq / total_num_pixels) - (pixel_mean ** 2)\n",
    "    pixel_std  = np.sqrt(pixel_var)\n",
    "\n",
    "    return {\"pixel_mean\": pixel_mean, \"pixel_std\": pixel_std}"
   ]
  },
  {
   "cell_type": "code",
   "execution_count": 14,
   "id": "4fc1a1d6-a4db-467c-a35d-02d1120e0aa8",
   "metadata": {},
   "outputs": [
    {
     "data": {
      "text/plain": [
       "{'pixel_mean': 0.05085699993716811, 'pixel_std': 0.11708163676291265}"
      ]
     },
     "execution_count": 14,
     "metadata": {},
     "output_type": "execute_result"
    }
   ],
   "source": [
    "norm_values = pixel_mean_std(*img_fp)\n",
    "norm_values"
   ]
  },
  {
   "cell_type": "markdown",
   "id": "3c0f86c2-8d2e-4952-9dd0-7ae25bbb6791",
   "metadata": {},
   "source": [
    "## Prepare y-data"
   ]
  },
  {
   "cell_type": "code",
   "execution_count": 15,
   "id": "4e8ce5ea-9799-4c65-9548-c2cdb4f43188",
   "metadata": {},
   "outputs": [
    {
     "data": {
      "text/html": [
       "<div>\n",
       "<style scoped>\n",
       "    .dataframe tbody tr th:only-of-type {\n",
       "        vertical-align: middle;\n",
       "    }\n",
       "\n",
       "    .dataframe tbody tr th {\n",
       "        vertical-align: top;\n",
       "    }\n",
       "\n",
       "    .dataframe thead th {\n",
       "        text-align: right;\n",
       "    }\n",
       "</style>\n",
       "<table border=\"1\" class=\"dataframe\">\n",
       "  <thead>\n",
       "    <tr style=\"text-align: right;\">\n",
       "      <th>gage</th>\n",
       "      <th>11185500</th>\n",
       "      <th>11189500</th>\n",
       "      <th>11202710</th>\n",
       "      <th>11208000</th>\n",
       "      <th>11266500</th>\n",
       "      <th>11318500</th>\n",
       "      <th>11402000</th>\n",
       "    </tr>\n",
       "    <tr>\n",
       "      <th>time</th>\n",
       "      <th></th>\n",
       "      <th></th>\n",
       "      <th></th>\n",
       "      <th></th>\n",
       "      <th></th>\n",
       "      <th></th>\n",
       "      <th></th>\n",
       "    </tr>\n",
       "  </thead>\n",
       "  <tbody>\n",
       "    <tr>\n",
       "      <th>2018-09-26</th>\n",
       "      <td>1.217624</td>\n",
       "      <td>0.080986</td>\n",
       "      <td>0.622971</td>\n",
       "      <td>0.127426</td>\n",
       "      <td>0.563505</td>\n",
       "      <td>0.136204</td>\n",
       "      <td>0.654119</td>\n",
       "    </tr>\n",
       "    <tr>\n",
       "      <th>2018-09-27</th>\n",
       "      <td>1.217624</td>\n",
       "      <td>0.078721</td>\n",
       "      <td>0.594654</td>\n",
       "      <td>0.127426</td>\n",
       "      <td>0.555010</td>\n",
       "      <td>0.132240</td>\n",
       "      <td>0.645624</td>\n",
       "    </tr>\n",
       "    <tr>\n",
       "      <th>2018-09-28</th>\n",
       "      <td>1.217624</td>\n",
       "      <td>0.084667</td>\n",
       "      <td>0.594654</td>\n",
       "      <td>0.124594</td>\n",
       "      <td>0.543683</td>\n",
       "      <td>0.129691</td>\n",
       "      <td>0.591822</td>\n",
       "    </tr>\n",
       "    <tr>\n",
       "      <th>2018-09-29</th>\n",
       "      <td>1.217624</td>\n",
       "      <td>0.088349</td>\n",
       "      <td>0.622971</td>\n",
       "      <td>0.127426</td>\n",
       "      <td>0.535188</td>\n",
       "      <td>0.132240</td>\n",
       "      <td>0.492713</td>\n",
       "    </tr>\n",
       "    <tr>\n",
       "      <th>2018-09-30</th>\n",
       "      <td>0.566337</td>\n",
       "      <td>0.094578</td>\n",
       "      <td>0.622971</td>\n",
       "      <td>0.127426</td>\n",
       "      <td>0.532357</td>\n",
       "      <td>0.141867</td>\n",
       "      <td>0.521030</td>\n",
       "    </tr>\n",
       "  </tbody>\n",
       "</table>\n",
       "</div>"
      ],
      "text/plain": [
       "gage        11185500  11189500  11202710  11208000  11266500  11318500  \\\n",
       "time                                                                     \n",
       "2018-09-26  1.217624  0.080986  0.622971  0.127426  0.563505  0.136204   \n",
       "2018-09-27  1.217624  0.078721  0.594654  0.127426  0.555010  0.132240   \n",
       "2018-09-28  1.217624  0.084667  0.594654  0.124594  0.543683  0.129691   \n",
       "2018-09-29  1.217624  0.088349  0.622971  0.127426  0.535188  0.132240   \n",
       "2018-09-30  0.566337  0.094578  0.622971  0.127426  0.532357  0.141867   \n",
       "\n",
       "gage        11402000  \n",
       "time                  \n",
       "2018-09-26  0.654119  \n",
       "2018-09-27  0.645624  \n",
       "2018-09-28  0.591822  \n",
       "2018-09-29  0.492713  \n",
       "2018-09-30  0.521030  "
      ]
     },
     "execution_count": 15,
     "metadata": {},
     "output_type": "execute_result"
    }
   ],
   "source": [
    "y = open_y_data()\n",
    "y[\"gage\"] = y[\"gage\"].astype(str)\n",
    "y_df = pd.pivot_table(y, columns=[\"gage\"], index=\"time\", values=\"m3\", aggfunc=\"mean\")\n",
    "y_df.index = pd.to_datetime(y_df.index)\n",
    "y_df.tail()"
   ]
  },
  {
   "cell_type": "code",
   "execution_count": 16,
   "id": "df5f1038-99de-4bf4-ae2f-5084e0337fa6",
   "metadata": {},
   "outputs": [],
   "source": [
    "y_series = y_df.loc[(y_df.index >= dt_from) & (y_df.index <= (dt_to + datetime.timedelta(days=1))), gage]\n",
    "y_mean, y_std = np.mean(y_series), np.std(y_series)\n",
    "y_norm = (y_series - y_mean) / y_std"
   ]
  },
  {
   "cell_type": "markdown",
   "id": "bd568416-634d-4a3a-90d9-a835ad4fc4ac",
   "metadata": {},
   "source": [
    "## Create dataset generator"
   ]
  },
  {
   "cell_type": "code",
   "execution_count": 17,
   "id": "dd3f442d-5f73-4598-9a07-24e0b9d8696f",
   "metadata": {},
   "outputs": [],
   "source": [
    "tifs = TifDir(DEV_DIR)\n",
    "\n",
    "def image_gen():\n",
    "    for tif in tifs:\n",
    "        array = tif.as_numpy\n",
    "        norm_array = (array - norm_values[\"pixel_mean\"]) / norm_values[\"pixel_std\"]\n",
    "        file_metadata = files_df[files_df[\"filename\"] == tif.fp.split(\"/\")[-1]].iloc[0]\n",
    "        y_value = y_norm.loc[file_metadata[\"date\"] + datetime.timedelta(days=1)]\n",
    "        yield np.expand_dims(np.expand_dims(norm_array, 0), -1), np.expand_dims(np.array(y_value), 0)"
   ]
  },
  {
   "cell_type": "code",
   "execution_count": 18,
   "id": "bef6d538-e524-4aef-8f09-dab854b1efbc",
   "metadata": {},
   "outputs": [
    {
     "name": "stderr",
     "output_type": "stream",
     "text": [
      "2022-11-12 15:29:33.706264: I tensorflow/core/platform/cpu_feature_guard.cc:193] This TensorFlow binary is optimized with oneAPI Deep Neural Network Library (oneDNN) to use the following CPU instructions in performance-critical operations:  AVX2 FMA\n",
      "To enable them in other operations, rebuild TensorFlow with the appropriate compiler flags.\n"
     ]
    }
   ],
   "source": [
    "train_data = tf.data.Dataset.from_generator(\n",
    "    image_gen, \n",
    "    output_signature=(tf.TensorSpec(shape=(None, None, None, 1), dtype=tf.float32),\n",
    "                      tf.TensorSpec(shape=(1), dtype=tf.float32))\n",
    ")"
   ]
  },
  {
   "cell_type": "markdown",
   "id": "d7f06462-5a81-4d96-8fd9-b9fa4fa08fa6",
   "metadata": {},
   "source": [
    "## CNN model - 1 image input, 1 scalar output\n",
    "\n",
    "Simple CNN architecture to take in images of different sizes and convert to same length vectors with global pooling."
   ]
  },
  {
   "cell_type": "code",
   "execution_count": 19,
   "id": "24ffadaf-4742-472c-8d4c-12271ffba241",
   "metadata": {},
   "outputs": [
    {
     "name": "stdout",
     "output_type": "stream",
     "text": [
      "Model: \"model\"\n",
      "_________________________________________________________________\n",
      " Layer (type)                Output Shape              Param #   \n",
      "=================================================================\n",
      " img (InputLayer)            [(None, None, None, 1)]   0         \n",
      "                                                                 \n",
      " conv2d (Conv2D)             (None, None, None, 16)    80        \n",
      "                                                                 \n",
      " global_average_pooling2d (G  (None, 16)               0         \n",
      " lobalAveragePooling2D)                                          \n",
      "                                                                 \n",
      " dense (Dense)               (None, 16)                272       \n",
      "                                                                 \n",
      " dense_1 (Dense)             (None, 1)                 17        \n",
      "                                                                 \n",
      "=================================================================\n",
      "Total params: 369\n",
      "Trainable params: 369\n",
      "Non-trainable params: 0\n",
      "_________________________________________________________________\n"
     ]
    }
   ],
   "source": [
    "inputs = keras.Input(shape=(None, None, 1), batch_size=None, name=\"img\")\n",
    "x = layers.Conv2D(filters=16, kernel_size=(2, 2), strides=(1, 1), activation=None)(inputs)\n",
    "x = layers.GlobalAveragePooling2D(data_format=\"channels_last\", keepdims=False)(x)\n",
    "x = layers.Dense(16, activation=\"relu\")(x)\n",
    "outputs = layers.Dense(1, activation=\"linear\")(x)\n",
    "model = keras.Model(inputs=inputs, outputs=outputs)\n",
    "model.summary()"
   ]
  },
  {
   "cell_type": "code",
   "execution_count": 20,
   "id": "c80d7635-d6fb-4239-9bd8-f8761ab451a4",
   "metadata": {},
   "outputs": [
    {
     "name": "stdout",
     "output_type": "stream",
     "text": [
      "Epoch 1/15\n",
      "365/365 [==============================] - 2s 5ms/step - loss: 0.8585\n",
      "Epoch 2/15\n",
      "365/365 [==============================] - 1s 3ms/step - loss: 0.8433\n",
      "Epoch 3/15\n",
      "365/365 [==============================] - 1s 3ms/step - loss: 0.8326\n",
      "Epoch 4/15\n",
      "365/365 [==============================] - 1s 3ms/step - loss: 0.8267\n",
      "Epoch 5/15\n",
      "365/365 [==============================] - 1s 3ms/step - loss: 0.8240\n",
      "Epoch 6/15\n",
      "365/365 [==============================] - 1s 3ms/step - loss: 0.8222\n",
      "Epoch 7/15\n",
      "365/365 [==============================] - 1s 3ms/step - loss: 0.8209\n",
      "Epoch 8/15\n",
      "365/365 [==============================] - 1s 3ms/step - loss: 0.8199\n",
      "Epoch 9/15\n",
      "365/365 [==============================] - 1s 3ms/step - loss: 0.8192\n",
      "Epoch 10/15\n",
      "365/365 [==============================] - 1s 3ms/step - loss: 0.8185\n",
      "Epoch 11/15\n",
      "365/365 [==============================] - 1s 3ms/step - loss: 0.8179\n",
      "Epoch 12/15\n",
      "365/365 [==============================] - 1s 3ms/step - loss: 0.8174\n",
      "Epoch 13/15\n",
      "365/365 [==============================] - 1s 3ms/step - loss: 0.8170\n",
      "Epoch 14/15\n",
      "365/365 [==============================] - 1s 3ms/step - loss: 0.8166\n",
      "Epoch 15/15\n",
      "365/365 [==============================] - 1s 3ms/step - loss: 0.8162\n"
     ]
    },
    {
     "data": {
      "text/plain": [
       "<keras.callbacks.History at 0x7fa2bec7cf10>"
      ]
     },
     "execution_count": 20,
     "metadata": {},
     "output_type": "execute_result"
    }
   ],
   "source": [
    "opt = keras.optimizers.Adam(learning_rate=0.0001)\n",
    "model.compile(optimizer=opt, loss=\"mean_squared_error\")\n",
    "model.fit(train_data, epochs=15, batch_size=8)"
   ]
  },
  {
   "cell_type": "markdown",
   "id": "321ab92e-f028-463a-a89f-6ffb048ce748",
   "metadata": {},
   "source": [
    "## CNN model - image sequence input + Global Average Pooling\n",
    "\n",
    "Similar to simple model above, but inputs are a sequence of images e.g. 1 week's data for a single satellite source."
   ]
  },
  {
   "cell_type": "code",
   "execution_count": 21,
   "id": "d57d1e40-f805-4760-b00d-fece6fe64920",
   "metadata": {},
   "outputs": [
    {
     "name": "stdout",
     "output_type": "stream",
     "text": [
      "Model: \"model_1\"\n",
      "_________________________________________________________________\n",
      " Layer (type)                Output Shape              Param #   \n",
      "=================================================================\n",
      " img_seq (InputLayer)        [(None, 7, None, None, 1  0         \n",
      "                             )]                                  \n",
      "                                                                 \n",
      " conv2d (TimeDistributed)    (None, 7, None, None, 16  80        \n",
      "                             )                                   \n",
      "                                                                 \n",
      " global_pooling (TimeDistrib  (None, 7, 16)            0         \n",
      " uted)                                                           \n",
      "                                                                 \n",
      "=================================================================\n",
      "Total params: 80\n",
      "Trainable params: 80\n",
      "Non-trainable params: 0\n",
      "_________________________________________________________________\n"
     ]
    }
   ],
   "source": [
    "# First number 7 is number of images in sequence:\n",
    "inputs = keras.Input(shape=(7, None, None, 1), batch_size=None, name=\"img_seq\")\n",
    "conv_2d_layer = layers.Conv2D(filters=16, kernel_size=(2, 2), strides=(1, 1), activation=None)\n",
    "x = layers.TimeDistributed(conv_2d_layer, name=\"conv2d\")(inputs)\n",
    "pooling_layer = layers.GlobalAveragePooling2D(data_format=\"channels_last\", keepdims=False)\n",
    "outputs = layers.TimeDistributed(pooling_layer, name=\"global_pooling\")(x)\n",
    "model = keras.Model(inputs=inputs, outputs=outputs)\n",
    "model.summary()"
   ]
  },
  {
   "cell_type": "markdown",
   "id": "a25b040f-92cd-47e2-9bed-77cc68b5f9c3",
   "metadata": {},
   "source": [
    "## Transformer Encoder"
   ]
  },
  {
   "cell_type": "code",
   "execution_count": 22,
   "id": "936d22eb-a889-4387-8f47-92943cd9f953",
   "metadata": {},
   "outputs": [
    {
     "name": "stdout",
     "output_type": "stream",
     "text": [
      "Model: \"model_2\"\n",
      "_________________________________________________________________\n",
      " Layer (type)                Output Shape              Param #   \n",
      "=================================================================\n",
      " img_seq (InputLayer)        [(None, 7, None, None, 1  0         \n",
      "                             )]                                  \n",
      "                                                                 \n",
      " conv2d (TimeDistributed)    (None, 7, None, None, 16  80        \n",
      "                             )                                   \n",
      "                                                                 \n",
      " global_pooling (TimeDistrib  (None, 7, 16)            0         \n",
      " uted)                                                           \n",
      "                                                                 \n",
      " transformer_encoder (Transf  (None, 7, 16)            3296      \n",
      " ormerEncoder)                                                   \n",
      "                                                                 \n",
      "=================================================================\n",
      "Total params: 3,376\n",
      "Trainable params: 3,376\n",
      "Non-trainable params: 0\n",
      "_________________________________________________________________\n"
     ]
    }
   ],
   "source": [
    "class TransformerEncoder(layers.Layer):\n",
    "    def __init__(self, embed_dim, dense_dim, num_heads, **kwargs):\n",
    "        super().__init__(**kwargs)\n",
    "        self.embed_dim = embed_dim\n",
    "        self.dense_dim = dense_dim\n",
    "        self.num_heads = num_heads\n",
    "        self.attention = layers.MultiHeadAttention(\n",
    "            num_heads=num_heads, key_dim=embed_dim)\n",
    "        self.dense_proj = keras.Sequential(\n",
    "            [layers.Dense(dense_dim, activation=\"relu\"),\n",
    "             layers.Dense(embed_dim),]\n",
    "        )\n",
    "        self.layernorm_1 = layers.LayerNormalization()\n",
    "        self.layernorm_2 = layers.LayerNormalization()\n",
    "\n",
    "    def call(self, inputs, mask=None):\n",
    "        if mask is not None:\n",
    "            mask = mask[:, tf.newaxis, :]\n",
    "        attention_output = self.attention(\n",
    "            inputs, inputs, attention_mask=mask)\n",
    "        proj_input = self.layernorm_1(inputs + attention_output)\n",
    "        proj_output = self.dense_proj(proj_input)\n",
    "        return self.layernorm_2(proj_input + proj_output)\n",
    "\n",
    "    def get_config(self):\n",
    "        config = super().get_config()\n",
    "        config.update({\n",
    "            \"embed_dim\": self.embed_dim,\n",
    "            \"num_heads\": self.num_heads,\n",
    "            \"dense_dim\": self.dense_dim,\n",
    "        })\n",
    "        return config\n",
    "\n",
    "    \n",
    "# First number 7 is number of images in sequence:\n",
    "inputs = keras.Input(shape=(7, None, None, 1), batch_size=None, name=\"img_seq\")\n",
    "conv_2d_layer = layers.Conv2D(filters=16, kernel_size=(2, 2), strides=(1, 1), activation=None)\n",
    "x = layers.TimeDistributed(conv_2d_layer, name=\"conv2d\")(inputs)\n",
    "pooling_layer = layers.GlobalAveragePooling2D(data_format=\"channels_last\", keepdims=False)\n",
    "x = layers.TimeDistributed(pooling_layer, name=\"global_pooling\")(x)\n",
    "outputs = TransformerEncoder(embed_dim=16, dense_dim=32, num_heads=2)(x)\n",
    "\n",
    "# outputs = layers.Dense(14, activation=\"relu\")(x)\n",
    "# outputs = layers.Dense(1, activation=\"linear\")(x)\n",
    "model = keras.Model(inputs=inputs, outputs=outputs)\n",
    "model.summary()"
   ]
  },
  {
   "cell_type": "code",
   "execution_count": null,
   "id": "81e26cc5-29e8-4a69-9faa-4c992853b94b",
   "metadata": {},
   "outputs": [],
   "source": []
  }
 ],
 "metadata": {
  "kernelspec": {
   "display_name": "Python 3 (ipykernel)",
   "language": "python",
   "name": "python3"
  },
  "language_info": {
   "codemirror_mode": {
    "name": "ipython",
    "version": 3
   },
   "file_extension": ".py",
   "mimetype": "text/x-python",
   "name": "python",
   "nbconvert_exporter": "python",
   "pygments_lexer": "ipython3",
   "version": "3.9.2"
  }
 },
 "nbformat": 4,
 "nbformat_minor": 5
}
