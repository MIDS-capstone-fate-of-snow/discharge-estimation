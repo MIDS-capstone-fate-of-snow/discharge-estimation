{
 "cells": [
  {
   "cell_type": "code",
   "execution_count": 1,
   "id": "fdfca476-deb2-4aa8-8962-ddbd72bc1dd2",
   "metadata": {},
   "outputs": [
    {
     "ename": "DeprecationWarning",
     "evalue": "",
     "output_type": "error",
     "traceback": [
      "\u001b[0;31m---------------------------------------------------------------------------\u001b[0m",
      "\u001b[0;31mDeprecationWarning\u001b[0m                        Traceback (most recent call last)",
      "Cell \u001b[0;32mIn [1], line 1\u001b[0m\n\u001b[0;32m----> 1\u001b[0m \u001b[38;5;28;01mraise\u001b[39;00m \u001b[38;5;167;01mDeprecationWarning\u001b[39;00m()\n",
      "\u001b[0;31mDeprecationWarning\u001b[0m: "
     ]
    }
   ],
   "source": [
    "raise DeprecationWarning()"
   ]
  },
  {
   "cell_type": "code",
   "execution_count": null,
   "id": "8370b435-e7ca-480c-9e94-e662bd78d4d4",
   "metadata": {},
   "outputs": [],
   "source": []
  }
 ],
 "metadata": {
  "kernelspec": {
   "display_name": "Python 3 (ipykernel)",
   "language": "python",
   "name": "python3"
  },
  "language_info": {
   "codemirror_mode": {
    "name": "ipython",
    "version": 3
   },
   "file_extension": ".py",
   "mimetype": "text/x-python",
   "name": "python",
   "nbconvert_exporter": "python",
   "pygments_lexer": "ipython3",
   "version": "3.9.2"
  }
 },
 "nbformat": 4,
 "nbformat_minor": 5
}
