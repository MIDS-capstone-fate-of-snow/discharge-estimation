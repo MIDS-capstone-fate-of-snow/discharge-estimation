{
 "cells": [
  {
   "cell_type": "markdown",
   "id": "254c957d-9bbc-4d6b-a613-dd1543589538",
   "metadata": {},
   "source": [
    "# Aggregate Pixel Values"
   ]
  },
  {
   "cell_type": "code",
   "execution_count": 1,
   "id": "5ea1d640-0a55-4446-ab89-347afb44835b",
   "metadata": {},
   "outputs": [],
   "source": [
    "\n",
    "import os\n",
    "import sys\n",
    "sys.path.append(os.path.join(os.path.dirname(os.getcwd()), \"code\"))\n",
    "\n",
    "from discharge_api import *\n",
    "\n",
    "\n",
    "DATA_DIR = os.path.join(os.path.dirname(os.getcwd()), \"data\")\n",
    "BUCKET = \"w210-snow-fate\"\n",
    "GDRIVE_KEYS = os.path.join(os.path.expanduser(\"~\"), \"snow-capstone-4a3c9603fcf0.json\")\n",
    "SERVICE_ACCT = \"capstone-gee-account@snow-capstone.iam.gserviceaccount.com\"\n",
    "\n",
    "api = DischargeAPI(\n",
    "    local_data_dir=DATA_DIR, \n",
    "    s3_bucket=BUCKET, \n",
    "    gdrive_keys=GDRIVE_KEYS,\n",
    "    service_account=SERVICE_ACCT\n",
    ")"
   ]
  },
  {
   "cell_type": "markdown",
   "id": "3e196621-4f55-4af1-9b6f-1e699fda38d5",
   "metadata": {},
   "source": [
    "Function below will query the AWS S3 bucket for all images for a streamgage from a specific satellite band, and then compute the aggregate statistics (mean, sum, min, max) for each and save to csv locally:"
   ]
  },
  {
   "cell_type": "code",
   "execution_count": 4,
   "id": "a25c756f-9223-40eb-aa28-2ad7d6eee132",
   "metadata": {},
   "outputs": [
    {
     "name": "stderr",
     "output_type": "stream",
     "text": [
      " 11%|██████████████▊                                                                                                                       | 56/506 [00:20<03:05,  2.42it/s]/Users/tp/projects/discharge-estimation/code/tif_files.py:48: RuntimeWarning: Mean of empty slice\n",
      "  return np.nanmean(self.as_numpy)\n",
      "/Users/tp/projects/discharge-estimation/code/tif_files.py:68: RuntimeWarning: All-NaN slice encountered\n",
      "  return np.nanmin(self.as_numpy)\n",
      "/Users/tp/projects/discharge-estimation/code/tif_files.py:78: RuntimeWarning: All-NaN slice encountered\n",
      "  return np.nanmax(self.as_numpy)\n",
      "100%|█████████████████████████████████████████████████████████████████████████████████████████████████████████████████████████████████████| 506/506 [03:15<00:00,  2.58it/s]\n"
     ]
    },
    {
     "name": "stdout",
     "output_type": "stream",
     "text": [
      "506 rows saved to CSV: /Users/tp/projects/discharge-estimation/data/MODIS_006_MOD16A2/ET/11402000__MODIS_006_MOD16A2__ET.csv\n"
     ]
    },
    {
     "name": "stderr",
     "output_type": "stream",
     "text": [
      "  9%|████████████▋                                                                                                                         | 48/506 [00:17<03:05,  2.47it/s]/Users/tp/projects/discharge-estimation/code/tif_files.py:48: RuntimeWarning: Mean of empty slice\n",
      "  return np.nanmean(self.as_numpy)\n",
      "/Users/tp/projects/discharge-estimation/code/tif_files.py:68: RuntimeWarning: All-NaN slice encountered\n",
      "  return np.nanmin(self.as_numpy)\n",
      "/Users/tp/projects/discharge-estimation/code/tif_files.py:78: RuntimeWarning: All-NaN slice encountered\n",
      "  return np.nanmax(self.as_numpy)\n",
      "100%|█████████████████████████████████████████████████████████████████████████████████████████████████████████████████████████████████████| 506/506 [03:07<00:00,  2.70it/s]"
     ]
    },
    {
     "name": "stdout",
     "output_type": "stream",
     "text": [
      "506 rows saved to CSV: /Users/tp/projects/discharge-estimation/data/MODIS_006_MOD16A2/ET/11266500__MODIS_006_MOD16A2__ET.csv\n"
     ]
    },
    {
     "name": "stderr",
     "output_type": "stream",
     "text": [
      "\n"
     ]
    }
   ],
   "source": [
    "csv_paths = list()\n",
    "for gage in (\"11402000\", \"11266500\", ):\n",
    "    for sat, band in [(\"MODIS_006_MOD16A2\", \"ET\"), ]:\n",
    "        fp = api.create_pixel_agg_csv(\n",
    "            gage=gage,\n",
    "            sat_name=sat,\n",
    "            band=band\n",
    "        )\n",
    "        csv_paths.append(fp)"
   ]
  },
  {
   "cell_type": "code",
   "execution_count": null,
   "id": "372e8100-17f4-481e-9381-76d195d4e197",
   "metadata": {},
   "outputs": [],
   "source": []
  }
 ],
 "metadata": {
  "kernelspec": {
   "display_name": "Python 3 (ipykernel)",
   "language": "python",
   "name": "python3"
  },
  "language_info": {
   "codemirror_mode": {
    "name": "ipython",
    "version": 3
   },
   "file_extension": ".py",
   "mimetype": "text/x-python",
   "name": "python",
   "nbconvert_exporter": "python",
   "pygments_lexer": "ipython3",
   "version": "3.9.2"
  }
 },
 "nbformat": 4,
 "nbformat_minor": 5
}
