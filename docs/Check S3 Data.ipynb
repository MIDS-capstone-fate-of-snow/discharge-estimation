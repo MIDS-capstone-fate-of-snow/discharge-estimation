{
 "cells": [
  {
   "cell_type": "markdown",
   "id": "d9d49e4d-f372-4cf5-8093-e32ecdc417ff",
   "metadata": {},
   "source": [
    "# Check S3 Data"
   ]
  },
  {
   "cell_type": "code",
   "execution_count": 1,
   "id": "3658f544-67d4-42ba-b426-5988a7502620",
   "metadata": {},
   "outputs": [],
   "source": [
    "# Required imports:\n",
    "import os\n",
    "import sys\n",
    "sys.path.append(os.path.join(os.path.dirname(os.getcwd()), \"code\"))\n",
    "\n",
    "from aws_s3_client import *\n",
    "\n",
    "\n",
    "DATA_DIR = os.path.join(os.path.dirname(os.getcwd()), \"data\")\n",
    "BUCKET = \"w210-snow-fate\"\n",
    "\n",
    "s3 = S3Client(DATA_DIR, BUCKET)"
   ]
  },
  {
   "cell_type": "markdown",
   "id": "db723730-e28c-4450-a7a7-fd26ade6a4fb",
   "metadata": {},
   "source": [
    "## Get a report of the status of a gage's data in S3"
   ]
  },
  {
   "cell_type": "code",
   "execution_count": 2,
   "id": "75c9a6af-4a42-463d-9a64-f91857306b42",
   "metadata": {},
   "outputs": [],
   "source": [
    "gage_name = \"11266500\"\n",
    "date_from = \"2010_01_01\"\n",
    "date_to = \"2010_12_31\"\n",
    "\n",
    "report = s3.gage_data_report(gage_name, date_from, date_to)"
   ]
  },
  {
   "cell_type": "code",
   "execution_count": 3,
   "id": "d5597fe8-6b70-4d00-96fb-c2a43935d932",
   "metadata": {},
   "outputs": [
    {
     "data": {
      "text/plain": [
       "{'total_precipitation': set(), 'temperature_2m': set(), 'ET': set()}"
      ]
     },
     "execution_count": 3,
     "metadata": {},
     "output_type": "execute_result"
    }
   ],
   "source": [
    "# See which files are missing for each satellite band:\n",
    "{k: v[\"missing_dates\"] for k, v in report.items()}"
   ]
  },
  {
   "cell_type": "markdown",
   "id": "e373bb79-e681-44cc-8441-3e363459f96f",
   "metadata": {},
   "source": [
    "## Get reports for all gages"
   ]
  },
  {
   "cell_type": "code",
   "execution_count": 4,
   "id": "26d9e4fc-0b4e-4132-b001-2cd5aa99c622",
   "metadata": {},
   "outputs": [],
   "source": [
    "date_from = \"2010_01_01\"\n",
    "date_to = \"2020_12_31\"\n",
    "gages = [11185500, 11189500, 11202710, 11208000, 11266500, 11318500, 11402000]\n",
    "reports = dict()\n",
    "for gage_name in gages:\n",
    "    report = s3.gage_data_report(str(gage_name), date_from, date_to)\n",
    "    reports[str(gage_name)] = report"
   ]
  },
  {
   "cell_type": "markdown",
   "id": "aea3498f-cb30-4ce5-ae50-3deadd035bbd",
   "metadata": {},
   "source": [
    "## Identify missing data in S3"
   ]
  },
  {
   "cell_type": "code",
   "execution_count": 5,
   "id": "8ddaf147-0a47-4952-b13d-88f1e1bf4378",
   "metadata": {},
   "outputs": [],
   "source": [
    "missing_dates = dict()\n",
    "for gage, report in reports.items():\n",
    "    for band, data in report.items():\n",
    "        if data[\"missing_dates\"]:\n",
    "            missing_dates[(gage, band)] = data"
   ]
  },
  {
   "cell_type": "code",
   "execution_count": 6,
   "id": "f5b1412e-080f-40fe-8e93-858f3bd62d56",
   "metadata": {},
   "outputs": [
    {
     "data": {
      "text/plain": [
       "dict_keys([])"
      ]
     },
     "execution_count": 6,
     "metadata": {},
     "output_type": "execute_result"
    }
   ],
   "source": [
    "missing_dates.keys()"
   ]
  },
  {
   "cell_type": "code",
   "execution_count": 7,
   "id": "618cbaa5-4e08-4720-a519-fe996a1df9f9",
   "metadata": {},
   "outputs": [],
   "source": [
    "for k, v in missing_dates.items():\n",
    "    print(k)\n",
    "    print(min(missing_dates[k][\"missing_dates\"]))\n",
    "    print(max(missing_dates[k][\"missing_dates\"]))\n",
    "    print()"
   ]
  },
  {
   "cell_type": "markdown",
   "id": "0ad35eaa-9077-4485-9e4b-5bc093368ad1",
   "metadata": {},
   "source": [
    "## Identify duplicate images in S3"
   ]
  },
  {
   "cell_type": "code",
   "execution_count": 8,
   "id": "e83650a3-f9b3-4b4b-a9ea-62a5ba312edc",
   "metadata": {},
   "outputs": [
    {
     "data": {
      "text/plain": [
       "[]"
      ]
     },
     "execution_count": 8,
     "metadata": {},
     "output_type": "execute_result"
    }
   ],
   "source": [
    "has_dupes = list()\n",
    "for gage, values in reports.items():\n",
    "    for band, data in values.items():\n",
    "        if data[\"has_dupes\"]:\n",
    "            has_dupes.append((gage, band))\n",
    "has_dupes"
   ]
  },
  {
   "cell_type": "markdown",
   "id": "bc6bc8b7-b1cf-4516-a6a7-b95e3322685c",
   "metadata": {},
   "source": [
    "## Delete duplicate images on S3"
   ]
  },
  {
   "cell_type": "code",
   "execution_count": 9,
   "id": "22e467ec-ecee-4b88-a5e5-27f80d3c3235",
   "metadata": {},
   "outputs": [],
   "source": [
    "import numpy as np\n",
    "\n",
    "for gage, band in has_dupes:\n",
    "    \n",
    "    dupes = reports[gage][band][\"dupes\"]\n",
    "    \n",
    "    files = s3.list_gee_tif_files(gage)\n",
    "    \n",
    "    dupe_files = files[\n",
    "        (files[\"band\"] == band) &\n",
    "        (files[\"date\"].isin(dupes.index))\n",
    "    ]\n",
    "    dupe_files = dupe_files.sort_values(by=[\"satellite\", \"band\", \"date\", \"size\", \"last_modified_date\"], \n",
    "                                        ascending=[True, True, True, False, False]).reset_index(drop=True)\n",
    "    dupe_files[\"delete\"] = np.where(\n",
    "        (dupe_files[\"satellite\"] == dupe_files.shift(1)[\"satellite\"]) & \n",
    "        (dupe_files[\"band\"] == dupe_files.shift(1)[\"band\"]) & \n",
    "        (dupe_files[\"date\"] == dupe_files.shift(1)[\"date\"]) &\n",
    "        (dupe_files[\"scale\"] == dupe_files.shift(1)[\"scale\"]),\n",
    "        1, 0)\n",
    "    assert dupe_files[\"delete\"].sum() <= len(dupe_files) / 2\n",
    "    to_delete = dupe_files[dupe_files[\"delete\"] == 1][\"filepath\"].values\n",
    "    \n",
    "    s3.delete_s3_file(*to_delete)"
   ]
  },
  {
   "cell_type": "code",
   "execution_count": null,
   "id": "77c47a5b-58ff-4e43-9e34-7914c207147e",
   "metadata": {},
   "outputs": [],
   "source": []
  }
 ],
 "metadata": {
  "kernelspec": {
   "display_name": "Python 3 (ipykernel)",
   "language": "python",
   "name": "python3"
  },
  "language_info": {
   "codemirror_mode": {
    "name": "ipython",
    "version": 3
   },
   "file_extension": ".py",
   "mimetype": "text/x-python",
   "name": "python",
   "nbconvert_exporter": "python",
   "pygments_lexer": "ipython3",
   "version": "3.9.2"
  }
 },
 "nbformat": 4,
 "nbformat_minor": 5
}
