{
 "cells": [
  {
   "cell_type": "markdown",
   "id": "ad80c02b-bc97-4e84-8ed7-425208a2f8bf",
   "metadata": {},
   "source": [
    "# Normalize `y` by Watershed Area\n",
    "\n",
    "Calculate normalized values of the outcome y-columns `ft` and `m3`, by dividing by the gage watershed areas."
   ]
  },
  {
   "cell_type": "code",
   "execution_count": 1,
   "id": "ff7d9e3b-eb47-4762-be64-46075f0cb0fd",
   "metadata": {},
   "outputs": [],
   "source": [
    "\n",
    "import os\n",
    "import sys\n",
    "\n",
    "import pandas as pd\n",
    "\n",
    "sys.path.append(os.path.join(os.path.dirname(os.getcwd()), \"code\"))\n",
    "from usgs_drainage_areas import USGSDrainageArea\n",
    "from utils import get_usgs_site_info\n",
    "\n",
    "\n",
    "DATA_DIR = os.path.join(os.path.dirname(os.getcwd()), \"data\")"
   ]
  },
  {
   "cell_type": "code",
   "execution_count": 2,
   "id": "6ce8e600-b775-4b72-9543-5f5357ba6c99",
   "metadata": {},
   "outputs": [],
   "source": [
    "# Calculate the drainage areas for each gage:\n",
    "GAGES = ['11402000', '11318500', '11266500', '11208000', '11202710', '11185500', '11189500']\n",
    "\n",
    "drainage_areas = dict()\n",
    "for gage in GAGES:\n",
    "    fp = os.path.join(DATA_DIR, \"usgs_basins\", f\"{gage}.geojson\")\n",
    "    drainage_areas[gage] = USGSDrainageArea(fp)"
   ]
  },
  {
   "cell_type": "code",
   "execution_count": 3,
   "id": "ae3f5378-6cfc-428f-95f5-a074b863c9a8",
   "metadata": {},
   "outputs": [],
   "source": [
    "# Load the y-variable CSV:\n",
    "fp = os.path.join(DATA_DIR, \"streamgage-full.csv\")\n",
    "df = pd.read_csv(fp, encoding=\"utf-8\")\n",
    "df[\"gage\"] = df[\"gage\"].astype(str)"
   ]
  },
  {
   "cell_type": "code",
   "execution_count": 4,
   "id": "23d7e0f4-c7e0-40e2-add9-45efe15fd9fb",
   "metadata": {},
   "outputs": [],
   "source": [
    "# Get the data in each unit of m/km/miles:\n",
    "areas_m = {k: v.area_m for k, v in drainage_areas.items()}\n",
    "areas_km = {k: v.area_km for k, v in drainage_areas.items()}\n",
    "areas_miles = {k: v.area_miles for k, v in drainage_areas.items()}"
   ]
  },
  {
   "cell_type": "code",
   "execution_count": 5,
   "id": "2f1bba6d-80c0-4331-abe3-3b83509c078f",
   "metadata": {},
   "outputs": [],
   "source": [
    "# Add the normalized columns to the dataframe:\n",
    "for y_col in (\"ft\", \"m3\"):\n",
    "    for unit, data in zip((\"m\", \"km\", \"miles\"), (areas_m, areas_km, areas_miles)):\n",
    "        label = f\"area_{unit}\"\n",
    "        df[label] = df[\"gage\"].map(data)\n",
    "        df[f\"{y_col}_per_{label}\"] = df[y_col] / df[label]"
   ]
  },
  {
   "cell_type": "code",
   "execution_count": 6,
   "id": "bfdf0eec-276e-43ec-b3c8-92532c71aabe",
   "metadata": {},
   "outputs": [
    {
     "data": {
      "text/plain": [
       "gage                    0\n",
       "time                    0\n",
       "ft                   3709\n",
       "m3                   3653\n",
       "area_m                  0\n",
       "ft_per_area_m        3709\n",
       "area_km                 0\n",
       "ft_per_area_km       3709\n",
       "area_miles              0\n",
       "ft_per_area_miles    3709\n",
       "m3_per_area_m        3653\n",
       "m3_per_area_km       3653\n",
       "m3_per_area_miles    3653\n",
       "dtype: int64"
      ]
     },
     "execution_count": 6,
     "metadata": {},
     "output_type": "execute_result"
    }
   ],
   "source": [
    "# Check how many null values there are:\n",
    "df.isna().astype(int).sum()"
   ]
  },
  {
   "cell_type": "code",
   "execution_count": 7,
   "id": "b503d81a-bd30-4b98-93c2-64bd095392e5",
   "metadata": {},
   "outputs": [],
   "source": [
    "# Save the CSV:\n",
    "df.to_csv(fp, encoding=\"utf-8\", index=False)"
   ]
  }
 ],
 "metadata": {
  "kernelspec": {
   "display_name": "Python 3 (ipykernel)",
   "language": "python",
   "name": "python3"
  },
  "language_info": {
   "codemirror_mode": {
    "name": "ipython",
    "version": 3
   },
   "file_extension": ".py",
   "mimetype": "text/x-python",
   "name": "python",
   "nbconvert_exporter": "python",
   "pygments_lexer": "ipython3",
   "version": "3.9.2"
  }
 },
 "nbformat": 4,
 "nbformat_minor": 5
}
