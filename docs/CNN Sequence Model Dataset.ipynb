{
 "cells": [
  {
   "cell_type": "markdown",
   "id": "eba410b7-4195-47cd-82b5-2bd1f9300bf9",
   "metadata": {},
   "source": [
    "# CNN Sequence Model Dataset\n",
    "\n",
    "This notebook shows how to use the `CNNSeqDataset` class to generate training datasets for the CNN Sequence image models. It requires that the image data has been download to the local machine first; see the notebook __Download Training Data from S3__ for instructions on how to do that."
   ]
  },
  {
   "cell_type": "code",
   "execution_count": 1,
   "id": "d927839d-50f4-4745-9a9e-8a270e6c08d7",
   "metadata": {},
   "outputs": [],
   "source": [
    "# Required imports:\n",
    "\n",
    "import os\n",
    "import sys\n",
    "\n",
    "sys.path.append(os.path.join(\"..\", \"code\"))\n",
    "from cnn_model import *\n",
    "\n",
    "\n",
    "DIR = os.getcwd()\n",
    "DATA_DIR = os.path.join(os.path.dirname(DIR), \"data\")\n",
    "TRAIN_DIR = os.path.join(DATA_DIR, \"training_data\")\n",
    "DEV_DIR = os.path.join(DATA_DIR, \"img_dir\")"
   ]
  },
  {
   "cell_type": "markdown",
   "id": "f87307cb-c863-4859-9d52-d6b70c9a6845",
   "metadata": {},
   "source": [
    "### Check the docstring"
   ]
  },
  {
   "cell_type": "code",
   "execution_count": 2,
   "id": "c88fdd94-b2ea-4b0b-b8a3-25cca89dc273",
   "metadata": {},
   "outputs": [
    {
     "data": {
      "text/plain": [
       "\u001b[0;31mInit signature:\u001b[0m\n",
       "\u001b[0mCNNSeqDataset\u001b[0m\u001b[0;34m(\u001b[0m\u001b[0;34m\u001b[0m\n",
       "\u001b[0;34m\u001b[0m    \u001b[0mprecip_dirs\u001b[0m\u001b[0;34m:\u001b[0m \u001b[0mlist\u001b[0m\u001b[0;34m,\u001b[0m\u001b[0;34m\u001b[0m\n",
       "\u001b[0;34m\u001b[0m    \u001b[0mtemp_dirs\u001b[0m\u001b[0;34m:\u001b[0m \u001b[0mlist\u001b[0m\u001b[0;34m,\u001b[0m\u001b[0;34m\u001b[0m\n",
       "\u001b[0;34m\u001b[0m    \u001b[0met_dirs\u001b[0m\u001b[0;34m:\u001b[0m \u001b[0mlist\u001b[0m\u001b[0;34m,\u001b[0m\u001b[0;34m\u001b[0m\n",
       "\u001b[0;34m\u001b[0m    \u001b[0mswe_dirs\u001b[0m\u001b[0;34m:\u001b[0m \u001b[0mlist\u001b[0m\u001b[0;34m,\u001b[0m\u001b[0;34m\u001b[0m\n",
       "\u001b[0;34m\u001b[0m    \u001b[0my_fp\u001b[0m\u001b[0;34m:\u001b[0m \u001b[0mstr\u001b[0m\u001b[0;34m,\u001b[0m\u001b[0;34m\u001b[0m\n",
       "\u001b[0;34m\u001b[0m    \u001b[0my_col\u001b[0m\u001b[0;34m:\u001b[0m \u001b[0mstr\u001b[0m \u001b[0;34m=\u001b[0m \u001b[0;34m'm3'\u001b[0m\u001b[0;34m,\u001b[0m\u001b[0;34m\u001b[0m\n",
       "\u001b[0;34m\u001b[0m    \u001b[0mn_d_precip\u001b[0m\u001b[0;34m:\u001b[0m \u001b[0mint\u001b[0m \u001b[0;34m=\u001b[0m \u001b[0;36m7\u001b[0m\u001b[0;34m,\u001b[0m\u001b[0;34m\u001b[0m\n",
       "\u001b[0;34m\u001b[0m    \u001b[0mn_d_temp\u001b[0m\u001b[0;34m:\u001b[0m \u001b[0mint\u001b[0m \u001b[0;34m=\u001b[0m \u001b[0;36m7\u001b[0m\u001b[0;34m,\u001b[0m\u001b[0;34m\u001b[0m\n",
       "\u001b[0;34m\u001b[0m    \u001b[0mn_d_et\u001b[0m\u001b[0;34m:\u001b[0m \u001b[0mint\u001b[0m \u001b[0;34m=\u001b[0m \u001b[0;36m8\u001b[0m\u001b[0;34m,\u001b[0m\u001b[0;34m\u001b[0m\n",
       "\u001b[0;34m\u001b[0m    \u001b[0mswe_d_rel\u001b[0m\u001b[0;34m:\u001b[0m \u001b[0mlist\u001b[0m \u001b[0;34m=\u001b[0m \u001b[0mrange\u001b[0m\u001b[0;34m(\u001b[0m\u001b[0;36m7\u001b[0m\u001b[0;34m,\u001b[0m \u001b[0;36m85\u001b[0m\u001b[0;34m,\u001b[0m \u001b[0;36m7\u001b[0m\u001b[0;34m)\u001b[0m\u001b[0;34m,\u001b[0m\u001b[0;34m\u001b[0m\n",
       "\u001b[0;34m\u001b[0m    \u001b[0mn_d_y\u001b[0m\u001b[0;34m:\u001b[0m \u001b[0mint\u001b[0m \u001b[0;34m=\u001b[0m \u001b[0;36m14\u001b[0m\u001b[0;34m,\u001b[0m\u001b[0;34m\u001b[0m\n",
       "\u001b[0;34m\u001b[0m    \u001b[0mmin_date\u001b[0m\u001b[0;34m:\u001b[0m \u001b[0mstr\u001b[0m \u001b[0;34m=\u001b[0m \u001b[0;34m'2010_01_01'\u001b[0m\u001b[0;34m,\u001b[0m\u001b[0;34m\u001b[0m\n",
       "\u001b[0;34m\u001b[0m    \u001b[0mmax_date\u001b[0m\u001b[0;34m:\u001b[0m \u001b[0mstr\u001b[0m \u001b[0;34m=\u001b[0m \u001b[0;34m'2016_12_31'\u001b[0m\u001b[0;34m,\u001b[0m\u001b[0;34m\u001b[0m\n",
       "\u001b[0;34m\u001b[0m    \u001b[0mval_start\u001b[0m\u001b[0;34m:\u001b[0m \u001b[0mstr\u001b[0m \u001b[0;34m=\u001b[0m \u001b[0;34m'2015_01_01'\u001b[0m\u001b[0;34m,\u001b[0m\u001b[0;34m\u001b[0m\n",
       "\u001b[0;34m\u001b[0m    \u001b[0mtest_start\u001b[0m\u001b[0;34m:\u001b[0m \u001b[0mstr\u001b[0m \u001b[0;34m=\u001b[0m \u001b[0;34m'2016_01_01'\u001b[0m\u001b[0;34m,\u001b[0m\u001b[0;34m\u001b[0m\n",
       "\u001b[0;34m\u001b[0m\u001b[0;34m)\u001b[0m\u001b[0;34m\u001b[0m\u001b[0;34m\u001b[0m\u001b[0m\n",
       "\u001b[0;31mDocstring:\u001b[0m      <no docstring>\n",
       "\u001b[0;31mInit docstring:\u001b[0m\n",
       "Construct image training dataset for training CNN sequence models.\n",
       "\n",
       "Args:\n",
       "    precip_dirs: directory(/ies) where precipitation images are saved.\n",
       "    temp_dirs: directory(/ies) where temperature images are saved.\n",
       "    et_dirs: directory(/ies) where ET images are saved.\n",
       "    swe_dirs: directory(/ies) where SWE images are saved.\n",
       "    y_fp: full filepath to CSV of streamgage measurement outcome data.\n",
       "    y_col: column in `y_fp` to use as the outcome variable.\n",
       "    n_d_precip: number of days to look back for precipitation images.\n",
       "    n_d_temp: number of days to look back for temperature images.\n",
       "    n_d_et: number of days to look back for ET images (since they are\n",
       "        only every 8 days, must be at least 8).\n",
       "    swe_d_rel: specific days back in the past to select SWE images from.\n",
       "    n_d_y: number of days forward to predict y measurements for.\n",
       "    min_date: global minimum training dataset date.\n",
       "    max_date: global maximum training dataset date.\n",
       "    val_start: date cutoff to start the validation set at.\n",
       "    test_start: date cutoff to start the test set at.\n",
       "\u001b[0;31mFile:\u001b[0m           ~/projects/discharge-estimation/code/cnn_model.py\n",
       "\u001b[0;31mType:\u001b[0m           type\n",
       "\u001b[0;31mSubclasses:\u001b[0m     \n"
      ]
     },
     "metadata": {},
     "output_type": "display_data"
    }
   ],
   "source": [
    "CNNSeqDataset?"
   ]
  },
  {
   "cell_type": "markdown",
   "id": "cab73f5e-df88-4611-8a29-162bec3bda6f",
   "metadata": {},
   "source": [
    "### Create an instance"
   ]
  },
  {
   "cell_type": "code",
   "execution_count": 3,
   "id": "36ffa748-16cc-44fc-bfce-ccf91aa54bff",
   "metadata": {},
   "outputs": [],
   "source": [
    "DIR = os.getcwd()\n",
    "DATA_DIR = os.path.join(os.path.dirname(DIR), \"data\")\n",
    "TRAIN_DIR = os.path.join(DATA_DIR, \"training_data\")\n",
    "Y_FP = os.path.join(DATA_DIR, \"streamgage-full.csv\")\n",
    "\n",
    "cnn_data = CNNSeqDataset(\n",
    "    \n",
    "    precip_dirs = [TRAIN_DIR],\n",
    "    temp_dirs = [TRAIN_DIR],\n",
    "    et_dirs = [TRAIN_DIR],\n",
    "    swe_dirs = [TRAIN_DIR],\n",
    "    \n",
    "    y_fp = Y_FP,\n",
    "    y_col = 'm3',\n",
    "\n",
    "    n_d_precip = 7,\n",
    "    n_d_temp = 7,\n",
    "    n_d_et = 8,\n",
    "    swe_d_rel = (7, 14, 21, 28),\n",
    "    n_d_y = 14,\n",
    "    \n",
    "    min_date = '2010_01_01',\n",
    "    max_date = '2016_12_31',\n",
    "    val_start = '2015_01_01',\n",
    "    test_start = '2016_01_01',\n",
    ")"
   ]
  },
  {
   "cell_type": "markdown",
   "id": "7997b431-453d-4c81-97f5-c1cf683a685b",
   "metadata": {},
   "source": [
    "### Create the filepath generator"
   ]
  },
  {
   "cell_type": "code",
   "execution_count": 4,
   "id": "c8f6cbe6-3c12-4dfe-8a92-5aed61221534",
   "metadata": {},
   "outputs": [],
   "source": [
    "gen = cnn_data.dataset_generator()"
   ]
  },
  {
   "cell_type": "code",
   "execution_count": 5,
   "id": "ece25113-f96e-4628-a844-f8fa5c1bdf5b",
   "metadata": {},
   "outputs": [],
   "source": [
    "# Example usage:\n",
    "next(gen)"
   ]
  },
  {
   "cell_type": "code",
   "execution_count": null,
   "id": "1a0e4d32-8200-44f1-96a4-7481a8c48214",
   "metadata": {},
   "outputs": [],
   "source": []
  }
 ],
 "metadata": {
  "kernelspec": {
   "display_name": "Python 3 (ipykernel)",
   "language": "python",
   "name": "python3"
  },
  "language_info": {
   "codemirror_mode": {
    "name": "ipython",
    "version": 3
   },
   "file_extension": ".py",
   "mimetype": "text/x-python",
   "name": "python",
   "nbconvert_exporter": "python",
   "pygments_lexer": "ipython3",
   "version": "3.9.2"
  }
 },
 "nbformat": 4,
 "nbformat_minor": 5
}
