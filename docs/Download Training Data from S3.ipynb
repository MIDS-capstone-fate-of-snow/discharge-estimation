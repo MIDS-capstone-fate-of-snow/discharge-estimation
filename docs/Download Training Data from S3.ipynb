{
 "cells": [
  {
   "cell_type": "markdown",
   "id": "d9d49e4d-f372-4cf5-8093-e32ecdc417ff",
   "metadata": {},
   "source": [
    "# Download Training Data from S3"
   ]
  },
  {
   "cell_type": "code",
   "execution_count": 1,
   "id": "3658f544-67d4-42ba-b426-5988a7502620",
   "metadata": {},
   "outputs": [],
   "source": [
    "# Required imports:\n",
    "import os\n",
    "import sys\n",
    "sys.path.append(os.path.join(os.path.dirname(os.getcwd()), \"code\"))\n",
    "\n",
    "from aws_s3_client import *\n",
    "\n",
    "\n",
    "DATA_DIR = os.path.join(os.path.dirname(os.getcwd()), \"data\")\n",
    "BUCKET = \"w210-snow-fate\"\n",
    "\n",
    "s3 = S3Client(DATA_DIR, BUCKET)"
   ]
  },
  {
   "cell_type": "markdown",
   "id": "b51c8d11-28be-474a-bdb5-7d3bdfc890fb",
   "metadata": {},
   "source": [
    "Specify which gage you want data for and the date parameters:"
   ]
  },
  {
   "cell_type": "code",
   "execution_count": 4,
   "id": "46143491-8725-43b4-a7b3-5e6fd25903e3",
   "metadata": {},
   "outputs": [],
   "source": [
    "gage_name = \"11402000\"\n",
    "date_from = \"2010_01_01\"\n",
    "date_to = \"2020_12_31\""
   ]
  },
  {
   "cell_type": "markdown",
   "id": "db723730-e28c-4450-a7a7-fd26ade6a4fb",
   "metadata": {},
   "source": [
    "Get a report of the status of the gage's data in S3:"
   ]
  },
  {
   "cell_type": "code",
   "execution_count": 5,
   "id": "75c9a6af-4a42-463d-9a64-f91857306b42",
   "metadata": {},
   "outputs": [],
   "source": [
    "report = s3.gage_data_report(gage_name, date_from, date_to)"
   ]
  },
  {
   "cell_type": "code",
   "execution_count": 7,
   "id": "d5597fe8-6b70-4d00-96fb-c2a43935d932",
   "metadata": {},
   "outputs": [
    {
     "data": {
      "text/plain": [
       "{'total_precipitation': set(), 'temperature_2m': set(), 'ET': set()}"
      ]
     },
     "execution_count": 7,
     "metadata": {},
     "output_type": "execute_result"
    }
   ],
   "source": [
    "# See which files are missing for each satellite band:\n",
    "{k: v[\"missing_dates\"] for k, v in report.items()}"
   ]
  },
  {
   "cell_type": "markdown",
   "id": "c3b62b1d-361d-4b01-a377-555764764a7c",
   "metadata": {},
   "source": [
    "Download the training data to the local data directory:"
   ]
  },
  {
   "cell_type": "code",
   "execution_count": null,
   "id": "32106aeb-cd48-4067-a386-ea954eef578f",
   "metadata": {},
   "outputs": [],
   "source": [
    "s3.download_training_data(gage_name, date_from=date_from, date_to=date_to, skip_existing=True)"
   ]
  },
  {
   "cell_type": "markdown",
   "id": "5531dcb2-b090-43b9-949c-ae30f3e08e61",
   "metadata": {},
   "source": [
    "Directory where files will be downloaded to:"
   ]
  },
  {
   "cell_type": "code",
   "execution_count": 11,
   "id": "08bab266-0675-49b6-ba92-ee8d04ab020a",
   "metadata": {},
   "outputs": [
    {
     "data": {
      "text/plain": [
       "'/Users/tp/projects/discharge-estimation/data/training_data/raw/11402000'"
      ]
     },
     "execution_count": 11,
     "metadata": {},
     "output_type": "execute_result"
    }
   ],
   "source": [
    "fp = os.path.join(DATA_DIR, \"training_data\", \"raw\", gage_name)\n",
    "fp"
   ]
  },
  {
   "cell_type": "code",
   "execution_count": 13,
   "id": "85ed418b-02ca-4f3a-bced-096311334f4b",
   "metadata": {},
   "outputs": [
    {
     "data": {
      "text/plain": [
       "['EPSG_4326__11131_95__ECMWF_ERA5_LAND_HOURLY__total_precipitation__2014_11_18.tif',\n",
       " 'EPSG_4326__11131_95__ECMWF_ERA5_LAND_HOURLY__total_precipitation__2016_07_03.tif',\n",
       " 'EPSG_4326__11131_95__ECMWF_ERA5_LAND_HOURLY__total_precipitation__2016_07_17.tif',\n",
       " 'EPSG_4326__11131_95__ECMWF_ERA5_LAND_HOURLY__total_precipitation__2016_09_12.tif',\n",
       " 'EPSG_4326__11131_95__ECMWF_ERA5_LAND_HOURLY__total_precipitation__2015_10_13.tif',\n",
       " 'EPSG_4326__11131_95__ECMWF_ERA5_LAND_HOURLY__total_precipitation__2014_11_24.tif',\n",
       " 'EPSG_4326__11131_95__ECMWF_ERA5_LAND_HOURLY__total_precipitation__2015_10_07.tif',\n",
       " 'EPSG_4326__11131_95__ECMWF_ERA5_LAND_HOURLY__total_precipitation__2016_09_06.tif',\n",
       " 'EPSG_4326__11131_95__ECMWF_ERA5_LAND_HOURLY__total_precipitation__2014_11_30.tif',\n",
       " 'EPSG_4326__11131_95__ECMWF_ERA5_LAND_HOURLY__total_precipitation__2013_05_09.tif']"
      ]
     },
     "execution_count": 13,
     "metadata": {},
     "output_type": "execute_result"
    }
   ],
   "source": [
    "os.listdir(fp)[:10]"
   ]
  },
  {
   "cell_type": "code",
   "execution_count": null,
   "id": "26d9e4fc-0b4e-4132-b001-2cd5aa99c622",
   "metadata": {},
   "outputs": [],
   "source": []
  }
 ],
 "metadata": {
  "kernelspec": {
   "display_name": "Python 3 (ipykernel)",
   "language": "python",
   "name": "python3"
  },
  "language_info": {
   "codemirror_mode": {
    "name": "ipython",
    "version": 3
   },
   "file_extension": ".py",
   "mimetype": "text/x-python",
   "name": "python",
   "nbconvert_exporter": "python",
   "pygments_lexer": "ipython3",
   "version": "3.9.2"
  }
 },
 "nbformat": 4,
 "nbformat_minor": 5
}
