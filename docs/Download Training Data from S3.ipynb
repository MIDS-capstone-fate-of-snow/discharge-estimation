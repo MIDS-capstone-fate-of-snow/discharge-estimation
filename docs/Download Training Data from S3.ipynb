{
 "cells": [
  {
   "cell_type": "markdown",
   "id": "d9d49e4d-f372-4cf5-8093-e32ecdc417ff",
   "metadata": {},
   "source": [
    "# Download Training Data from S3"
   ]
  },
  {
   "cell_type": "code",
   "execution_count": 1,
   "id": "3658f544-67d4-42ba-b426-5988a7502620",
   "metadata": {},
   "outputs": [],
   "source": [
    "# Required imports:\n",
    "import os\n",
    "import sys\n",
    "sys.path.append(os.path.join(os.path.dirname(os.getcwd()), \"code\"))\n",
    "\n",
    "from aws_s3_client import *\n",
    "\n",
    "\n",
    "DATA_DIR = os.path.join(os.path.dirname(os.getcwd()), \"data\")\n",
    "BUCKET = \"w210-snow-fate\"\n",
    "\n",
    "s3 = S3Client(DATA_DIR, BUCKET)"
   ]
  },
  {
   "cell_type": "markdown",
   "id": "b51c8d11-28be-474a-bdb5-7d3bdfc890fb",
   "metadata": {},
   "source": [
    "## Specify parameters for data to download"
   ]
  },
  {
   "cell_type": "code",
   "execution_count": 2,
   "id": "46143491-8725-43b4-a7b3-5e6fd25903e3",
   "metadata": {},
   "outputs": [],
   "source": [
    "# Which streamgages' data to download:\n",
    "gages = [\"11185500\", \"11189500\", \"11202710\", \"11208000\", \"11266500\", \"11318500\", \"11402000\"]\n",
    "\n",
    "# Start and end dates of images to download:\n",
    "date_from = \"2010_01_01\"\n",
    "date_to = \"2016_12_31\"\n",
    "\n",
    "# Location where data will be downloaded to:\n",
    "target_dir = os.path.join(DATA_DIR, \"training_data\")"
   ]
  },
  {
   "cell_type": "code",
   "execution_count": 3,
   "id": "cdf8b31e-8f8b-4b0a-84fe-47d33b82a77b",
   "metadata": {},
   "outputs": [
    {
     "name": "stdout",
     "output_type": "stream",
     "text": [
      "/tf/toby/discharge-estimation/data/training_data\n"
     ]
    }
   ],
   "source": [
    "print(target_dir)"
   ]
  },
  {
   "cell_type": "markdown",
   "id": "b77daab3-6195-4f2a-9241-d017cc040828",
   "metadata": {},
   "source": [
    "## Download the files from S3 to local"
   ]
  },
  {
   "cell_type": "code",
   "execution_count": 4,
   "id": "e25df6c2-2d05-4466-af91-396968f3a633",
   "metadata": {},
   "outputs": [
    {
     "name": "stdout",
     "output_type": "stream",
     "text": [
      "Downloading 11185500, total_precipitation data to /tf/toby/discharge-estimation/data/training_data\n"
     ]
    },
    {
     "name": "stderr",
     "output_type": "stream",
     "text": [
      "100%|██████████| 2557/2557 [06:47<00:00,  6.28it/s]\n"
     ]
    },
    {
     "name": "stdout",
     "output_type": "stream",
     "text": [
      "Downloading 11185500, temperature_2m data to /tf/toby/discharge-estimation/data/training_data\n"
     ]
    },
    {
     "name": "stderr",
     "output_type": "stream",
     "text": [
      "100%|██████████| 2557/2557 [06:59<00:00,  6.09it/s] \n"
     ]
    },
    {
     "name": "stdout",
     "output_type": "stream",
     "text": [
      "Downloading 11185500, ET data to /tf/toby/discharge-estimation/data/training_data\n"
     ]
    },
    {
     "name": "stderr",
     "output_type": "stream",
     "text": [
      "100%|██████████| 322/322 [00:51<00:00,  6.25it/s]\n"
     ]
    },
    {
     "name": "stdout",
     "output_type": "stream",
     "text": [
      "Downloading 11185500, SWE data to /tf/toby/discharge-estimation/data/training_data\n"
     ]
    },
    {
     "name": "stderr",
     "output_type": "stream",
     "text": [
      "100%|██████████| 2557/2557 [15:20<00:00,  2.78it/s] \n"
     ]
    },
    {
     "name": "stdout",
     "output_type": "stream",
     "text": [
      "Downloading 11189500, total_precipitation data to /tf/toby/discharge-estimation/data/training_data\n"
     ]
    },
    {
     "name": "stderr",
     "output_type": "stream",
     "text": [
      "100%|██████████| 2557/2557 [06:45<00:00,  6.31it/s]\n"
     ]
    },
    {
     "name": "stdout",
     "output_type": "stream",
     "text": [
      "Downloading 11189500, temperature_2m data to /tf/toby/discharge-estimation/data/training_data\n"
     ]
    },
    {
     "name": "stderr",
     "output_type": "stream",
     "text": [
      "100%|██████████| 2557/2557 [06:39<00:00,  6.41it/s]\n"
     ]
    },
    {
     "name": "stdout",
     "output_type": "stream",
     "text": [
      "Downloading 11189500, ET data to /tf/toby/discharge-estimation/data/training_data\n"
     ]
    },
    {
     "name": "stderr",
     "output_type": "stream",
     "text": [
      "100%|██████████| 322/322 [00:49<00:00,  6.50it/s]\n"
     ]
    },
    {
     "name": "stdout",
     "output_type": "stream",
     "text": [
      "Downloading 11189500, SWE data to /tf/toby/discharge-estimation/data/training_data\n"
     ]
    },
    {
     "name": "stderr",
     "output_type": "stream",
     "text": [
      "100%|██████████| 2557/2557 [09:04<00:00,  4.70it/s]\n"
     ]
    },
    {
     "name": "stdout",
     "output_type": "stream",
     "text": [
      "Downloading 11202710, total_precipitation data to /tf/toby/discharge-estimation/data/training_data\n"
     ]
    },
    {
     "name": "stderr",
     "output_type": "stream",
     "text": [
      "100%|██████████| 2557/2557 [06:44<00:00,  6.32it/s]\n"
     ]
    },
    {
     "name": "stdout",
     "output_type": "stream",
     "text": [
      "Downloading 11202710, temperature_2m data to /tf/toby/discharge-estimation/data/training_data\n"
     ]
    },
    {
     "name": "stderr",
     "output_type": "stream",
     "text": [
      "100%|██████████| 2557/2557 [07:41<00:00,  5.54it/s]  \n"
     ]
    },
    {
     "name": "stdout",
     "output_type": "stream",
     "text": [
      "Downloading 11202710, ET data to /tf/toby/discharge-estimation/data/training_data\n"
     ]
    },
    {
     "name": "stderr",
     "output_type": "stream",
     "text": [
      "100%|██████████| 322/322 [00:49<00:00,  6.53it/s]\n"
     ]
    },
    {
     "name": "stdout",
     "output_type": "stream",
     "text": [
      "Downloading 11202710, SWE data to /tf/toby/discharge-estimation/data/training_data\n"
     ]
    },
    {
     "name": "stderr",
     "output_type": "stream",
     "text": [
      "100%|██████████| 2557/2557 [08:34<00:00,  4.97it/s]\n"
     ]
    },
    {
     "name": "stdout",
     "output_type": "stream",
     "text": [
      "Downloading 11208000, total_precipitation data to /tf/toby/discharge-estimation/data/training_data\n"
     ]
    },
    {
     "name": "stderr",
     "output_type": "stream",
     "text": [
      "100%|██████████| 2557/2557 [06:42<00:00,  6.35it/s]\n"
     ]
    },
    {
     "name": "stdout",
     "output_type": "stream",
     "text": [
      "Downloading 11208000, temperature_2m data to /tf/toby/discharge-estimation/data/training_data\n"
     ]
    },
    {
     "name": "stderr",
     "output_type": "stream",
     "text": [
      "100%|██████████| 2557/2557 [08:55<00:00,  4.78it/s]\n"
     ]
    },
    {
     "name": "stdout",
     "output_type": "stream",
     "text": [
      "Downloading 11318500, total_precipitation data to /tf/toby/discharge-estimation/data/training_data\n"
     ]
    },
    {
     "name": "stderr",
     "output_type": "stream",
     "text": [
      "100%|██████████| 2557/2557 [06:36<00:00,  6.44it/s] \n"
     ]
    },
    {
     "name": "stdout",
     "output_type": "stream",
     "text": [
      "Downloading 11318500, temperature_2m data to /tf/toby/discharge-estimation/data/training_data\n"
     ]
    },
    {
     "name": "stderr",
     "output_type": "stream",
     "text": [
      "100%|██████████| 2557/2557 [09:39<00:00,  4.42it/s]  \n"
     ]
    },
    {
     "name": "stdout",
     "output_type": "stream",
     "text": [
      "Downloading 11318500, ET data to /tf/toby/discharge-estimation/data/training_data\n"
     ]
    },
    {
     "name": "stderr",
     "output_type": "stream",
     "text": [
      "100%|██████████| 322/322 [00:51<00:00,  6.22it/s]\n"
     ]
    },
    {
     "name": "stdout",
     "output_type": "stream",
     "text": [
      "Downloading 11318500, SWE data to /tf/toby/discharge-estimation/data/training_data\n"
     ]
    },
    {
     "name": "stderr",
     "output_type": "stream",
     "text": [
      "100%|██████████| 2557/2557 [09:10<00:00,  4.64it/s]\n"
     ]
    },
    {
     "name": "stdout",
     "output_type": "stream",
     "text": [
      "Downloading 11402000, total_precipitation data to /tf/toby/discharge-estimation/data/training_data\n"
     ]
    },
    {
     "name": "stderr",
     "output_type": "stream",
     "text": [
      "100%|██████████| 2557/2557 [06:54<00:00,  6.17it/s]\n"
     ]
    },
    {
     "name": "stdout",
     "output_type": "stream",
     "text": [
      "Downloading 11402000, temperature_2m data to /tf/toby/discharge-estimation/data/training_data\n"
     ]
    },
    {
     "name": "stderr",
     "output_type": "stream",
     "text": [
      "100%|██████████| 2557/2557 [06:57<00:00,  6.13it/s]\n"
     ]
    },
    {
     "name": "stdout",
     "output_type": "stream",
     "text": [
      "Downloading 11402000, ET data to /tf/toby/discharge-estimation/data/training_data\n"
     ]
    },
    {
     "name": "stderr",
     "output_type": "stream",
     "text": [
      "100%|██████████| 322/322 [00:53<00:00,  5.98it/s]\n"
     ]
    },
    {
     "name": "stdout",
     "output_type": "stream",
     "text": [
      "Downloading 11402000, SWE data to /tf/toby/discharge-estimation/data/training_data\n"
     ]
    },
    {
     "name": "stderr",
     "output_type": "stream",
     "text": [
      "100%|██████████| 2557/2557 [09:37<00:00,  4.43it/s]\n"
     ]
    }
   ],
   "source": [
    "for gage in gages:\n",
    "    s3.download_training_data(gage, date_from=date_from, date_to=date_to, \n",
    "                              skip_existing=True, target_dir=target_dir)"
   ]
  },
  {
   "cell_type": "code",
   "execution_count": null,
   "id": "879d7c18-b519-4271-acc0-f18b964ba4c1",
   "metadata": {},
   "outputs": [],
   "source": []
  }
 ],
 "metadata": {
  "kernelspec": {
   "display_name": "Python 3",
   "language": "python",
   "name": "python3"
  },
  "language_info": {
   "codemirror_mode": {
    "name": "ipython",
    "version": 3
   },
   "file_extension": ".py",
   "mimetype": "text/x-python",
   "name": "python",
   "nbconvert_exporter": "python",
   "pygments_lexer": "ipython3",
   "version": "3.8.10"
  }
 },
 "nbformat": 4,
 "nbformat_minor": 5
}
