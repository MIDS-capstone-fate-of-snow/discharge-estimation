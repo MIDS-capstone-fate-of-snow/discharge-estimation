{
 "cells": [
  {
   "cell_type": "markdown",
   "id": "d9d49e4d-f372-4cf5-8093-e32ecdc417ff",
   "metadata": {},
   "source": [
    "# Download Training Data from S3"
   ]
  },
  {
   "cell_type": "code",
   "execution_count": 1,
   "id": "3658f544-67d4-42ba-b426-5988a7502620",
   "metadata": {},
   "outputs": [],
   "source": [
    "# Required imports:\n",
    "import os\n",
    "import sys\n",
    "sys.path.append(os.path.join(os.path.dirname(os.getcwd()), \"code\"))\n",
    "\n",
    "from aws_s3_client import *\n",
    "\n",
    "\n",
    "DATA_DIR = os.path.join(os.path.dirname(os.getcwd()), \"data\")\n",
    "BUCKET = \"w210-snow-fate\"\n",
    "\n",
    "s3 = S3Client(DATA_DIR, BUCKET)"
   ]
  },
  {
   "cell_type": "markdown",
   "id": "b51c8d11-28be-474a-bdb5-7d3bdfc890fb",
   "metadata": {},
   "source": [
    "## Specify parameters for data to download"
   ]
  },
  {
   "cell_type": "code",
   "execution_count": 2,
   "id": "46143491-8725-43b4-a7b3-5e6fd25903e3",
   "metadata": {},
   "outputs": [],
   "source": [
    "# Which streamgages' data to download:\n",
    "gages = [\"11185500\", \"11189500\", \"11202710\", \"11208000\", \"11266500\", \"11318500\", \"11402000\"]\n",
    "\n",
    "# Start and end dates of images to download:\n",
    "date_from = \"2010_01_01\"\n",
    "date_to = \"2010_06_30\"\n",
    "\n",
    "# Location where data will be downloaded to:\n",
    "target_dir = os.path.join(DATA_DIR, \"training_data\")"
   ]
  },
  {
   "cell_type": "markdown",
   "id": "b77daab3-6195-4f2a-9241-d017cc040828",
   "metadata": {},
   "source": [
    "## Download the files from S3 to local"
   ]
  },
  {
   "cell_type": "code",
   "execution_count": 3,
   "id": "e25df6c2-2d05-4466-af91-396968f3a633",
   "metadata": {},
   "outputs": [
    {
     "name": "stdout",
     "output_type": "stream",
     "text": [
      "Downloading 11185500, total_precipitation data to /Users/tp/projects/discharge-estimation/data/training_data\n"
     ]
    },
    {
     "name": "stderr",
     "output_type": "stream",
     "text": [
      "100%|█████████████████████████████████████████████████████████████████████████████████████████████████████████████████████████████████████| 181/181 [00:49<00:00,  3.64it/s]\n"
     ]
    },
    {
     "name": "stdout",
     "output_type": "stream",
     "text": [
      "Downloading 11185500, temperature_2m data to /Users/tp/projects/discharge-estimation/data/training_data\n"
     ]
    },
    {
     "name": "stderr",
     "output_type": "stream",
     "text": [
      "100%|█████████████████████████████████████████████████████████████████████████████████████████████████████████████████████████████████████| 181/181 [00:53<00:00,  3.37it/s]\n"
     ]
    },
    {
     "name": "stdout",
     "output_type": "stream",
     "text": [
      "Downloading 11185500, ET data to /Users/tp/projects/discharge-estimation/data/training_data\n"
     ]
    },
    {
     "name": "stderr",
     "output_type": "stream",
     "text": [
      "100%|███████████████████████████████████████████████████████████████████████████████████████████████████████████████████████████████████████| 23/23 [00:07<00:00,  3.14it/s]\n"
     ]
    },
    {
     "name": "stdout",
     "output_type": "stream",
     "text": [
      "Downloading 11185500, SWE data to /Users/tp/projects/discharge-estimation/data/training_data\n"
     ]
    },
    {
     "name": "stderr",
     "output_type": "stream",
     "text": [
      "100%|█████████████████████████████████████████████████████████████████████████████████████████████████████████████████████████████████████| 181/181 [01:44<00:00,  1.73it/s]\n"
     ]
    },
    {
     "name": "stdout",
     "output_type": "stream",
     "text": [
      "Downloading 11189500, total_precipitation data to /Users/tp/projects/discharge-estimation/data/training_data\n"
     ]
    },
    {
     "name": "stderr",
     "output_type": "stream",
     "text": [
      "100%|█████████████████████████████████████████████████████████████████████████████████████████████████████████████████████████████████████| 181/181 [00:53<00:00,  3.40it/s]\n"
     ]
    },
    {
     "name": "stdout",
     "output_type": "stream",
     "text": [
      "Downloading 11189500, temperature_2m data to /Users/tp/projects/discharge-estimation/data/training_data\n"
     ]
    },
    {
     "name": "stderr",
     "output_type": "stream",
     "text": [
      "100%|█████████████████████████████████████████████████████████████████████████████████████████████████████████████████████████████████████| 181/181 [00:51<00:00,  3.52it/s]\n"
     ]
    },
    {
     "name": "stdout",
     "output_type": "stream",
     "text": [
      "Downloading 11189500, ET data to /Users/tp/projects/discharge-estimation/data/training_data\n"
     ]
    },
    {
     "name": "stderr",
     "output_type": "stream",
     "text": [
      "100%|███████████████████████████████████████████████████████████████████████████████████████████████████████████████████████████████████████| 23/23 [00:06<00:00,  3.51it/s]\n"
     ]
    },
    {
     "name": "stdout",
     "output_type": "stream",
     "text": [
      "Downloading 11189500, SWE data to /Users/tp/projects/discharge-estimation/data/training_data\n"
     ]
    },
    {
     "name": "stderr",
     "output_type": "stream",
     "text": [
      "100%|█████████████████████████████████████████████████████████████████████████████████████████████████████████████████████████████████████| 181/181 [01:33<00:00,  1.95it/s]\n"
     ]
    },
    {
     "name": "stdout",
     "output_type": "stream",
     "text": [
      "Downloading 11202710, total_precipitation data to /Users/tp/projects/discharge-estimation/data/training_data\n"
     ]
    },
    {
     "name": "stderr",
     "output_type": "stream",
     "text": [
      "100%|█████████████████████████████████████████████████████████████████████████████████████████████████████████████████████████████████████| 181/181 [00:50<00:00,  3.56it/s]\n"
     ]
    },
    {
     "name": "stdout",
     "output_type": "stream",
     "text": [
      "Downloading 11202710, temperature_2m data to /Users/tp/projects/discharge-estimation/data/training_data\n"
     ]
    },
    {
     "name": "stderr",
     "output_type": "stream",
     "text": [
      "100%|█████████████████████████████████████████████████████████████████████████████████████████████████████████████████████████████████████| 181/181 [00:52<00:00,  3.45it/s]\n"
     ]
    },
    {
     "name": "stdout",
     "output_type": "stream",
     "text": [
      "Downloading 11202710, ET data to /Users/tp/projects/discharge-estimation/data/training_data\n"
     ]
    },
    {
     "name": "stderr",
     "output_type": "stream",
     "text": [
      "100%|███████████████████████████████████████████████████████████████████████████████████████████████████████████████████████████████████████| 23/23 [00:06<00:00,  3.44it/s]\n"
     ]
    },
    {
     "name": "stdout",
     "output_type": "stream",
     "text": [
      "Downloading 11202710, SWE data to /Users/tp/projects/discharge-estimation/data/training_data\n"
     ]
    },
    {
     "name": "stderr",
     "output_type": "stream",
     "text": [
      "100%|█████████████████████████████████████████████████████████████████████████████████████████████████████████████████████████████████████| 181/181 [01:08<00:00,  2.66it/s]\n"
     ]
    },
    {
     "name": "stdout",
     "output_type": "stream",
     "text": [
      "Downloading 11208000, total_precipitation data to /Users/tp/projects/discharge-estimation/data/training_data\n"
     ]
    },
    {
     "name": "stderr",
     "output_type": "stream",
     "text": [
      "100%|█████████████████████████████████████████████████████████████████████████████████████████████████████████████████████████████████████| 181/181 [00:50<00:00,  3.56it/s]\n"
     ]
    },
    {
     "name": "stdout",
     "output_type": "stream",
     "text": [
      "Downloading 11208000, temperature_2m data to /Users/tp/projects/discharge-estimation/data/training_data\n"
     ]
    },
    {
     "name": "stderr",
     "output_type": "stream",
     "text": [
      "100%|█████████████████████████████████████████████████████████████████████████████████████████████████████████████████████████████████████| 181/181 [00:50<00:00,  3.57it/s]\n"
     ]
    },
    {
     "name": "stdout",
     "output_type": "stream",
     "text": [
      "Downloading 11208000, ET data to /Users/tp/projects/discharge-estimation/data/training_data\n"
     ]
    },
    {
     "name": "stderr",
     "output_type": "stream",
     "text": [
      "100%|███████████████████████████████████████████████████████████████████████████████████████████████████████████████████████████████████████| 23/23 [00:06<00:00,  3.41it/s]\n"
     ]
    },
    {
     "name": "stdout",
     "output_type": "stream",
     "text": [
      "Downloading 11208000, SWE data to /Users/tp/projects/discharge-estimation/data/training_data\n"
     ]
    },
    {
     "name": "stderr",
     "output_type": "stream",
     "text": [
      "100%|█████████████████████████████████████████████████████████████████████████████████████████████████████████████████████████████████████| 181/181 [01:18<00:00,  2.29it/s]\n"
     ]
    },
    {
     "name": "stdout",
     "output_type": "stream",
     "text": [
      "Downloading 11266500, total_precipitation data to /Users/tp/projects/discharge-estimation/data/training_data\n"
     ]
    },
    {
     "name": "stderr",
     "output_type": "stream",
     "text": [
      "100%|█████████████████████████████████████████████████████████████████████████████████████████████████████████████████████████████████████| 181/181 [00:49<00:00,  3.66it/s]\n"
     ]
    },
    {
     "name": "stdout",
     "output_type": "stream",
     "text": [
      "Downloading 11266500, temperature_2m data to /Users/tp/projects/discharge-estimation/data/training_data\n"
     ]
    },
    {
     "name": "stderr",
     "output_type": "stream",
     "text": [
      "100%|█████████████████████████████████████████████████████████████████████████████████████████████████████████████████████████████████████| 181/181 [00:50<00:00,  3.56it/s]\n"
     ]
    },
    {
     "name": "stdout",
     "output_type": "stream",
     "text": [
      "Downloading 11266500, ET data to /Users/tp/projects/discharge-estimation/data/training_data\n"
     ]
    },
    {
     "name": "stderr",
     "output_type": "stream",
     "text": [
      "100%|███████████████████████████████████████████████████████████████████████████████████████████████████████████████████████████████████████| 23/23 [00:06<00:00,  3.53it/s]\n"
     ]
    },
    {
     "name": "stdout",
     "output_type": "stream",
     "text": [
      "Downloading 11266500, SWE data to /Users/tp/projects/discharge-estimation/data/training_data\n"
     ]
    },
    {
     "name": "stderr",
     "output_type": "stream",
     "text": [
      "100%|█████████████████████████████████████████████████████████████████████████████████████████████████████████████████████████████████████| 181/181 [01:16<00:00,  2.36it/s]\n"
     ]
    },
    {
     "name": "stdout",
     "output_type": "stream",
     "text": [
      "Downloading 11318500, total_precipitation data to /Users/tp/projects/discharge-estimation/data/training_data\n"
     ]
    },
    {
     "name": "stderr",
     "output_type": "stream",
     "text": [
      "100%|█████████████████████████████████████████████████████████████████████████████████████████████████████████████████████████████████████| 181/181 [00:50<00:00,  3.61it/s]\n"
     ]
    },
    {
     "name": "stdout",
     "output_type": "stream",
     "text": [
      "Downloading 11318500, temperature_2m data to /Users/tp/projects/discharge-estimation/data/training_data\n"
     ]
    },
    {
     "name": "stderr",
     "output_type": "stream",
     "text": [
      "100%|█████████████████████████████████████████████████████████████████████████████████████████████████████████████████████████████████████| 181/181 [00:49<00:00,  3.63it/s]\n"
     ]
    },
    {
     "name": "stdout",
     "output_type": "stream",
     "text": [
      "Downloading 11318500, ET data to /Users/tp/projects/discharge-estimation/data/training_data\n"
     ]
    },
    {
     "name": "stderr",
     "output_type": "stream",
     "text": [
      "100%|███████████████████████████████████████████████████████████████████████████████████████████████████████████████████████████████████████| 23/23 [00:06<00:00,  3.61it/s]\n"
     ]
    },
    {
     "name": "stdout",
     "output_type": "stream",
     "text": [
      "Downloading 11318500, SWE data to /Users/tp/projects/discharge-estimation/data/training_data\n"
     ]
    },
    {
     "name": "stderr",
     "output_type": "stream",
     "text": [
      "100%|█████████████████████████████████████████████████████████████████████████████████████████████████████████████████████████████████████| 181/181 [01:05<00:00,  2.76it/s]\n"
     ]
    },
    {
     "name": "stdout",
     "output_type": "stream",
     "text": [
      "Downloading 11402000, total_precipitation data to /Users/tp/projects/discharge-estimation/data/training_data\n"
     ]
    },
    {
     "name": "stderr",
     "output_type": "stream",
     "text": [
      "100%|█████████████████████████████████████████████████████████████████████████████████████████████████████████████████████████████████████| 181/181 [00:50<00:00,  3.58it/s]\n"
     ]
    },
    {
     "name": "stdout",
     "output_type": "stream",
     "text": [
      "Downloading 11402000, temperature_2m data to /Users/tp/projects/discharge-estimation/data/training_data\n"
     ]
    },
    {
     "name": "stderr",
     "output_type": "stream",
     "text": [
      "100%|█████████████████████████████████████████████████████████████████████████████████████████████████████████████████████████████████████| 181/181 [00:51<00:00,  3.51it/s]\n"
     ]
    },
    {
     "name": "stdout",
     "output_type": "stream",
     "text": [
      "Downloading 11402000, ET data to /Users/tp/projects/discharge-estimation/data/training_data\n"
     ]
    },
    {
     "name": "stderr",
     "output_type": "stream",
     "text": [
      "100%|███████████████████████████████████████████████████████████████████████████████████████████████████████████████████████████████████████| 23/23 [00:06<00:00,  3.62it/s]\n"
     ]
    },
    {
     "name": "stdout",
     "output_type": "stream",
     "text": [
      "Downloading 11402000, SWE data to /Users/tp/projects/discharge-estimation/data/training_data\n"
     ]
    },
    {
     "name": "stderr",
     "output_type": "stream",
     "text": [
      "100%|█████████████████████████████████████████████████████████████████████████████████████████████████████████████████████████████████████| 181/181 [01:14<00:00,  2.44it/s]\n"
     ]
    }
   ],
   "source": [
    "for gage in gages:\n",
    "    s3.download_training_data(gage, date_from=date_from, date_to=date_to, \n",
    "                              skip_existing=True, target_dir=target_dir)"
   ]
  },
  {
   "cell_type": "code",
   "execution_count": null,
   "id": "879d7c18-b519-4271-acc0-f18b964ba4c1",
   "metadata": {},
   "outputs": [],
   "source": []
  }
 ],
 "metadata": {
  "kernelspec": {
   "display_name": "Python 3 (ipykernel)",
   "language": "python",
   "name": "python3"
  },
  "language_info": {
   "codemirror_mode": {
    "name": "ipython",
    "version": 3
   },
   "file_extension": ".py",
   "mimetype": "text/x-python",
   "name": "python",
   "nbconvert_exporter": "python",
   "pygments_lexer": "ipython3",
   "version": "3.9.2"
  }
 },
 "nbformat": 4,
 "nbformat_minor": 5
}
