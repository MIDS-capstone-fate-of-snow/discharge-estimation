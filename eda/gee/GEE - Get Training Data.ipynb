{
 "cells": [
  {
   "cell_type": "markdown",
   "id": "48bf7fd1-ea9e-475d-aff3-be5c653593a4",
   "metadata": {},
   "source": [
    "# GEE - Get Training Data\n",
    "\n",
    "Step-by-step guide to getting training data from GEE."
   ]
  },
  {
   "cell_type": "code",
   "execution_count": 1,
   "id": "ef515800-3e06-494d-a916-9619a296e693",
   "metadata": {},
   "outputs": [],
   "source": [
    "\n",
    "import datetime\n",
    "import os\n",
    "import sys\n",
    "import time\n",
    "from typing import Tuple\n",
    "\n",
    "import ee\n",
    "import pandas as pd\n",
    "import rasterio\n",
    "from shapely import affinity, geometry\n",
    "from tqdm import tqdm\n",
    "\n",
    "sys.path.append(os.path.join(\"..\", \"..\", \"code\"))\n",
    "from google_helper_functions import (\n",
    "    authenticate_gee, connect_to_service_account_gdrive, download_files_from_gdrive\n",
    ")\n",
    "from identify_watersheds import map_elevation_point, save_gee_elv_to_drive, WatershedIdentifier\n",
    "\n",
    "\n",
    "DATA_DIR = os.path.join(\"..\", \"..\", \"data\")\n",
    "gages = pd.read_csv(os.path.join(DATA_DIR, \"target_gages.csv\"), encoding=\"utf-8\")"
   ]
  },
  {
   "cell_type": "markdown",
   "id": "5fabdcc7-4151-468a-b6af-e91f621db7b7",
   "metadata": {},
   "source": [
    "## Authenticate with GEE\n",
    "\n",
    "Authenticate with GEE using stored credentials for a [service account](https://developers.google.com/earth-engine/guides/service_account)."
   ]
  },
  {
   "cell_type": "code",
   "execution_count": 2,
   "id": "2f64069e-5f69-458d-ae4b-516f2dc0fc99",
   "metadata": {},
   "outputs": [],
   "source": [
    "# Authenticate with service account:\n",
    "service_acct = \"capstone-gee-account@snow-capstone.iam.gserviceaccount.com\"\n",
    "keys = os.path.join(os.path.expanduser(\"~\"), \"snow-capstone-4a3c9603fcf0.json\")\n",
    "credentials = authenticate_gee(service_acct, keys)\n",
    "\n",
    "# Alternative manual authentication method:\n",
    "# ee.Authenticate()\n",
    "# ee.Initialize()"
   ]
  },
  {
   "cell_type": "markdown",
   "id": "80c87fcb-262a-405f-b5ab-faa36fe6e154",
   "metadata": {},
   "source": [
    "## Define geographic target area\n",
    "\n",
    "Using the watershed bounding box identified in [this notebook](../watersheds/Streamgage%2011266500%20Watershed.ipynb) as our target area:"
   ]
  },
  {
   "cell_type": "code",
   "execution_count": 3,
   "id": "538e5548-df3f-48f4-ab9c-b00ff2034aa3",
   "metadata": {},
   "outputs": [],
   "source": [
    "bounding_box = (-119.67499945485724, 37.69744157196207, -119.66583663895922, 37.71684518209905)\n",
    "left, bottom, right, top = bounding_box"
   ]
  },
  {
   "cell_type": "code",
   "execution_count": 4,
   "id": "1b0840cd-6848-4bd8-8dd0-9c53d9b8b84a",
   "metadata": {},
   "outputs": [],
   "source": [
    "def get_polygon(left: float, bottom: float, right: float, top: float, buffer_percent: float = 0.05):\n",
    "    coords = [\n",
    "        [left, top],\n",
    "        [right, top],\n",
    "        [right, bottom],\n",
    "        [left, bottom],\n",
    "        [left, top],\n",
    "    ]\n",
    "    shape = geometry.Polygon(coords)\n",
    "    if buffer_percent > 0:\n",
    "        shape = geometry.Polygon(affinity.scale(shape, xfact=(1. + buffer_percent), yfact=(1. + buffer_percent)).exterior.coords)\n",
    "    return shape"
   ]
  },
  {
   "cell_type": "code",
   "execution_count": 5,
   "id": "ea520e11-aadc-4abd-80a0-875d59cc66f8",
   "metadata": {},
   "outputs": [
    {
     "data": {
      "image/svg+xml": [
       "<svg xmlns=\"http://www.w3.org/2000/svg\" xmlns:xlink=\"http://www.w3.org/1999/xlink\" width=\"100.0\" height=\"100.0\" viewBox=\"-119.67577559926272 37.69666542755659 0.010715104708978629 0.020955898947939033\" preserveAspectRatio=\"xMinYMin meet\"><g transform=\"matrix(1,0,0,-1,0,75.41428675406112)\"><path fill-rule=\"evenodd\" fill=\"#66cc99\" stroke=\"#555555\" stroke-width=\"0.0004191179789587807\" opacity=\"0.6\" d=\"M -119.67499945485724,37.71684518209905 L -119.66583663895922,37.71684518209905 L -119.66583663895922,37.69744157196207 L -119.67499945485724,37.69744157196207 L -119.67499945485724,37.71684518209905 z\" /></g></svg>"
      ],
      "text/plain": [
       "<shapely.geometry.polygon.Polygon at 0x7fb1dba13a30>"
      ]
     },
     "execution_count": 5,
     "metadata": {},
     "output_type": "execute_result"
    }
   ],
   "source": [
    "polygon_no_buffer = get_polygon(left, bottom, right, top, buffer_percent=0.0)\n",
    "polygon_no_buffer"
   ]
  },
  {
   "cell_type": "code",
   "execution_count": 6,
   "id": "114db752-13fb-4106-9f0e-e46fd3450d80",
   "metadata": {},
   "outputs": [
    {
     "data": {
      "text/plain": [
       "[(-119.67499945485724, 37.71684518209905),\n",
       " (-119.66583663895922, 37.71684518209905),\n",
       " (-119.66583663895922, 37.69744157196207),\n",
       " (-119.67499945485724, 37.69744157196207),\n",
       " (-119.67499945485724, 37.71684518209905)]"
      ]
     },
     "execution_count": 6,
     "metadata": {},
     "output_type": "execute_result"
    }
   ],
   "source": [
    "list(polygon_no_buffer.boundary.coords)"
   ]
  },
  {
   "cell_type": "code",
   "execution_count": 7,
   "id": "f93a82df-0c93-4d5c-9332-0d523d0c4564",
   "metadata": {},
   "outputs": [
    {
     "data": {
      "text/plain": [
       "[(-119.6752285252547, 37.71733027235248),\n",
       " (-119.66560756856177, 37.71733027235248),\n",
       " (-119.66560756856177, 37.696956481708646),\n",
       " (-119.6752285252547, 37.696956481708646),\n",
       " (-119.6752285252547, 37.71733027235248)]"
      ]
     },
     "execution_count": 7,
     "metadata": {},
     "output_type": "execute_result"
    }
   ],
   "source": [
    "polygon_buffer = get_polygon(left, bottom, right, top, buffer_percent=0.05)\n",
    "list(polygon_buffer.boundary.coords)"
   ]
  },
  {
   "cell_type": "markdown",
   "id": "67c5133a-127e-440c-8c72-e7f66ec24ef6",
   "metadata": {},
   "source": [
    "## Get the GEE image collection for the target satellite bands\n",
    "\n",
    "Make the request to GEE for the target satellite and band for the bounding box region, and specified date range.\n",
    "\n",
    "(With help from [this SO post](https://stackoverflow.com/questions/67289225/download-image-from-google-earth-engine-imagecollection-to-drive))."
   ]
  },
  {
   "cell_type": "code",
   "execution_count": 8,
   "id": "013dae12-aa12-4683-a7da-36b3eb425eba",
   "metadata": {},
   "outputs": [],
   "source": [
    "DATE_FORMAT = \"%Y_%m_%d\"\n",
    "\n",
    "\n",
    "def get_ee_img_collection(sat_name: str, polygon: geometry.Polygon,\n",
    "                          date_from: str, date_to: str):\n",
    "    \"\"\"Get ee.ImageCollection for a satellite.\n",
    "    \n",
    "    \"\"\"\n",
    "    gee_polygon = ee.Geometry.Polygon(list(polygon.boundary.coords))\n",
    "    date_from, date_to = datetime.datetime.strptime(date_from, DATE_FORMAT), datetime.datetime.strptime(date_to, DATE_FORMAT)\n",
    "    return ee.ImageCollection(sat_name).filterDate(date_from, date_to).filterBounds(gee_polygon)"
   ]
  },
  {
   "cell_type": "code",
   "execution_count": 9,
   "id": "89f68bb1-6684-4d83-9dc0-945323cc8246",
   "metadata": {},
   "outputs": [],
   "source": [
    "# Get the image collection for a single year:\n",
    "ic = get_ee_img_collection(\"MODIS/006/MOD16A2\", polygon_buffer, \"2018_01_01\", \"2018_12_31\")"
   ]
  },
  {
   "cell_type": "code",
   "execution_count": 10,
   "id": "f3ccbdcc-1787-4a37-a825-2652dc644407",
   "metadata": {},
   "outputs": [
    {
     "data": {
      "text/plain": [
       "'MODIS/006/MOD16A2'"
      ]
     },
     "execution_count": 10,
     "metadata": {},
     "output_type": "execute_result"
    }
   ],
   "source": [
    "# Get the image collection metadata:\n",
    "info = ic.getInfo()\n",
    "sat_id = info[\"id\"]\n",
    "sat_id"
   ]
  },
  {
   "cell_type": "code",
   "execution_count": 11,
   "id": "c7060898-7293-4fca-931b-b765eecda2c6",
   "metadata": {},
   "outputs": [
    {
     "data": {
      "text/plain": [
       "46"
      ]
     },
     "execution_count": 11,
     "metadata": {},
     "output_type": "execute_result"
    }
   ],
   "source": [
    "# Number of images to download from the image collection:\n",
    "num_img = ic.size().getInfo()\n",
    "num_img"
   ]
  },
  {
   "cell_type": "code",
   "execution_count": 12,
   "id": "f96c1e68-e3c5-45b6-88bd-8226cf05f8fd",
   "metadata": {},
   "outputs": [
    {
     "data": {
      "text/plain": [
       "<ee.ee_list.List at 0x7fb1dbaf54f0>"
      ]
     },
     "execution_count": 12,
     "metadata": {},
     "output_type": "execute_result"
    }
   ],
   "source": [
    "# Convert to a list of images:\n",
    "img_list = ic.toList(num_img)\n",
    "img_list"
   ]
  },
  {
   "cell_type": "code",
   "execution_count": 13,
   "id": "60aafc01-c0f6-44ef-8370-4492e4968b1b",
   "metadata": {},
   "outputs": [
    {
     "data": {
      "text/plain": [
       "<ee.image.Image at 0x7fb1dbaf5970>"
      ]
     },
     "execution_count": 13,
     "metadata": {},
     "output_type": "execute_result"
    }
   ],
   "source": [
    "# Select the first image:\n",
    "img = ee.Image(img_list.get(0))\n",
    "img"
   ]
  },
  {
   "cell_type": "code",
   "execution_count": 14,
   "id": "9d7e02ce-8a2e-40ae-9c92-a88996e9f973",
   "metadata": {},
   "outputs": [
    {
     "data": {
      "text/plain": [
       "{'type': 'Date', 'value': 1514764800000}"
      ]
     },
     "execution_count": 14,
     "metadata": {},
     "output_type": "execute_result"
    }
   ],
   "source": [
    "# Date of the image:\n",
    "img_date = img.date().getInfo()\n",
    "img_date"
   ]
  },
  {
   "cell_type": "code",
   "execution_count": 15,
   "id": "0430db54-b23c-4731-988d-2fe145578f29",
   "metadata": {},
   "outputs": [
    {
     "data": {
      "text/plain": [
       "'2018_01_01'"
      ]
     },
     "execution_count": 15,
     "metadata": {},
     "output_type": "execute_result"
    }
   ],
   "source": [
    "# As a human readable date:\n",
    "hdate = datetime.datetime.utcfromtimestamp(img_date[\"value\"] / 1000).strftime(DATE_FORMAT)\n",
    "hdate"
   ]
  },
  {
   "cell_type": "code",
   "execution_count": 16,
   "id": "aec9eb2f-27f0-4962-a38e-5ed4bddf46cb",
   "metadata": {},
   "outputs": [
    {
     "data": {
      "text/plain": [
       "['ET', 'LE', 'PET', 'PLE', 'ET_QC']"
      ]
     },
     "execution_count": 16,
     "metadata": {},
     "output_type": "execute_result"
    }
   ],
   "source": [
    "# Bands available in the image collection:\n",
    "ic_bands = img.bandNames().getInfo()\n",
    "ic_bands"
   ]
  },
  {
   "cell_type": "code",
   "execution_count": 17,
   "id": "42e15f16-479c-4379-b392-cae4c88cc25b",
   "metadata": {},
   "outputs": [
    {
     "data": {
      "text/plain": [
       "<ee.image.Image at 0x7fb1dbb44e20>"
      ]
     },
     "execution_count": 17,
     "metadata": {},
     "output_type": "execute_result"
    }
   ],
   "source": [
    "# Select a band:\n",
    "band = \"ET\"\n",
    "band_et = img.select(band)\n",
    "band_et"
   ]
  },
  {
   "cell_type": "code",
   "execution_count": 18,
   "id": "c1aea05f-ad1a-42dc-a9e5-33f64ac6abd5",
   "metadata": {},
   "outputs": [
    {
     "name": "stdout",
     "output_type": "stream",
     "text": [
      "{'state': 'COMPLETED', 'description': 'Example image download epsg:4326 - 500 - ET - 2018_01_01', 'creation_timestamp_ms': 1664851490080, 'update_timestamp_ms': 1664851513354, 'start_timestamp_ms': 1664851507450, 'task_type': 'EXPORT_IMAGE', 'destination_uris': ['https://drive.google.com/#folders/1HmjhMj3AZTAaBcA529X3_fjHLVqDY52T'], 'attempt': 1, 'batch_eecu_usage_seconds': 0.037943318486213684, 'id': 'RLKNY6LPXE2FN2TV2TNAX5WU', 'name': 'projects/earthengine-legacy/operations/RLKNY6LPXE2FN2TV2TNAX5WU'}\n"
     ]
    }
   ],
   "source": [
    "# Save the band image to drive:\n",
    "gee_polygon = ee.Geometry.Polygon(list(polygon_buffer.boundary.coords))\n",
    "\n",
    "# Reproject:\n",
    "crs = \"epsg:4326\"\n",
    "scale = 500\n",
    "reprojection = band_et.reproject(crs=crs, scale=scale)\n",
    "\n",
    "filename = f\"{crs} - {scale} - {sat_id}_{band}_{hdate}\".replace(\"/\", \"_\")\n",
    "\n",
    "task = ee.batch.Export.image.toDrive(\n",
    "    reprojection.toFloat(),\n",
    "    description = f\"Example image download {crs} - {scale} - {band} - {hdate}\",\n",
    "    folder = \"test\",\n",
    "    fileNamePrefix = filename,\n",
    "    region = gee_polygon,\n",
    "    fileFormat = \"GeoTIFF\",\n",
    "    maxPixels = 1e10\n",
    ")\n",
    "task.start()\n",
    "while task.status()[\"state\"] != \"COMPLETED\":\n",
    "    time.sleep(1)\n",
    "print(task.status())"
   ]
  },
  {
   "cell_type": "code",
   "execution_count": 19,
   "id": "bdde58b5-2ea4-44f8-a03f-70ae2a6f1bd0",
   "metadata": {},
   "outputs": [
    {
     "name": "stderr",
     "output_type": "stream",
     "text": [
      "100%|█████████████████████████████████████████████████████████████████████████████████████████████████████████████████████████████████████████| 1/1 [00:00<00:00,  1.70it/s]\n"
     ]
    }
   ],
   "source": [
    "# Download the file from G:Drive to a local copy:\n",
    "drive = connect_to_service_account_gdrive(keys)\n",
    "save_to = os.path.join(DATA_DIR, \"test\")\n",
    "local_files = download_files_from_gdrive(drive, filename, save_to, download_all=True)\n",
    "tif_fp = local_files[0]"
   ]
  },
  {
   "cell_type": "code",
   "execution_count": 20,
   "id": "712a32b7-f32b-4efa-a49d-bc1ac686c77f",
   "metadata": {},
   "outputs": [
    {
     "data": {
      "image/png": "[encoded data removed]",
      "text/plain": [
       "<Figure size 640x480 with 1 Axes>"
      ]
     },
     "metadata": {},
     "output_type": "display_data"
    },
    {
     "data": {
      "text/plain": [
       "<AxesSubplot:>"
      ]
     },
     "execution_count": 20,
     "metadata": {},
     "output_type": "execute_result"
    }
   ],
   "source": [
    "# Inspect the raw TIF file:\n",
    "from rasterio.plot import show\n",
    "\n",
    "tif_data = rasterio.open(tif_fp)\n",
    "show(tif_data, with_bounds=True)"
   ]
  },
  {
   "cell_type": "markdown",
   "id": "85c793ba-cd90-40c1-b82b-21b2d73c7c31",
   "metadata": {},
   "source": [
    "## Function\n",
    "\n",
    "Wrapping everything above into a single function to download multiple images."
   ]
  },
  {
   "cell_type": "code",
   "execution_count": 37,
   "id": "1076e68b-b573-4725-a14c-f611443bca67",
   "metadata": {},
   "outputs": [],
   "source": [
    "import string\n",
    "\n",
    "punctuation_mapping = {p: \"_\" for p in string.punctuation}\n",
    "\n",
    "\n",
    "def remove_punctuation(s: str):\n",
    "    return s.translate(str.maketrans(punctuation_mapping))\n",
    "\n",
    "\n",
    "def export_image_collection_to_gdrive(\n",
    "    bounding_box: Tuple[float],\n",
    "    sat_name: str, \n",
    "    band: str,\n",
    "    date_from: str, \n",
    "    date_to: str,\n",
    "    buffer_percent: float = 0.05,\n",
    "    crs: str = \"epsg:4326\",\n",
    "    scale: float = 100\n",
    "    ):\n",
    "    \n",
    "    # Define the region of interest:\n",
    "    left, bottom, right, top = bounding_box\n",
    "    polygon = get_polygon(left, bottom, right, top, buffer_percent=buffer_percent)\n",
    "    \n",
    "    # Get the GEE image collection:\n",
    "    ic = get_ee_img_collection(sat_name=sat_name, polygon=polygon, date_from=date_from, date_to=date_to)\n",
    "    \n",
    "    # # Get the image collection metadata:\n",
    "    # info = ic.getInfo()\n",
    "    # sat_id = info[\"id\"]\n",
    "    \n",
    "    # Number of images to download from the image collection:\n",
    "    num_img = ic.size().getInfo()\n",
    "    print(f\"Satellite {sat_name}: {num_img:,.0f} images\") \n",
    "    \n",
    "    # Convert to a list of images:\n",
    "    img_list = ic.toList(num_img)\n",
    "    \n",
    "    # Export the images one by one:\n",
    "    all_tasks, filenames = list(), list()\n",
    "    for i in range(num_img):\n",
    "        \n",
    "        # Select the image:\n",
    "        img = ee.Image(img_list.get(i))\n",
    "        \n",
    "        # Date of the image:\n",
    "        img_date = img.date().getInfo()\n",
    "        hdate = datetime.datetime.utcfromtimestamp(img_date[\"value\"] / 1000).strftime(DATE_FORMAT)\n",
    "        print(f\"> Task {str(i+1).zfill(7)} - {hdate}\")\n",
    "        \n",
    "        # Select a band:\n",
    "        img_band = img.select(band)\n",
    "            \n",
    "        # Get the GEE polygon shape\n",
    "        gee_polygon = ee.Geometry.Polygon(list(polygon.boundary.coords))\n",
    "\n",
    "        # Reproject:\n",
    "        reprojection = img_band.reproject(crs=crs, scale=scale)\n",
    "        \n",
    "        # Export to G:Drive:\n",
    "        sat_name_c, crs_c, band_c, hdate_c = remove_punctuation(sat_name), remove_punctuation(crs), remove_punctuation(band), remove_punctuation(hdate)\n",
    "        filename = f\"{crs_c}__{scale}__{sat_name_c}__{band_c}__{hdate_c}\"\n",
    "        task = ee.batch.Export.image.toDrive(\n",
    "            reprojection.toFloat(),\n",
    "            description = f\"Image {filename}\",\n",
    "            folder = f\"{sat_name_c}\",\n",
    "            fileNamePrefix = filename,\n",
    "            region = gee_polygon,\n",
    "            fileFormat = \"GeoTIFF\",\n",
    "            maxPixels = 1e10\n",
    "        )\n",
    "        task.start()\n",
    "        \n",
    "        all_tasks.append(task)\n",
    "        filenames.append(filename)\n",
    "        \n",
    "    return all_tasks, filenames"
   ]
  },
  {
   "cell_type": "code",
   "execution_count": 38,
   "id": "c56d93e7-467f-46fd-8329-2139006a6ebc",
   "metadata": {},
   "outputs": [
    {
     "name": "stdout",
     "output_type": "stream",
     "text": [
      "Satellite MODIS/006/MOD16A2: 4 images\n",
      "> Exporting image 0000001 - 2018_01_01\n",
      "> Exporting image 0000002 - 2018_01_09\n",
      "> Exporting image 0000003 - 2018_01_17\n",
      "> Exporting image 0000004 - 2018_01_25\n"
     ]
    }
   ],
   "source": [
    "all_tasks, filenames = export_image_collection_to_gdrive(\n",
    "    bounding_box = (-119.67499945485724, 37.69744157196207, -119.66583663895922, 37.71684518209905),\n",
    "    sat_name = \"MODIS/006/MOD16A2\", \n",
    "    band = \"ET\",\n",
    "    date_from = \"2018_01_01\", \n",
    "    date_to = \"2018_01_31\",\n",
    "    buffer_percent = 0.05,\n",
    "    crs = \"epsg:4326\",\n",
    "    scale = 100\n",
    ")"
   ]
  },
  {
   "cell_type": "code",
   "execution_count": 43,
   "id": "c8eccf66-7ff5-403e-89b9-35b3893f0e34",
   "metadata": {},
   "outputs": [
    {
     "data": {
      "text/html": [
       "<div>\n",
       "<style scoped>\n",
       "    .dataframe tbody tr th:only-of-type {\n",
       "        vertical-align: middle;\n",
       "    }\n",
       "\n",
       "    .dataframe tbody tr th {\n",
       "        vertical-align: top;\n",
       "    }\n",
       "\n",
       "    .dataframe thead th {\n",
       "        text-align: right;\n",
       "    }\n",
       "</style>\n",
       "<table border=\"1\" class=\"dataframe\">\n",
       "  <thead>\n",
       "    <tr style=\"text-align: right;\">\n",
       "      <th></th>\n",
       "      <th>state</th>\n",
       "      <th>description</th>\n",
       "      <th>creation_timestamp_ms</th>\n",
       "      <th>update_timestamp_ms</th>\n",
       "      <th>start_timestamp_ms</th>\n",
       "      <th>task_type</th>\n",
       "      <th>destination_uris</th>\n",
       "      <th>attempt</th>\n",
       "      <th>batch_eecu_usage_seconds</th>\n",
       "      <th>id</th>\n",
       "      <th>name</th>\n",
       "      <th>filename</th>\n",
       "    </tr>\n",
       "  </thead>\n",
       "  <tbody>\n",
       "    <tr>\n",
       "      <th>0</th>\n",
       "      <td>COMPLETED</td>\n",
       "      <td>Image epsg_4326__100__MODIS_006_MOD16A2__ET__2...</td>\n",
       "      <td>1664851781838</td>\n",
       "      <td>1664851802034</td>\n",
       "      <td>1664851796202</td>\n",
       "      <td>EXPORT_IMAGE</td>\n",
       "      <td>[https://drive.google.com/#folders/1q10edbzAew...</td>\n",
       "      <td>1</td>\n",
       "      <td>0.026629</td>\n",
       "      <td>PIK5TXI5HFMF72I5CTRKTX6D</td>\n",
       "      <td>projects/earthengine-legacy/operations/PIK5TXI...</td>\n",
       "      <td>epsg_4326__100__MODIS_006_MOD16A2__ET__2018_01_01</td>\n",
       "    </tr>\n",
       "    <tr>\n",
       "      <th>1</th>\n",
       "      <td>COMPLETED</td>\n",
       "      <td>Image epsg_4326__100__MODIS_006_MOD16A2__ET__2...</td>\n",
       "      <td>1664851782423</td>\n",
       "      <td>1664851804482</td>\n",
       "      <td>1664851796928</td>\n",
       "      <td>EXPORT_IMAGE</td>\n",
       "      <td>[https://drive.google.com/#folders/1q10edbzAew...</td>\n",
       "      <td>1</td>\n",
       "      <td>0.031945</td>\n",
       "      <td>U5FFZHUZWS6AB4PJFJIRCLCU</td>\n",
       "      <td>projects/earthengine-legacy/operations/U5FFZHU...</td>\n",
       "      <td>epsg_4326__100__MODIS_006_MOD16A2__ET__2018_01_09</td>\n",
       "    </tr>\n",
       "    <tr>\n",
       "      <th>2</th>\n",
       "      <td>COMPLETED</td>\n",
       "      <td>Image epsg_4326__100__MODIS_006_MOD16A2__ET__2...</td>\n",
       "      <td>1664851783016</td>\n",
       "      <td>1664851803970</td>\n",
       "      <td>1664851797196</td>\n",
       "      <td>EXPORT_IMAGE</td>\n",
       "      <td>[https://drive.google.com/#folders/1q10edbzAew...</td>\n",
       "      <td>1</td>\n",
       "      <td>0.047755</td>\n",
       "      <td>DCO33256RYR257FWY7UPCQV4</td>\n",
       "      <td>projects/earthengine-legacy/operations/DCO3325...</td>\n",
       "      <td>epsg_4326__100__MODIS_006_MOD16A2__ET__2018_01_17</td>\n",
       "    </tr>\n",
       "    <tr>\n",
       "      <th>3</th>\n",
       "      <td>COMPLETED</td>\n",
       "      <td>Image epsg_4326__100__MODIS_006_MOD16A2__ET__2...</td>\n",
       "      <td>1664851783681</td>\n",
       "      <td>1664851804209</td>\n",
       "      <td>1664851797964</td>\n",
       "      <td>EXPORT_IMAGE</td>\n",
       "      <td>[https://drive.google.com/#folders/1q10edbzAew...</td>\n",
       "      <td>1</td>\n",
       "      <td>0.049730</td>\n",
       "      <td>7PL32UH6WBCOREN5OK6LMKV2</td>\n",
       "      <td>projects/earthengine-legacy/operations/7PL32UH...</td>\n",
       "      <td>epsg_4326__100__MODIS_006_MOD16A2__ET__2018_01_25</td>\n",
       "    </tr>\n",
       "  </tbody>\n",
       "</table>\n",
       "</div>"
      ],
      "text/plain": [
       "       state                                        description  \\\n",
       "0  COMPLETED  Image epsg_4326__100__MODIS_006_MOD16A2__ET__2...   \n",
       "1  COMPLETED  Image epsg_4326__100__MODIS_006_MOD16A2__ET__2...   \n",
       "2  COMPLETED  Image epsg_4326__100__MODIS_006_MOD16A2__ET__2...   \n",
       "3  COMPLETED  Image epsg_4326__100__MODIS_006_MOD16A2__ET__2...   \n",
       "\n",
       "   creation_timestamp_ms  update_timestamp_ms  start_timestamp_ms  \\\n",
       "0          1664851781838        1664851802034       1664851796202   \n",
       "1          1664851782423        1664851804482       1664851796928   \n",
       "2          1664851783016        1664851803970       1664851797196   \n",
       "3          1664851783681        1664851804209       1664851797964   \n",
       "\n",
       "      task_type                                   destination_uris  attempt  \\\n",
       "0  EXPORT_IMAGE  [https://drive.google.com/#folders/1q10edbzAew...        1   \n",
       "1  EXPORT_IMAGE  [https://drive.google.com/#folders/1q10edbzAew...        1   \n",
       "2  EXPORT_IMAGE  [https://drive.google.com/#folders/1q10edbzAew...        1   \n",
       "3  EXPORT_IMAGE  [https://drive.google.com/#folders/1q10edbzAew...        1   \n",
       "\n",
       "   batch_eecu_usage_seconds                        id  \\\n",
       "0                  0.026629  PIK5TXI5HFMF72I5CTRKTX6D   \n",
       "1                  0.031945  U5FFZHUZWS6AB4PJFJIRCLCU   \n",
       "2                  0.047755  DCO33256RYR257FWY7UPCQV4   \n",
       "3                  0.049730  7PL32UH6WBCOREN5OK6LMKV2   \n",
       "\n",
       "                                                name  \\\n",
       "0  projects/earthengine-legacy/operations/PIK5TXI...   \n",
       "1  projects/earthengine-legacy/operations/U5FFZHU...   \n",
       "2  projects/earthengine-legacy/operations/DCO3325...   \n",
       "3  projects/earthengine-legacy/operations/7PL32UH...   \n",
       "\n",
       "                                            filename  \n",
       "0  epsg_4326__100__MODIS_006_MOD16A2__ET__2018_01_01  \n",
       "1  epsg_4326__100__MODIS_006_MOD16A2__ET__2018_01_09  \n",
       "2  epsg_4326__100__MODIS_006_MOD16A2__ET__2018_01_17  \n",
       "3  epsg_4326__100__MODIS_006_MOD16A2__ET__2018_01_25  "
      ]
     },
     "execution_count": 43,
     "metadata": {},
     "output_type": "execute_result"
    }
   ],
   "source": [
    "task_df = pd.DataFrame([t.status() for t in all_tasks])\n",
    "task_df[\"filename\"] = filenames\n",
    "task_df"
   ]
  },
  {
   "cell_type": "code",
   "execution_count": 44,
   "id": "15c7af3a-384e-44a2-a701-48bc19dc828b",
   "metadata": {},
   "outputs": [],
   "source": [
    "while set(task_df[\"state\"]) != {\"COMPLETED\"}:\n",
    "    time.sleep(1)"
   ]
  },
  {
   "cell_type": "code",
   "execution_count": 45,
   "id": "ee0e1e91-7394-49ee-bea5-cf0c7c0dbe4a",
   "metadata": {},
   "outputs": [],
   "source": [
    "# Strip out the datetime to get the file pattern to match on:\n",
    "eg_file = filenames[0]\n",
    "file_pat = \"__\".join(eg_file.split(\"__\")[:-1])"
   ]
  },
  {
   "cell_type": "code",
   "execution_count": 46,
   "id": "8104d6a2-6392-4499-ac21-d5988202beb0",
   "metadata": {},
   "outputs": [
    {
     "data": {
      "text/html": [
       "<div>\n",
       "<style scoped>\n",
       "    .dataframe tbody tr th:only-of-type {\n",
       "        vertical-align: middle;\n",
       "    }\n",
       "\n",
       "    .dataframe tbody tr th {\n",
       "        vertical-align: top;\n",
       "    }\n",
       "\n",
       "    .dataframe thead th {\n",
       "        text-align: right;\n",
       "    }\n",
       "</style>\n",
       "<table border=\"1\" class=\"dataframe\">\n",
       "  <thead>\n",
       "    <tr style=\"text-align: right;\">\n",
       "      <th></th>\n",
       "      <th>kind</th>\n",
       "      <th>id</th>\n",
       "      <th>etag</th>\n",
       "      <th>selfLink</th>\n",
       "      <th>webContentLink</th>\n",
       "      <th>alternateLink</th>\n",
       "      <th>embedLink</th>\n",
       "      <th>iconLink</th>\n",
       "      <th>title</th>\n",
       "      <th>mimeType</th>\n",
       "      <th>...</th>\n",
       "      <th>editable</th>\n",
       "      <th>copyable</th>\n",
       "      <th>writersCanShare</th>\n",
       "      <th>shared</th>\n",
       "      <th>explicitlyTrashed</th>\n",
       "      <th>appDataContents</th>\n",
       "      <th>headRevisionId</th>\n",
       "      <th>imageMediaMetadata</th>\n",
       "      <th>spaces</th>\n",
       "      <th>thumbnailLink</th>\n",
       "    </tr>\n",
       "  </thead>\n",
       "  <tbody>\n",
       "    <tr>\n",
       "      <th>0</th>\n",
       "      <td>drive#file</td>\n",
       "      <td>1RQvZl1pgCVIRsM7sefqSDE09mkfbe1nj</td>\n",
       "      <td>\"MTY2NDg1MTgwNDA0NQ\"</td>\n",
       "      <td>https://www.googleapis.com/drive/v2/files/1RQv...</td>\n",
       "      <td>https://drive.google.com/uc?id=1RQvZl1pgCVIRsM...</td>\n",
       "      <td>https://drive.google.com/file/d/1RQvZl1pgCVIRs...</td>\n",
       "      <td>https://drive.google.com/file/d/1RQvZl1pgCVIRs...</td>\n",
       "      <td>https://drive-thirdparty.googleusercontent.com...</td>\n",
       "      <td>epsg_4326__100__MODIS_006_MOD16A2__ET__2018_01...</td>\n",
       "      <td>image/tiff</td>\n",
       "      <td>...</td>\n",
       "      <td>True</td>\n",
       "      <td>True</td>\n",
       "      <td>True</td>\n",
       "      <td>False</td>\n",
       "      <td>False</td>\n",
       "      <td>False</td>\n",
       "      <td>0By30p8yLomMtRTQ4SFhsd20rMnIvaFA3TmhieVNEdHZja...</td>\n",
       "      <td>{'width': 0, 'height': 0}</td>\n",
       "      <td>[drive]</td>\n",
       "      <td>NaN</td>\n",
       "    </tr>\n",
       "    <tr>\n",
       "      <th>1</th>\n",
       "      <td>drive#file</td>\n",
       "      <td>1CG5eTlKX4hNBw4KubljIcJgkgiCiWlR3</td>\n",
       "      <td>\"MTY2NDg1MTgwMzc3MQ\"</td>\n",
       "      <td>https://www.googleapis.com/drive/v2/files/1CG5...</td>\n",
       "      <td>https://drive.google.com/uc?id=1CG5eTlKX4hNBw4...</td>\n",
       "      <td>https://drive.google.com/file/d/1CG5eTlKX4hNBw...</td>\n",
       "      <td>https://drive.google.com/file/d/1CG5eTlKX4hNBw...</td>\n",
       "      <td>https://drive-thirdparty.googleusercontent.com...</td>\n",
       "      <td>epsg_4326__100__MODIS_006_MOD16A2__ET__2018_01...</td>\n",
       "      <td>image/tiff</td>\n",
       "      <td>...</td>\n",
       "      <td>True</td>\n",
       "      <td>True</td>\n",
       "      <td>True</td>\n",
       "      <td>False</td>\n",
       "      <td>False</td>\n",
       "      <td>False</td>\n",
       "      <td>0By30p8yLomMtRDJvQ2NENEdibjA2SUtLT3Rxb1cyRUQ2d...</td>\n",
       "      <td>{'width': 0, 'height': 0}</td>\n",
       "      <td>[drive]</td>\n",
       "      <td>NaN</td>\n",
       "    </tr>\n",
       "    <tr>\n",
       "      <th>2</th>\n",
       "      <td>drive#file</td>\n",
       "      <td>18pObC1QDlCIoQljrZ3K2jbnltO_7iMlZ</td>\n",
       "      <td>\"MTY2NDg1MTgwMzQ5MA\"</td>\n",
       "      <td>https://www.googleapis.com/drive/v2/files/18pO...</td>\n",
       "      <td>https://drive.google.com/uc?id=18pObC1QDlCIoQl...</td>\n",
       "      <td>https://drive.google.com/file/d/18pObC1QDlCIoQ...</td>\n",
       "      <td>https://drive.google.com/file/d/18pObC1QDlCIoQ...</td>\n",
       "      <td>https://drive-thirdparty.googleusercontent.com...</td>\n",
       "      <td>epsg_4326__100__MODIS_006_MOD16A2__ET__2018_01...</td>\n",
       "      <td>image/tiff</td>\n",
       "      <td>...</td>\n",
       "      <td>True</td>\n",
       "      <td>True</td>\n",
       "      <td>True</td>\n",
       "      <td>False</td>\n",
       "      <td>False</td>\n",
       "      <td>False</td>\n",
       "      <td>0By30p8yLomMtODVEaXl3MjZWU2NSSzNyOEpxV1JrVlEzQ...</td>\n",
       "      <td>{'width': 0, 'height': 0}</td>\n",
       "      <td>[drive]</td>\n",
       "      <td>NaN</td>\n",
       "    </tr>\n",
       "    <tr>\n",
       "      <th>3</th>\n",
       "      <td>drive#file</td>\n",
       "      <td>1CiVFa7zdcWxGBz6unJV2ekz2DP_1cm_T</td>\n",
       "      <td>\"MTY2NDg1MTgwMTQ4NQ\"</td>\n",
       "      <td>https://www.googleapis.com/drive/v2/files/1CiV...</td>\n",
       "      <td>https://drive.google.com/uc?id=1CiVFa7zdcWxGBz...</td>\n",
       "      <td>https://drive.google.com/file/d/1CiVFa7zdcWxGB...</td>\n",
       "      <td>https://drive.google.com/file/d/1CiVFa7zdcWxGB...</td>\n",
       "      <td>https://drive-thirdparty.googleusercontent.com...</td>\n",
       "      <td>epsg_4326__100__MODIS_006_MOD16A2__ET__2018_01...</td>\n",
       "      <td>image/tiff</td>\n",
       "      <td>...</td>\n",
       "      <td>True</td>\n",
       "      <td>True</td>\n",
       "      <td>True</td>\n",
       "      <td>False</td>\n",
       "      <td>False</td>\n",
       "      <td>False</td>\n",
       "      <td>0By30p8yLomMtV2RudHF4eURIRnp3bi8vMGNGekJWeWVrc...</td>\n",
       "      <td>{'width': 0, 'height': 0}</td>\n",
       "      <td>[drive]</td>\n",
       "      <td>NaN</td>\n",
       "    </tr>\n",
       "  </tbody>\n",
       "</table>\n",
       "<p>4 rows × 39 columns</p>\n",
       "</div>"
      ],
      "text/plain": [
       "         kind                                 id                  etag  \\\n",
       "0  drive#file  1RQvZl1pgCVIRsM7sefqSDE09mkfbe1nj  \"MTY2NDg1MTgwNDA0NQ\"   \n",
       "1  drive#file  1CG5eTlKX4hNBw4KubljIcJgkgiCiWlR3  \"MTY2NDg1MTgwMzc3MQ\"   \n",
       "2  drive#file  18pObC1QDlCIoQljrZ3K2jbnltO_7iMlZ  \"MTY2NDg1MTgwMzQ5MA\"   \n",
       "3  drive#file  1CiVFa7zdcWxGBz6unJV2ekz2DP_1cm_T  \"MTY2NDg1MTgwMTQ4NQ\"   \n",
       "\n",
       "                                            selfLink  \\\n",
       "0  https://www.googleapis.com/drive/v2/files/1RQv...   \n",
       "1  https://www.googleapis.com/drive/v2/files/1CG5...   \n",
       "2  https://www.googleapis.com/drive/v2/files/18pO...   \n",
       "3  https://www.googleapis.com/drive/v2/files/1CiV...   \n",
       "\n",
       "                                      webContentLink  \\\n",
       "0  https://drive.google.com/uc?id=1RQvZl1pgCVIRsM...   \n",
       "1  https://drive.google.com/uc?id=1CG5eTlKX4hNBw4...   \n",
       "2  https://drive.google.com/uc?id=18pObC1QDlCIoQl...   \n",
       "3  https://drive.google.com/uc?id=1CiVFa7zdcWxGBz...   \n",
       "\n",
       "                                       alternateLink  \\\n",
       "0  https://drive.google.com/file/d/1RQvZl1pgCVIRs...   \n",
       "1  https://drive.google.com/file/d/1CG5eTlKX4hNBw...   \n",
       "2  https://drive.google.com/file/d/18pObC1QDlCIoQ...   \n",
       "3  https://drive.google.com/file/d/1CiVFa7zdcWxGB...   \n",
       "\n",
       "                                           embedLink  \\\n",
       "0  https://drive.google.com/file/d/1RQvZl1pgCVIRs...   \n",
       "1  https://drive.google.com/file/d/1CG5eTlKX4hNBw...   \n",
       "2  https://drive.google.com/file/d/18pObC1QDlCIoQ...   \n",
       "3  https://drive.google.com/file/d/1CiVFa7zdcWxGB...   \n",
       "\n",
       "                                            iconLink  \\\n",
       "0  https://drive-thirdparty.googleusercontent.com...   \n",
       "1  https://drive-thirdparty.googleusercontent.com...   \n",
       "2  https://drive-thirdparty.googleusercontent.com...   \n",
       "3  https://drive-thirdparty.googleusercontent.com...   \n",
       "\n",
       "                                               title    mimeType  ...  \\\n",
       "0  epsg_4326__100__MODIS_006_MOD16A2__ET__2018_01...  image/tiff  ...   \n",
       "1  epsg_4326__100__MODIS_006_MOD16A2__ET__2018_01...  image/tiff  ...   \n",
       "2  epsg_4326__100__MODIS_006_MOD16A2__ET__2018_01...  image/tiff  ...   \n",
       "3  epsg_4326__100__MODIS_006_MOD16A2__ET__2018_01...  image/tiff  ...   \n",
       "\n",
       "  editable  copyable writersCanShare shared explicitlyTrashed appDataContents  \\\n",
       "0     True      True            True  False             False           False   \n",
       "1     True      True            True  False             False           False   \n",
       "2     True      True            True  False             False           False   \n",
       "3     True      True            True  False             False           False   \n",
       "\n",
       "                                      headRevisionId  \\\n",
       "0  0By30p8yLomMtRTQ4SFhsd20rMnIvaFA3TmhieVNEdHZja...   \n",
       "1  0By30p8yLomMtRDJvQ2NENEdibjA2SUtLT3Rxb1cyRUQ2d...   \n",
       "2  0By30p8yLomMtODVEaXl3MjZWU2NSSzNyOEpxV1JrVlEzQ...   \n",
       "3  0By30p8yLomMtV2RudHF4eURIRnp3bi8vMGNGekJWeWVrc...   \n",
       "\n",
       "          imageMediaMetadata   spaces thumbnailLink  \n",
       "0  {'width': 0, 'height': 0}  [drive]           NaN  \n",
       "1  {'width': 0, 'height': 0}  [drive]           NaN  \n",
       "2  {'width': 0, 'height': 0}  [drive]           NaN  \n",
       "3  {'width': 0, 'height': 0}  [drive]           NaN  \n",
       "\n",
       "[4 rows x 39 columns]"
      ]
     },
     "execution_count": 46,
     "metadata": {},
     "output_type": "execute_result"
    }
   ],
   "source": [
    "# Get df of all matching files:\n",
    "filelist = drive.ListFile().GetList()\n",
    "file_df = pd.DataFrame(filelist)\n",
    "matching_files = file_df[file_df[\"title\"].str.contains(file_pat)]\n",
    "matching_files"
   ]
  },
  {
   "cell_type": "code",
   "execution_count": 47,
   "id": "5de4c06b-5fb7-4d66-bd21-d141192a1bbe",
   "metadata": {},
   "outputs": [
    {
     "name": "stderr",
     "output_type": "stream",
     "text": [
      "100%|█████████████████████████████████████████████████████████████████████████████████████████████████████████████████████████████████████████| 4/4 [00:02<00:00,  1.55it/s]\n"
     ]
    },
    {
     "data": {
      "text/plain": [
       "['../../data/test/epsg_4326__100__MODIS_006_MOD16A2__ET__2018_01_09.tif',\n",
       " '../../data/test/epsg_4326__100__MODIS_006_MOD16A2__ET__2018_01_25.tif',\n",
       " '../../data/test/epsg_4326__100__MODIS_006_MOD16A2__ET__2018_01_17.tif',\n",
       " '../../data/test/epsg_4326__100__MODIS_006_MOD16A2__ET__2018_01_01.tif']"
      ]
     },
     "execution_count": 47,
     "metadata": {},
     "output_type": "execute_result"
    }
   ],
   "source": [
    "# Download the files from GDrive:\n",
    "downloaded = list()\n",
    "for ix in tqdm(matching_files.index):\n",
    "    row = matching_files.loc[ix]\n",
    "    target = os.path.join(save_to, row[\"title\"])\n",
    "    f = filelist[ix]\n",
    "    f.GetContentFile(target)\n",
    "    downloaded.append(target)\n",
    "downloaded"
   ]
  },
  {
   "cell_type": "code",
   "execution_count": 48,
   "id": "654cb9fa-95d2-4068-ac3e-b3ab87362da4",
   "metadata": {},
   "outputs": [
    {
     "data": {
      "image/png": "[encoded data removed]",
      "text/plain": [
       "<Figure size 640x480 with 1 Axes>"
      ]
     },
     "metadata": {},
     "output_type": "display_data"
    },
    {
     "data": {
      "image/png": "[encoded data removed]",
      "text/plain": [
       "<Figure size 640x480 with 1 Axes>"
      ]
     },
     "metadata": {},
     "output_type": "display_data"
    },
    {
     "data": {
      "image/png": "[encoded data removed]",
      "text/plain": [
       "<Figure size 640x480 with 1 Axes>"
      ]
     },
     "metadata": {},
     "output_type": "display_data"
    },
    {
     "data": {
      "image/png": "[encoded data removed]",
      "text/plain": [
       "<Figure size 640x480 with 1 Axes>"
      ]
     },
     "metadata": {},
     "output_type": "display_data"
    }
   ],
   "source": [
    "# Inspect the raw TIF files:\n",
    "from rasterio.plot import show\n",
    "\n",
    "for tif_fp in downloaded:\n",
    "    tif_data = rasterio.open(tif_fp)\n",
    "    show(tif_data, with_bounds=True)"
   ]
  },
  {
   "cell_type": "code",
   "execution_count": null,
   "id": "9e23a1cc-e721-4417-b3b6-d69a4c726d4b",
   "metadata": {},
   "outputs": [],
   "source": []
  },
  {
   "cell_type": "code",
   "execution_count": null,
   "id": "e6431bf8-0af4-4420-bf93-d6d248c57340",
   "metadata": {},
   "outputs": [],
   "source": []
  }
 ],
 "metadata": {
  "kernelspec": {
   "display_name": "Python 3 (ipykernel)",
   "language": "python",
   "name": "python3"
  },
  "language_info": {
   "codemirror_mode": {
    "name": "ipython",
    "version": 3
   },
   "file_extension": ".py",
   "mimetype": "text/x-python",
   "name": "python",
   "nbconvert_exporter": "python",
   "pygments_lexer": "ipython3",
   "version": "3.9.2"
  }
 },
 "nbformat": 4,
 "nbformat_minor": 5
}
