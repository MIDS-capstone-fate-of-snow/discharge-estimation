{
 "cells": [
  {
   "cell_type": "markdown",
   "metadata": {
    "id": "kFoffGEP8LMS"
   },
   "source": [
    "\n",
    "\n",
    "# Snow Water Equivalent EDA"
   ]
  },
  {
   "cell_type": "markdown",
   "metadata": {
    "id": "CccOR93HVoc4"
   },
   "source": [
    "## Import Packages & Mount"
   ]
  },
  {
   "cell_type": "code",
   "execution_count": 1,
   "metadata": {
    "id": "4IkYf5FbHTh7"
   },
   "outputs": [
    {
     "name": "stdout",
     "output_type": "stream",
     "text": [
      "Requirement already satisfied: geopandas in /home/studio-lab-user/.conda/envs/default/lib/python3.9/site-packages (0.11.1)\n",
      "Requirement already satisfied: pyproj>=2.6.1.post1 in /home/studio-lab-user/.conda/envs/default/lib/python3.9/site-packages (from geopandas) (3.3.1)\n",
      "Requirement already satisfied: fiona>=1.8 in /home/studio-lab-user/.conda/envs/default/lib/python3.9/site-packages (from geopandas) (1.8.21)\n",
      "Requirement already satisfied: shapely<2,>=1.7 in /home/studio-lab-user/.conda/envs/default/lib/python3.9/site-packages (from geopandas) (1.8.4)\n",
      "Requirement already satisfied: packaging in /home/studio-lab-user/.conda/envs/default/lib/python3.9/site-packages (from geopandas) (21.3)\n",
      "Requirement already satisfied: pandas>=1.0.0 in /home/studio-lab-user/.conda/envs/default/lib/python3.9/site-packages (from geopandas) (1.5.0)\n",
      "Requirement already satisfied: click-plugins>=1.0 in /home/studio-lab-user/.conda/envs/default/lib/python3.9/site-packages (from fiona>=1.8->geopandas) (1.1.1)\n",
      "Requirement already satisfied: certifi in /home/studio-lab-user/.conda/envs/default/lib/python3.9/site-packages (from fiona>=1.8->geopandas) (2022.9.14)\n",
      "Requirement already satisfied: setuptools in /home/studio-lab-user/.conda/envs/default/lib/python3.9/site-packages (from fiona>=1.8->geopandas) (65.3.0)\n",
      "Requirement already satisfied: attrs>=17 in /home/studio-lab-user/.conda/envs/default/lib/python3.9/site-packages (from fiona>=1.8->geopandas) (22.1.0)\n",
      "Requirement already satisfied: six>=1.7 in /home/studio-lab-user/.conda/envs/default/lib/python3.9/site-packages (from fiona>=1.8->geopandas) (1.16.0)\n",
      "Requirement already satisfied: click>=4.0 in /home/studio-lab-user/.conda/envs/default/lib/python3.9/site-packages (from fiona>=1.8->geopandas) (8.1.3)\n",
      "Requirement already satisfied: cligj>=0.5 in /home/studio-lab-user/.conda/envs/default/lib/python3.9/site-packages (from fiona>=1.8->geopandas) (0.7.2)\n",
      "Requirement already satisfied: munch in /home/studio-lab-user/.conda/envs/default/lib/python3.9/site-packages (from fiona>=1.8->geopandas) (2.5.0)\n",
      "Requirement already satisfied: numpy>=1.20.3 in /home/studio-lab-user/.conda/envs/default/lib/python3.9/site-packages (from pandas>=1.0.0->geopandas) (1.23.3)\n",
      "Requirement already satisfied: python-dateutil>=2.8.1 in /home/studio-lab-user/.conda/envs/default/lib/python3.9/site-packages (from pandas>=1.0.0->geopandas) (2.8.2)\n",
      "Requirement already satisfied: pytz>=2020.1 in /home/studio-lab-user/.conda/envs/default/lib/python3.9/site-packages (from pandas>=1.0.0->geopandas) (2022.2.1)\n",
      "Requirement already satisfied: pyparsing!=3.0.5,>=2.0.2 in /home/studio-lab-user/.conda/envs/default/lib/python3.9/site-packages (from packaging->geopandas) (3.0.9)\n",
      "Requirement already satisfied: Basemap in /home/studio-lab-user/.conda/envs/default/lib/python3.9/site-packages (1.3.4)\n",
      "Requirement already satisfied: pyproj<3.4.0,>=1.9.3 in /home/studio-lab-user/.conda/envs/default/lib/python3.9/site-packages (from Basemap) (3.3.1)\n",
      "Requirement already satisfied: basemap-data<1.4,>=1.3.2 in /home/studio-lab-user/.conda/envs/default/lib/python3.9/site-packages (from Basemap) (1.3.2)\n",
      "Requirement already satisfied: numpy<1.24,>=1.22 in /home/studio-lab-user/.conda/envs/default/lib/python3.9/site-packages (from Basemap) (1.23.3)\n",
      "Requirement already satisfied: matplotlib<3.6,>=1.5 in /home/studio-lab-user/.conda/envs/default/lib/python3.9/site-packages (from Basemap) (3.5.3)\n",
      "Requirement already satisfied: pyshp<2.4,>=1.2 in /home/studio-lab-user/.conda/envs/default/lib/python3.9/site-packages (from Basemap) (2.3.1)\n",
      "Requirement already satisfied: pillow>=6.2.0 in /home/studio-lab-user/.conda/envs/default/lib/python3.9/site-packages (from matplotlib<3.6,>=1.5->Basemap) (9.2.0)\n",
      "Requirement already satisfied: pyparsing>=2.2.1 in /home/studio-lab-user/.conda/envs/default/lib/python3.9/site-packages (from matplotlib<3.6,>=1.5->Basemap) (3.0.9)\n",
      "Requirement already satisfied: packaging>=20.0 in /home/studio-lab-user/.conda/envs/default/lib/python3.9/site-packages (from matplotlib<3.6,>=1.5->Basemap) (21.3)\n",
      "Requirement already satisfied: fonttools>=4.22.0 in /home/studio-lab-user/.conda/envs/default/lib/python3.9/site-packages (from matplotlib<3.6,>=1.5->Basemap) (4.37.3)\n",
      "Requirement already satisfied: cycler>=0.10 in /home/studio-lab-user/.conda/envs/default/lib/python3.9/site-packages (from matplotlib<3.6,>=1.5->Basemap) (0.11.0)\n",
      "Requirement already satisfied: python-dateutil>=2.7 in /home/studio-lab-user/.conda/envs/default/lib/python3.9/site-packages (from matplotlib<3.6,>=1.5->Basemap) (2.8.2)\n",
      "Requirement already satisfied: kiwisolver>=1.0.1 in /home/studio-lab-user/.conda/envs/default/lib/python3.9/site-packages (from matplotlib<3.6,>=1.5->Basemap) (1.4.4)\n",
      "Requirement already satisfied: certifi in /home/studio-lab-user/.conda/envs/default/lib/python3.9/site-packages (from pyproj<3.4.0,>=1.9.3->Basemap) (2022.9.14)\n",
      "Requirement already satisfied: six>=1.5 in /home/studio-lab-user/.conda/envs/default/lib/python3.9/site-packages (from python-dateutil>=2.7->matplotlib<3.6,>=1.5->Basemap) (1.16.0)\n",
      "Requirement already satisfied: h5py in /home/studio-lab-user/.conda/envs/default/lib/python3.9/site-packages (3.7.0)\n",
      "Requirement already satisfied: numpy>=1.14.5 in /home/studio-lab-user/.conda/envs/default/lib/python3.9/site-packages (from h5py) (1.23.3)\n",
      "Requirement already satisfied: seaborn in /home/studio-lab-user/.conda/envs/default/lib/python3.9/site-packages (0.12.0)\n",
      "Requirement already satisfied: pandas>=0.25 in /home/studio-lab-user/.conda/envs/default/lib/python3.9/site-packages (from seaborn) (1.5.0)\n",
      "Requirement already satisfied: numpy>=1.17 in /home/studio-lab-user/.conda/envs/default/lib/python3.9/site-packages (from seaborn) (1.23.3)\n",
      "Requirement already satisfied: matplotlib>=3.1 in /home/studio-lab-user/.conda/envs/default/lib/python3.9/site-packages (from seaborn) (3.5.3)\n",
      "Requirement already satisfied: fonttools>=4.22.0 in /home/studio-lab-user/.conda/envs/default/lib/python3.9/site-packages (from matplotlib>=3.1->seaborn) (4.37.3)\n",
      "Requirement already satisfied: packaging>=20.0 in /home/studio-lab-user/.conda/envs/default/lib/python3.9/site-packages (from matplotlib>=3.1->seaborn) (21.3)\n",
      "Requirement already satisfied: cycler>=0.10 in /home/studio-lab-user/.conda/envs/default/lib/python3.9/site-packages (from matplotlib>=3.1->seaborn) (0.11.0)\n",
      "Requirement already satisfied: pillow>=6.2.0 in /home/studio-lab-user/.conda/envs/default/lib/python3.9/site-packages (from matplotlib>=3.1->seaborn) (9.2.0)\n",
      "Requirement already satisfied: pyparsing>=2.2.1 in /home/studio-lab-user/.conda/envs/default/lib/python3.9/site-packages (from matplotlib>=3.1->seaborn) (3.0.9)\n",
      "Requirement already satisfied: kiwisolver>=1.0.1 in /home/studio-lab-user/.conda/envs/default/lib/python3.9/site-packages (from matplotlib>=3.1->seaborn) (1.4.4)\n",
      "Requirement already satisfied: python-dateutil>=2.7 in /home/studio-lab-user/.conda/envs/default/lib/python3.9/site-packages (from matplotlib>=3.1->seaborn) (2.8.2)\n",
      "Requirement already satisfied: pytz>=2020.1 in /home/studio-lab-user/.conda/envs/default/lib/python3.9/site-packages (from pandas>=0.25->seaborn) (2022.2.1)\n",
      "Requirement already satisfied: six>=1.5 in /home/studio-lab-user/.conda/envs/default/lib/python3.9/site-packages (from python-dateutil>=2.7->matplotlib>=3.1->seaborn) (1.16.0)\n"
     ]
    }
   ],
   "source": [
    "!pip install geopandas\n",
    "!pip install Basemap\n",
    "!pip install h5py\n",
    "!pip install seaborn"
   ]
  },
  {
   "cell_type": "code",
   "execution_count": 2,
   "metadata": {
    "id": "zZXFY4S78N0A"
   },
   "outputs": [],
   "source": [
    "# Import Packages\n",
    "import h5py\n",
    "import numpy as np\n",
    "import pandas as pd\n",
    "import matplotlib.pyplot as plt\n",
    "from shapely.geometry import Point\n",
    "import geopandas as gpd\n",
    "from geopandas import GeoDataFrame\n",
    "from mpl_toolkits.basemap import Basemap\n",
    "import copy"
   ]
  },
  {
   "cell_type": "code",
   "execution_count": 3,
   "metadata": {
    "colab": {
     "base_uri": "https://localhost:8080/"
    },
    "id": "OWgZ-b6n8mvd",
    "outputId": "0b72565d-9f17-42aa-8125-b03f5754f412"
   },
   "outputs": [
    {
     "data": {
      "text/plain": [
       "['SN_SWE_WY2015.h5',\n",
       " '.ipynb_checkpoints',\n",
       " '2015_day1.npy',\n",
       " '2015_day2.npy',\n",
       " '2015_day3.npy',\n",
       " '2015_day4.npy',\n",
       " '2015_day5.npy',\n",
       " '2015_day6.npy',\n",
       " '2015_day7.npy']"
      ]
     },
     "execution_count": 3,
     "metadata": {},
     "output_type": "execute_result"
    }
   ],
   "source": [
    "# Change Directory\n",
    "import os\n",
    "os.chdir('data/')\n",
    "os.listdir()"
   ]
  },
  {
   "cell_type": "markdown",
   "metadata": {
    "id": "b-vmqKcRVRys"
   },
   "source": [
    "## Read Data"
   ]
  },
  {
   "cell_type": "code",
   "execution_count": 4,
   "metadata": {
    "colab": {
     "base_uri": "https://localhost:8080/"
    },
    "id": "BVEgtt3q8Xko",
    "outputId": "1430bc74-4158-4929-a9d8-a743f0930616"
   },
   "outputs": [
    {
     "data": {
      "text/plain": [
       "<KeysViewHDF5 ['SWE', 'lat', 'lon']>"
      ]
     },
     "execution_count": 4,
     "metadata": {},
     "output_type": "execute_result"
    }
   ],
   "source": [
    "# Read data\n",
    "data = h5py.File('SN_SWE_WY2015.h5', 'r')\n",
    "## Check keys\n",
    "data.keys()"
   ]
  },
  {
   "cell_type": "markdown",
   "metadata": {
    "id": "iDhMHyKnBr5i"
   },
   "source": [
    "## Data Info"
   ]
  },
  {
   "cell_type": "code",
   "execution_count": 6,
   "metadata": {
    "colab": {
     "base_uri": "https://localhost:8080/"
    },
    "id": "3ebGl9Fq-Ywl",
    "outputId": "9376e662-2279-42f9-b29e-229235843923"
   },
   "outputs": [
    {
     "name": "stdout",
     "output_type": "stream",
     "text": [
      "<HDF5 dataset \"lon\": shape (5701, 1), type \"<f8\">\n",
      "<HDF5 dataset \"lat\": shape (1, 6601), type \"<f8\">\n",
      "-------------\n",
      "Longitutude Range: [-123.3,-117.6]\n",
      "Latitude Range: [35.4,42.0]\n"
     ]
    }
   ],
   "source": [
    "### Check SWE\n",
    "print(data['lon'])\n",
    "print(data['lat'])\n",
    "print('-------------')\n",
    "print('Longitutude Range: [{},{}]'.format(min(data['lon'])[0],max(data['lon'])[0]))\n",
    "print('Latitude Range: [{},{}]'.format(min(data['lat'][0]),max(data['lat'][0])))\n"
   ]
  },
  {
   "cell_type": "code",
   "execution_count": 130,
   "metadata": {
    "id": "Rf9EipLHfB84"
   },
   "outputs": [
    {
     "data": {
      "text/plain": [
       "414"
      ]
     },
     "execution_count": 130,
     "metadata": {},
     "output_type": "execute_result"
    }
   ],
   "source": [
    "6*69"
   ]
  },
  {
   "cell_type": "code",
   "execution_count": 6,
   "metadata": {
    "colab": {
     "base_uri": "https://localhost:8080/"
    },
    "id": "9Lfz4xlP-bH6",
    "outputId": "f3dc51e2-910e-46d8-82d9-67641e6a653c"
   },
   "outputs": [
    {
     "name": "stdout",
     "output_type": "stream",
     "text": [
      "0.11038063497632\n",
      "0.11038327526132406\n"
     ]
    }
   ],
   "source": [
    "# Longtitude & Latitude\n",
    "print((-117.6 +123.3)/5701*69*1.6)\n",
    "print((42-35.4)/6601*69*1.6)\n",
    "# There is a value associated for every 0.11km x 0.11km region"
   ]
  },
  {
   "cell_type": "markdown",
   "metadata": {
    "id": "Jb8-weOwVeIZ"
   },
   "source": [
    "## **SWE EDA**"
   ]
  },
  {
   "cell_type": "code",
   "execution_count": 7,
   "metadata": {
    "colab": {
     "base_uri": "https://localhost:8080/"
    },
    "id": "NOkGMEmGAisJ",
    "outputId": "e207b5cb-28a1-48a6-b0b1-43c96e4362f6"
   },
   "outputs": [
    {
     "data": {
      "text/plain": [
       "<HDF5 dataset \"SWE\": shape (365, 5701, 6601), type \"<i2\">"
      ]
     },
     "execution_count": 7,
     "metadata": {},
     "output_type": "execute_result"
    }
   ],
   "source": [
    "# Dimension of SWE: 365 days x 5701 (lon) x 6601 (lat)\n",
    "data['SWE'] "
   ]
  },
  {
   "cell_type": "markdown",
   "metadata": {
    "id": "Q87MYB4zBwrh",
    "tags": []
   },
   "source": [
    "## Analysis on First day of 2015"
   ]
  },
  {
   "cell_type": "markdown",
   "metadata": {
    "id": "cayZ_iFmF6nL"
   },
   "source": [
    "#### Convert to Tabular Data: Lat & Lon"
   ]
  },
  {
   "cell_type": "markdown",
   "metadata": {
    "id": "5aS7QzfgHPkq"
   },
   "source": [
    "#### Map Plot"
   ]
  },
  {
   "cell_type": "code",
   "execution_count": 11,
   "metadata": {
    "id": "XlviOxRGI96e"
   },
   "outputs": [],
   "source": [
    "## Meshgrid\n",
    "lats,lons = np.meshgrid(data['lat'],data['lon'])"
   ]
  },
  {
   "cell_type": "code",
   "execution_count": 27,
   "metadata": {
    "colab": {
     "base_uri": "https://localhost:8080/"
    },
    "id": "qLdjHOq8fR0n",
    "outputId": "73698189-ebcc-4dd5-8eec-1dee72486184"
   },
   "outputs": [],
   "source": [
    "data['SWE'][0].shape\n",
    "swe = data['SWE'][0]"
   ]
  },
  {
   "cell_type": "markdown",
   "metadata": {},
   "source": [
    "### Sample some of Datapoints\n",
    "- Dataset consists 5701 (longitude) x 6601 (latitude) values. \n",
    "\n",
    "- Due to resource limitation, we will only sample and plot 1/5 of the datapoints, which will be 1141x1321."
   ]
  },
  {
   "cell_type": "code",
   "execution_count": 9,
   "metadata": {},
   "outputs": [],
   "source": [
    "### Sample Data\n",
    "\n",
    "def subsample(lats,lons,values):\n",
    "    factor = 5\n",
    "\n",
    "    new_lats =  np.zeros((5701//factor+1,6601//factor+1))\n",
    "    new_lons = np.zeros((5701//factor+1,6601//factor+1))\n",
    "    new_swe = np.zeros((5701//factor+1,6601//factor+1))\n",
    "    ii = 0 \n",
    "    final_list = []\n",
    "    for i in range(0,lats.shape[0],factor):\n",
    "        jj = 0\n",
    "        for j in range(0,lats.shape[1],factor):\n",
    "            new_lats[ii,jj] = lats[i,j]\n",
    "            new_lons[ii,jj] = lons[i,j]\n",
    "            new_swe[ii,jj] = values[i,j]\n",
    "            final_list.append([lats[i,j],lons[i,j],values[i,j]])\n",
    "            jj += 1\n",
    "        ii += 1\n",
    "        \n",
    "    return new_lats,new_lons,new_swe,final_list\n"
   ]
  },
  {
   "cell_type": "code",
   "execution_count": 27,
   "metadata": {},
   "outputs": [
    {
     "data": {
      "text/plain": [
       "(1141, 1321)"
      ]
     },
     "execution_count": 27,
     "metadata": {},
     "output_type": "execute_result"
    }
   ],
   "source": [
    "# New data shape\n",
    "new_lats,new_lons,new_swe,final_list = subsample(lats,lons,data['SWE'][0])\n",
    "new_lats.shape"
   ]
  },
  {
   "cell_type": "markdown",
   "metadata": {
    "tags": []
   },
   "source": [
    "### Distribution"
   ]
  },
  {
   "cell_type": "code",
   "execution_count": 54,
   "metadata": {},
   "outputs": [
    {
     "name": "stdout",
     "output_type": "stream",
     "text": [
      "Number of unique values: 405\n"
     ]
    },
    {
     "data": {
      "text/plain": [
       "(array([-32768,      0,      1,      2,      3,      4,      5,      6,\n",
       "             7,      8,      9,     10,     11,     12,     13,     14,\n",
       "            15,     16,     17,     18,     19,     20,     21,     22,\n",
       "            23,     24,     25,     26,     27,     28,     29,     30,\n",
       "            31,     32,     33,     34,     35,     36,     37,     38,\n",
       "            39,     40,     41,     42,     43,     44,     45,     46,\n",
       "            47,     48,     49,     50,     51,     52,     53,     54,\n",
       "            55,     56,     57,     58,     59,     60,     61,     62,\n",
       "            63,     64,     65,     66,     67,     68,     69,     70,\n",
       "            71,     72,     73,     74,     75,     76,     77,     78,\n",
       "            79,     80,     81,     82,     83,     84,     85,     86,\n",
       "            87,     88,     89,     90,     91,     92,     93,     94,\n",
       "            95,     96,     97,     98,     99,    100,    101,    102,\n",
       "           103,    104,    105,    106,    107,    108,    109,    110,\n",
       "           111,    112,    113,    114,    115,    116,    117,    118,\n",
       "           119,    120,    121,    122,    123,    124,    125,    126,\n",
       "           127,    128,    129,    130,    131,    132,    133,    134,\n",
       "           135,    136,    137,    138,    139,    140,    141,    142,\n",
       "           143,    144,    145,    146,    148,    149,    150,    151,\n",
       "           152,    153,    155,    156,    157,    158,    160,    161,\n",
       "           162,    164,    167,    172,    173,    174,    179,    184,\n",
       "           185,    189,    193,    195,    196,    197,    200,    202,\n",
       "           212,    218,    227,    231,    235,    248,    266,    268,\n",
       "           281,    292,    293,    298,    303,    313,    324,    341,\n",
       "           354,    379,    409,    415,    425,    444,    463,    475,\n",
       "           482,    487,    488,    496,    513,    514,    522,    524,\n",
       "           563,    573,    615,    626,    665,    787,    912,    961,\n",
       "          1024,   1217,   1248,   1312,   1344,   1388,   1418,   1424,\n",
       "          1445,   1462,   1493,   1501,   1555,   1628,   1764,   1771,\n",
       "          1772,   1830,   1862,   1887,   1913,   1939,   1941,   1950,\n",
       "          1964,   1993,   2007,   2043,   2060,   2078,   2123,   2127,\n",
       "          2151,   2205,   2260,   2285,   2364,   2382,   2490,   2537,\n",
       "          2596,   2602,   2625,   2626,   2673,   2707,   2781,   2782,\n",
       "          2896,   2951,   2978,   3031,   3062,   3111,   3118,   3121,\n",
       "          3144,   3145,   3187,   3252,   3272,   3278,   3290,   3314,\n",
       "          3320,   3339,   3371,   3428,   3462,   3584,   3665,   3846,\n",
       "          3882,   3911,   4023,   4076,   4192,   4227,   4260,   4300,\n",
       "          4323,   4352,   4370,   4427,   4488,   4496,   4544,   4610,\n",
       "          4674,   4806,   4856,   4956,   4992,   5053,   5069,   5075,\n",
       "          5111,   5208,   5226,   5354,   5394,   5414,   5420,   5491,\n",
       "          5644,   5771,   5772,   5827,   5966,   6086,   6093,   6126,\n",
       "          6190,   6256,   6296,   6305,   6315,   6320,   6322,   6356,\n",
       "          6361,   6373,   6395,   6397,   6401,   6414,   6417,   6435,\n",
       "          6440,   6442,   6450,   6456,   6457,   6458,   6460,   6461,\n",
       "          6472,   6473,   6476,   6477,   6480,   6482,   6484,   6485,\n",
       "          6487,   6488,   6489,   6490,   6493,   6495,   6496,   6498,\n",
       "          6500,   6501,   6502,   6503,   6506,   6507,   6508,   6510,\n",
       "          6511,   6514,   6515,   6517,   6518,   6522,   6523,   6525,\n",
       "          6526,   6529,   6530,   6531,   6532,   6533,   6534,   6538,\n",
       "          6539,   6540,   6541,   6543,   6544,   6545,   6546,   6547,\n",
       "          6549,   6550,   6551,   6552,   6553], dtype=int16),\n",
       " array([32585991,  5038592,     2910,      866,      498,      355,\n",
       "             245,      176,      143,      116,       93,       83,\n",
       "              76,       84,       50,       57,       44,       37,\n",
       "              29,       26,       36,       29,       29,       22,\n",
       "              22,       17,       18,       12,       13,       17,\n",
       "              25,       23,       21,       22,       17,       12,\n",
       "              24,       29,       17,       17,       20,       18,\n",
       "              21,       11,       17,       13,       13,       17,\n",
       "              21,       13,       24,       13,       11,       11,\n",
       "              16,       12,       16,       14,       17,       13,\n",
       "              17,       15,       15,       14,       21,       17,\n",
       "              16,       12,       13,       10,       13,       11,\n",
       "              10,       15,       11,       12,       11,        4,\n",
       "              10,       11,       11,       12,       10,        9,\n",
       "              11,        6,        9,        8,       12,        8,\n",
       "               7,        8,       10,       13,       13,       10,\n",
       "               7,        4,       12,        9,        3,       10,\n",
       "               7,        5,       15,        9,        9,        6,\n",
       "               4,        7,        7,        5,        5,        3,\n",
       "               7,        9,        8,        8,        6,        3,\n",
       "               9,       10,        5,        8,        4,        6,\n",
       "              10,        4,       10,        3,        3,        5,\n",
       "               6,        7,        4,        5,        1,        3,\n",
       "               6,        5,        4,        1,        6,        2,\n",
       "               3,        7,        4,        3,        3,        2,\n",
       "               4,        4,        2,        3,        1,        2,\n",
       "               4,        1,        1,        1,        2,        2,\n",
       "               1,        1,        1,        1,        2,        1,\n",
       "               1,        1,        1,        1,        1,        1,\n",
       "               1,        1,        2,        1,        1,        1,\n",
       "               1,        1,        1,        1,        1,        1,\n",
       "               1,        1,        1,        1,        1,        1,\n",
       "               1,        1,        1,        1,        1,        1,\n",
       "               1,        1,        1,        1,        1,        1,\n",
       "               1,        1,        1,        1,        1,        1,\n",
       "               1,        1,        1,        1,        1,        1,\n",
       "               1,        1,        1,        1,        1,        1,\n",
       "               1,        1,        1,        1,        1,        1,\n",
       "               1,        1,        1,        1,        1,        1,\n",
       "               1,        1,        1,        1,        1,        1,\n",
       "               1,        1,        1,        1,        1,        1,\n",
       "               1,        1,        1,        1,        1,        1,\n",
       "               1,        1,        1,        1,        1,        1,\n",
       "               1,        1,        1,        1,        1,        1,\n",
       "               1,        1,        1,        1,        1,        1,\n",
       "               1,        1,        1,        1,        1,        1,\n",
       "               1,        1,        1,        1,        1,        1,\n",
       "               1,        1,        1,        1,        1,        1,\n",
       "               1,        1,        1,        1,        2,        1,\n",
       "               1,        1,        1,        1,        1,        1,\n",
       "               1,        1,        1,        1,        1,        1,\n",
       "               1,        1,        1,        2,        1,        1,\n",
       "               1,        1,        1,        1,        1,        1,\n",
       "               1,        1,        1,        1,        1,        1,\n",
       "               1,        1,        1,        1,        1,        1,\n",
       "               1,        1,        1,        1,        1,        1,\n",
       "               1,        1,        1,        1,        1,        2,\n",
       "               1,        1,        1,        1,        1,        1,\n",
       "               1,        1,        2,        1,        1,        1,\n",
       "               2,        1,        1,        1,        2,        1,\n",
       "               1,        1,        1,        1,        1,        1,\n",
       "               1,        2,        1,        1,        1,        1,\n",
       "               1,        1,        1,        2,        1,        1,\n",
       "               2,        1,        3,        2,        3,        1,\n",
       "               1,        1,        3,        1,        3,        2,\n",
       "               2,        1,        3,        3,        1,        2,\n",
       "               2,        3,        4,        2,        3,        3,\n",
       "               2,        5,       53]))"
      ]
     },
     "execution_count": 54,
     "metadata": {},
     "output_type": "execute_result"
    }
   ],
   "source": [
    "# Unique Values inside day0\n",
    "print('Number of unique values:',len(np.unique(swe)))\n",
    "np.unique(swe,return_counts=True)"
   ]
  },
  {
   "cell_type": "code",
   "execution_count": 32,
   "metadata": {
    "tags": []
   },
   "outputs": [
    {
     "data": {
      "text/plain": [
       "Text(0, 0.5, 'Frequency')"
      ]
     },
     "execution_count": 32,
     "metadata": {},
     "output_type": "execute_result"
    },
    {
     "data": {
      "image/png": "[encoded data removed]",
      "text/plain": [
       "<Figure size 640x480 with 1 Axes>"
      ]
     },
     "metadata": {},
     "output_type": "display_data"
    }
   ],
   "source": [
    "plt.hist(new_swe,range = (0,100))\n",
    "plt.title('SWE Distribution on the 1st Day')\n",
    "plt.xlabel('SWE Value')\n",
    "plt.ylabel('Frequency')"
   ]
  },
  {
   "cell_type": "code",
   "execution_count": 35,
   "metadata": {},
   "outputs": [
    {
     "data": {
      "text/plain": [
       "Text(0, 0.5, 'Frequency')"
      ]
     },
     "execution_count": 35,
     "metadata": {},
     "output_type": "execute_result"
    },
    {
     "data": {
      "image/png": "[encoded data removed]",
      "text/plain": [
       "<Figure size 640x480 with 1 Axes>"
      ]
     },
     "metadata": {},
     "output_type": "display_data"
    }
   ],
   "source": [
    "lats100,lons100,swe100,final_list100 = subsample(lats,lons,data['SWE'][299])\n",
    "plt.hist(swe100,range = (0,100))\n",
    "plt.title('SWE Distribution on the 300th Day')\n",
    "plt.xlabel('SWE Value')\n",
    "plt.ylabel('Frequency')"
   ]
  },
  {
   "cell_type": "code",
   "execution_count": null,
   "metadata": {},
   "outputs": [],
   "source": []
  },
  {
   "cell_type": "code",
   "execution_count": 83,
   "metadata": {},
   "outputs": [
    {
     "data": {
      "text/plain": [
       "(array([[0., 0., 0., ..., 0., 0., 0.],\n",
       "        [0., 0., 0., ..., 0., 0., 0.],\n",
       "        [0., 0., 0., ..., 0., 0., 0.],\n",
       "        ...,\n",
       "        [0., 0., 0., ..., 0., 0., 0.],\n",
       "        [0., 0., 0., ..., 0., 0., 0.],\n",
       "        [0., 0., 0., ..., 0., 0., 0.]]),\n",
       " array([  0.,  15.,  30.,  45.,  60.,  75.,  90., 105., 120., 135., 150.]),\n",
       " <a list of 1321 BarContainer objects>)"
      ]
     },
     "execution_count": 83,
     "metadata": {},
     "output_type": "execute_result"
    },
    {
     "data": {
      "image/png": "[encoded data removed]",
      "text/plain": [
       "<Figure size 640x480 with 1 Axes>"
      ]
     },
     "metadata": {},
     "output_type": "display_data"
    }
   ],
   "source": [
    "import copy\n",
    "new_swe_copy = copy.deepcopy(new_swe)\n",
    "plt.hist(new_swe,range = (0,150))"
   ]
  },
  {
   "cell_type": "markdown",
   "metadata": {},
   "source": [
    "### Plots"
   ]
  },
  {
   "cell_type": "code",
   "execution_count": 88,
   "metadata": {},
   "outputs": [],
   "source": [
    "new_swe[new_swe <0] = np.nan"
   ]
  },
  {
   "cell_type": "code",
   "execution_count": 141,
   "metadata": {},
   "outputs": [
    {
     "data": {
      "text/plain": [
       "<matplotlib.collections.PolyCollection at 0x7f6e5b8bd5e0>"
      ]
     },
     "execution_count": 141,
     "metadata": {},
     "output_type": "execute_result"
    },
    {
     "data": {
      "image/png": "[encoded data removed]",
      "text/plain": [
       "<Figure size 640x480 with 2 Axes>"
      ]
     },
     "metadata": {},
     "output_type": "display_data"
    }
   ],
   "source": [
    "# Longitutude Range: [-123.3,-117.6]   -- Latitude Range: [35.4,42.0]\n",
    "mp = Basemap(projection = 'merc',\n",
    "             llcrnrlon = -125,\n",
    "             llcrnrlat = 35,\n",
    "             urcrnrlon = -117,\n",
    "             urcrnrlat = 42,\n",
    "             resolution = 'l')\n",
    "\n",
    "x,y= mp(new_lons,new_lats)\n",
    "\n",
    "cs = mp.pcolor(x,y,new_swe,cmap= 'Blues')\n",
    "cbar = mp.colorbar(cs,location = 'bottom',pad = '10%')\n",
    "\n",
    "mp.drawcoastlines()\n",
    "mp.drawstates()\n",
    "mp.drawcountries()\n",
    "mp.drawcounties()"
   ]
  },
  {
   "cell_type": "code",
   "execution_count": 100,
   "metadata": {
    "id": "S8-nvVPqgF8Q"
   },
   "outputs": [],
   "source": [
    "### Plotting\n",
    "# Replace 0 with nans\n",
    "# Convert Numpy Array to Pandas DataFrame\n",
    "final_pd = pd.DataFrame(final_list,columns = ['lat','lon','SWE'])\n"
   ]
  },
  {
   "cell_type": "code",
   "execution_count": 102,
   "metadata": {},
   "outputs": [
    {
     "data": {
      "text/html": [
       "<div>\n",
       "<style scoped>\n",
       "    .dataframe tbody tr th:only-of-type {\n",
       "        vertical-align: middle;\n",
       "    }\n",
       "\n",
       "    .dataframe tbody tr th {\n",
       "        vertical-align: top;\n",
       "    }\n",
       "\n",
       "    .dataframe thead th {\n",
       "        text-align: right;\n",
       "    }\n",
       "</style>\n",
       "<table border=\"1\" class=\"dataframe\">\n",
       "  <thead>\n",
       "    <tr style=\"text-align: right;\">\n",
       "      <th></th>\n",
       "      <th>lat</th>\n",
       "      <th>lon</th>\n",
       "      <th>SWE</th>\n",
       "    </tr>\n",
       "  </thead>\n",
       "  <tbody>\n",
       "    <tr>\n",
       "      <th>0</th>\n",
       "      <td>41.270</td>\n",
       "      <td>-122.505</td>\n",
       "      <td>1</td>\n",
       "    </tr>\n",
       "    <tr>\n",
       "      <th>1</th>\n",
       "      <td>41.370</td>\n",
       "      <td>-122.235</td>\n",
       "      <td>1</td>\n",
       "    </tr>\n",
       "    <tr>\n",
       "      <th>2</th>\n",
       "      <td>41.390</td>\n",
       "      <td>-122.230</td>\n",
       "      <td>18</td>\n",
       "    </tr>\n",
       "    <tr>\n",
       "      <th>3</th>\n",
       "      <td>41.400</td>\n",
       "      <td>-122.225</td>\n",
       "      <td>89</td>\n",
       "    </tr>\n",
       "    <tr>\n",
       "      <th>4</th>\n",
       "      <td>41.395</td>\n",
       "      <td>-122.225</td>\n",
       "      <td>9</td>\n",
       "    </tr>\n",
       "    <tr>\n",
       "      <th>5</th>\n",
       "      <td>41.390</td>\n",
       "      <td>-122.225</td>\n",
       "      <td>28</td>\n",
       "    </tr>\n",
       "    <tr>\n",
       "      <th>6</th>\n",
       "      <td>41.385</td>\n",
       "      <td>-122.225</td>\n",
       "      <td>17</td>\n",
       "    </tr>\n",
       "    <tr>\n",
       "      <th>7</th>\n",
       "      <td>41.405</td>\n",
       "      <td>-122.220</td>\n",
       "      <td>59</td>\n",
       "    </tr>\n",
       "    <tr>\n",
       "      <th>8</th>\n",
       "      <td>41.400</td>\n",
       "      <td>-122.220</td>\n",
       "      <td>88</td>\n",
       "    </tr>\n",
       "    <tr>\n",
       "      <th>9</th>\n",
       "      <td>41.395</td>\n",
       "      <td>-122.220</td>\n",
       "      <td>92</td>\n",
       "    </tr>\n",
       "    <tr>\n",
       "      <th>10</th>\n",
       "      <td>41.390</td>\n",
       "      <td>-122.220</td>\n",
       "      <td>78</td>\n",
       "    </tr>\n",
       "    <tr>\n",
       "      <th>11</th>\n",
       "      <td>41.385</td>\n",
       "      <td>-122.220</td>\n",
       "      <td>9</td>\n",
       "    </tr>\n",
       "    <tr>\n",
       "      <th>12</th>\n",
       "      <td>41.400</td>\n",
       "      <td>-122.215</td>\n",
       "      <td>123</td>\n",
       "    </tr>\n",
       "    <tr>\n",
       "      <th>13</th>\n",
       "      <td>41.395</td>\n",
       "      <td>-122.215</td>\n",
       "      <td>96</td>\n",
       "    </tr>\n",
       "    <tr>\n",
       "      <th>14</th>\n",
       "      <td>41.390</td>\n",
       "      <td>-122.215</td>\n",
       "      <td>64</td>\n",
       "    </tr>\n",
       "  </tbody>\n",
       "</table>\n",
       "</div>"
      ],
      "text/plain": [
       "       lat      lon  SWE\n",
       "0   41.270 -122.505    1\n",
       "1   41.370 -122.235    1\n",
       "2   41.390 -122.230   18\n",
       "3   41.400 -122.225   89\n",
       "4   41.395 -122.225    9\n",
       "5   41.390 -122.225   28\n",
       "6   41.385 -122.225   17\n",
       "7   41.405 -122.220   59\n",
       "8   41.400 -122.220   88\n",
       "9   41.395 -122.220   92\n",
       "10  41.390 -122.220   78\n",
       "11  41.385 -122.220    9\n",
       "12  41.400 -122.215  123\n",
       "13  41.395 -122.215   96\n",
       "14  41.390 -122.215   64"
      ]
     },
     "execution_count": 102,
     "metadata": {},
     "output_type": "execute_result"
    }
   ],
   "source": [
    "final_pd[final_pd['SWE']>0].reset_index(drop=True).head(15)"
   ]
  },
  {
   "cell_type": "code",
   "execution_count": 69,
   "metadata": {},
   "outputs": [
    {
     "data": {
      "text/plain": [
       "<matplotlib.collections.PathCollection at 0x7fdad658e190>"
      ]
     },
     "execution_count": 69,
     "metadata": {},
     "output_type": "execute_result"
    },
    {
     "data": {
      "image/png": "[encoded data removed]",
      "text/plain": [
       "<Figure size 640x480 with 1 Axes>"
      ]
     },
     "metadata": {},
     "output_type": "display_data"
    }
   ],
   "source": [
    "# Replace -32768 with nans\n",
    "# nonzero_pd = final_pd.copy(deep=True)\n",
    "final_pd['none_zero_value'] = final_pd['value'].replace({-32768:np.nan})\n",
    "plt.scatter(x=final_pd['lon'],y=final_pd['lat'],c=final_pd['none_zero_value'])"
   ]
  },
  {
   "cell_type": "code",
   "execution_count": 29,
   "metadata": {},
   "outputs": [],
   "source": [
    "# Convert greater than 4 to np.nan\n",
    "new_swe[new_swe<4] = np.nan"
   ]
  },
  {
   "cell_type": "code",
   "execution_count": 30,
   "metadata": {},
   "outputs": [
    {
     "data": {
      "text/plain": [
       "(array([4.000e+00, 5.000e+00, 6.000e+00, 7.000e+00, 8.000e+00, 9.000e+00,\n",
       "        1.000e+01, 1.100e+01, 1.300e+01, 1.400e+01, 1.500e+01, 1.600e+01,\n",
       "        1.700e+01, 1.800e+01, 2.100e+01, 2.200e+01, 2.300e+01, 2.500e+01,\n",
       "        2.600e+01, 2.800e+01, 3.000e+01, 3.200e+01, 3.600e+01, 4.200e+01,\n",
       "        4.300e+01, 4.600e+01, 4.900e+01, 5.500e+01, 5.900e+01, 6.200e+01,\n",
       "        6.300e+01, 6.400e+01, 6.500e+01, 7.400e+01, 7.500e+01, 7.800e+01,\n",
       "        8.000e+01, 8.100e+01, 8.200e+01, 8.300e+01, 8.500e+01, 8.800e+01,\n",
       "        8.900e+01, 9.100e+01, 9.200e+01, 9.300e+01, 9.400e+01, 9.500e+01,\n",
       "        9.600e+01, 1.000e+02, 1.040e+02, 1.190e+02, 1.230e+02, 1.340e+02,\n",
       "        1.370e+02, 4.150e+02, 1.887e+03, 3.320e+03, 5.075e+03, 5.644e+03,\n",
       "        6.093e+03, 6.473e+03, 6.498e+03, 6.553e+03,       nan]),\n",
       " array([     19,      15,       9,       7,       3,       8,       3,\n",
       "              1,       3,       3,       1,       2,       2,       1,\n",
       "              2,       1,       1,       1,       3,       1,       1,\n",
       "              2,       1,       1,       1,       1,       1,       2,\n",
       "              2,       1,       2,       1,       1,       3,       1,\n",
       "              1,       1,       1,       2,       3,       1,       1,\n",
       "              1,       1,       2,       1,       1,       1,       1,\n",
       "              1,       2,       1,       2,       2,       2,       1,\n",
       "              1,       1,       1,       1,       1,       1,       1,\n",
       "              4, 1507114]))"
      ]
     },
     "execution_count": 30,
     "metadata": {},
     "output_type": "execute_result"
    }
   ],
   "source": [
    "np.unique(new_swe,return_counts=True)"
   ]
  },
  {
   "cell_type": "markdown",
   "metadata": {},
   "source": [
    "### Plot Value which are greater than 4"
   ]
  },
  {
   "cell_type": "code",
   "execution_count": 147,
   "metadata": {},
   "outputs": [
    {
     "data": {
      "text/plain": [
       "(array([41.42 , 41.415, 41.41 , 41.425, 41.42 , 41.415, 41.41 , 41.405,\n",
       "        41.42 , 41.415, 41.405, 37.245]),\n",
       " array([-122.19 , -122.19 , -122.19 , -122.185, -122.185, -122.185,\n",
       "        -122.185, -122.185, -122.18 , -122.18 , -122.18 , -118.655]))"
      ]
     },
     "execution_count": 147,
     "metadata": {},
     "output_type": "execute_result"
    }
   ],
   "source": [
    "new_lats[new_swe>100],new_lons[new_swe>100]"
   ]
  },
  {
   "cell_type": "code",
   "execution_count": 46,
   "metadata": {},
   "outputs": [
    {
     "data": {
      "text/plain": [
       "<matplotlib.collections.PolyCollection at 0x7f6e94a9afa0>"
      ]
     },
     "execution_count": 46,
     "metadata": {},
     "output_type": "execute_result"
    },
    {
     "data": {
      "image/png": "[encoded data removed]",
      "text/plain": [
       "<Figure size 640x480 with 1 Axes>"
      ]
     },
     "metadata": {},
     "output_type": "display_data"
    }
   ],
   "source": [
    "### BASEMAP\n",
    "mp = Basemap(projection = 'merc',\n",
    "             llcrnrlon = -125,\n",
    "             llcrnrlat = 35,\n",
    "             urcrnrlon = -117,\n",
    "             urcrnrlat = 42,\n",
    "             resolution = 'l')\n",
    "\n",
    "x,y= mp(new_lons,new_lats)\n",
    "\n",
    "cs = mp.pcolor(x,y,new_swe,cmap= 'viridis')\n",
    "mp.drawcoastlines()\n",
    "mp.drawstates()\n",
    "mp.drawcountries()\n",
    "mp.drawcounties()"
   ]
  },
  {
   "cell_type": "code",
   "execution_count": 49,
   "metadata": {},
   "outputs": [],
   "source": [
    "# Add new SWE value inside dataframe\n",
    "final_pd['new_value'] = pd.Series(new_swe.reshape(new_swe.shape[0]*new_swe.shape[1]))\n",
    "# Scatter Plot on values greater than 4\n",
    "sc = plt.scatter(final_pd['lon'],y=final_pd['lat'],c=final_pd['new_value'])"
   ]
  },
  {
   "cell_type": "code",
   "execution_count": 50,
   "metadata": {},
   "outputs": [
    {
     "data": {
      "text/plain": [
       "<matplotlib.colorbar.Colorbar at 0x7f6e2cc53c40>"
      ]
     },
     "execution_count": 50,
     "metadata": {},
     "output_type": "execute_result"
    },
    {
     "data": {
      "image/png": "[encoded data removed]",
      "text/plain": [
       "<Figure size 640x480 with 2 Axes>"
      ]
     },
     "metadata": {},
     "output_type": "display_data"
    }
   ],
   "source": [
    "## Plot Graph\n",
    "plt.colorbar(sc)"
   ]
  },
  {
   "cell_type": "markdown",
   "metadata": {},
   "source": [
    "## Histogram on Distribution Over 7 Days"
   ]
  },
  {
   "cell_type": "code",
   "execution_count": 126,
   "metadata": {},
   "outputs": [
    {
     "name": "stdout",
     "output_type": "stream",
     "text": [
      "---- Working on Plot Day 1 ----\n",
      "---- Working on Plot Day 2 ----\n",
      "---- Working on Plot Day 3 ----\n",
      "---- Working on Plot Day 4 ----\n",
      "---- Working on Plot Day 5 ----\n",
      "---- Working on Plot Day 6 ----\n",
      "---- Working on Plot Day 7 ----\n"
     ]
    },
    {
     "data": {
      "image/png": "[encoded data removed]",
      "text/plain": [
       "<Figure size 1500x5000 with 7 Axes>"
      ]
     },
     "metadata": {},
     "output_type": "display_data"
    }
   ],
   "source": [
    "num_days = 7\n",
    "\n",
    "plt.figure(figsize=(15,50))\n",
    "for i in range(num_days):\n",
    "    print('---- Working on Plot Day {} ----'.format(i+1))\n",
    "    # swe = data['SWE'][i]\n",
    "    # # Sample 1/5 of the datapoints\n",
    "    # new_lats,new_lons,new_swe,final_list = subsample(lats,lons,swe)\n",
    "    # # Save Numpy Array\n",
    "    # np.save(f'2015_day{i+1}.npy',new_swe)\n",
    "    \n",
    "    new_swe = np.load(f'2015_day{i+1}.npy')\n",
    "    \n",
    "    # Convert negatives and 0s to np.nan\n",
    "    new_swe[new_swe<1] = np.nan\n",
    "\n",
    "    plt.subplot(num_days,1,i+1)\n",
    "    plt.hist(new_swe,range = (0,150))\n",
    "    plt.title('Day {}'.format(i+1))\n",
    "    plt.subplots_adjust(hspace=0.5)"
   ]
  },
  {
   "cell_type": "code",
   "execution_count": null,
   "metadata": {},
   "outputs": [],
   "source": []
  },
  {
   "cell_type": "markdown",
   "metadata": {},
   "source": [
    "## 100th day"
   ]
  },
  {
   "cell_type": "code",
   "execution_count": 13,
   "metadata": {},
   "outputs": [],
   "source": [
    "swe100 = data['SWE'][99]\n",
    "lat100,lon100,swe100,final_list100 = subsample(lats,lons,swe100)"
   ]
  },
  {
   "cell_type": "code",
   "execution_count": 14,
   "metadata": {},
   "outputs": [
    {
     "data": {
      "text/plain": [
       "(1141, 1321)"
      ]
     },
     "execution_count": 14,
     "metadata": {},
     "output_type": "execute_result"
    }
   ],
   "source": [
    "swe100.shape"
   ]
  },
  {
   "cell_type": "code",
   "execution_count": 15,
   "metadata": {},
   "outputs": [],
   "source": [
    "swe100[swe100<0] = np.nan\n",
    "swe100[swe100>500] = np.nan"
   ]
  },
  {
   "cell_type": "code",
   "execution_count": 18,
   "metadata": {},
   "outputs": [
    {
     "name": "stderr",
     "output_type": "stream",
     "text": [
      "/tmp/ipykernel_76/2203214642.py:11: UserWarning: The input coordinates to pcolor are interpreted as cell centers, but are not monotonically increasing or decreasing. This may lead to incorrectly calculated cell edges, in which case, please supply explicit cell edges to pcolor.\n",
      "  cs = mp100.pcolor(x,y,swe100)\n"
     ]
    },
    {
     "data": {
      "text/plain": [
       "<matplotlib.collections.PolyCollection at 0x7fdee39a1760>"
      ]
     },
     "execution_count": 18,
     "metadata": {},
     "output_type": "execute_result"
    },
    {
     "data": {
      "image/png": "[encoded data removed]",
      "text/plain": [
       "<Figure size 640x480 with 1 Axes>"
      ]
     },
     "metadata": {},
     "output_type": "display_data"
    }
   ],
   "source": [
    "### BASEMAP\n",
    "mp100 = Basemap(projection = 'merc',\n",
    "             llcrnrlon = -125,\n",
    "             llcrnrlat = 35,\n",
    "             urcrnrlon = -117,\n",
    "             urcrnrlat = 42,\n",
    "             resolution = 'l')\n",
    "\n",
    "x,y= mp100(lat100,lon100)\n",
    "\n",
    "cs = mp100.pcolor(x,y,swe100)\n",
    "mp100.drawcoastlines()\n",
    "mp100.drawstates()\n",
    "mp100.drawcountries()\n",
    "mp100.drawcounties()"
   ]
  },
  {
   "cell_type": "code",
   "execution_count": 17,
   "metadata": {},
   "outputs": [
    {
     "data": {
      "text/plain": [
       "(array([  0.,   1.,   2.,   3.,   4.,   5.,   6.,   7.,   8.,   9.,  10.,\n",
       "         11.,  12.,  13.,  14.,  15.,  16.,  17.,  18.,  19.,  20.,  21.,\n",
       "         22.,  23.,  24.,  25.,  26.,  27.,  28.,  29.,  30.,  31.,  32.,\n",
       "         33.,  34.,  35.,  36.,  37.,  38.,  39.,  40.,  41.,  42.,  43.,\n",
       "         44.,  45.,  46.,  47.,  48.,  49.,  50.,  51.,  52.,  53.,  54.,\n",
       "         55.,  56.,  57.,  58.,  59.,  60.,  61.,  62.,  63.,  64.,  65.,\n",
       "         66.,  67.,  68.,  69.,  70.,  71.,  72.,  73.,  74.,  75.,  76.,\n",
       "         77.,  78.,  79.,  80.,  81.,  82.,  83.,  84.,  85.,  86.,  87.,\n",
       "         88.,  89.,  90.,  91.,  92.,  93.,  94.,  95.,  96.,  97.,  98.,\n",
       "         99., 100., 101., 102., 103., 104., 105., 106., 107., 108., 109.,\n",
       "        110., 111., 112., 113., 114., 115., 116., 117., 118., 119., 120.,\n",
       "        121., 122., 123., 124., 125., 126., 127., 128., 129., 130., 131.,\n",
       "        132., 133., 134., 135., 136., 137., 138., 139., 140., 141., 142.,\n",
       "        143., 144., 145., 146., 147., 148., 149., 150., 151., 152., 153.,\n",
       "        154., 155., 156., 157., 158., 159., 160., 161., 162., 163., 164.,\n",
       "        165., 166., 167., 168., 169., 170., 171., 172., 173., 174., 175.,\n",
       "        176., 177., 178., 179., 180., 181., 182., 183., 184., 185., 186.,\n",
       "        187., 188., 189., 190., 191., 192., 193., 194., 195., 196., 197.,\n",
       "        198., 199., 200., 201., 202., 203., 204., 205., 206., 207., 208.,\n",
       "        209., 210., 211., 212., 213., 214., 215., 216., 217., 218., 219.,\n",
       "        220., 221., 222., 223., 224., 225., 226., 227., 228., 229., 230.,\n",
       "        231., 232., 233., 234., 235., 236., 237., 238., 239., 240., 241.,\n",
       "        242., 243., 244., 245., 246., 247., 248., 249., 250., 251., 252.,\n",
       "        253., 254., 255., 256., 257., 258., 259., 260., 261., 262., 263.,\n",
       "        264., 265., 266., 267., 268., 269., 270., 271., 272., 273., 274.,\n",
       "        275., 276., 277., 278., 279., 280., 281., 282., 283., 284., 285.,\n",
       "        286., 287., 288., 289., 290., 291., 292., 293., 294., 295., 296.,\n",
       "        297., 298., 299., 300., 301., 302., 303., 304., 305., 306., 307.,\n",
       "        308., 309., 310., 311., 312., 313., 314., 315., 316., 317., 318.,\n",
       "        319., 320., 321., 322., 323., 324., 325., 326., 327., 328., 329.,\n",
       "        330., 331., 332., 333., 334., 335., 336., 337., 338., 339., 340.,\n",
       "        341., 342., 343., 344., 345., 346., 347., 348., 349., 350., 351.,\n",
       "        352., 353., 354., 355., 356., 357., 358., 359., 360., 361., 362.,\n",
       "        363., 364., 365., 366., 367., 368., 369., 370., 371., 372., 373.,\n",
       "        374., 375., 376., 377., 378., 379., 380., 381., 382., 383., 384.,\n",
       "        385., 386., 387., 388., 389., 390., 391., 392., 393., 394., 395.,\n",
       "        396., 397., 398., 399., 400., 401., 402., 403., 404., 405., 406.,\n",
       "        407., 408., 409., 410., 411., 412., 413., 414., 415., 416., 417.,\n",
       "        418., 419., 420., 421., 422., 423., 424., 425., 426., 427., 428.,\n",
       "        429., 430., 431., 432., 433., 434., 435., 436., 437., 438., 439.,\n",
       "        440., 441., 442., 443., 444., 445., 446., 447., 448., 449., 450.,\n",
       "        451., 452., 453., 454., 455., 456., 457., 458., 459., 460., 461.,\n",
       "        462., 463., 464., 465., 466., 467., 468., 469., 470., 471., 472.,\n",
       "        473., 474., 475., 476., 477., 478., 479., 480., 481., 482., 483.,\n",
       "        484., 485., 486., 487., 488., 489., 490., 491., 492., 493., 494.,\n",
       "        495., 496., 497., 498., 499., 500.,  nan]),\n",
       " array([  92376,    5216,    3135,    2483,    2019,    1736,    1551,\n",
       "           1503,    1382,    1296,    1272,    1132,    1156,    1053,\n",
       "           1065,    1003,    1019,     932,     923,     909,     869,\n",
       "            814,     789,     845,     782,     753,     752,     712,\n",
       "            713,     642,     737,     689,     670,     638,     592,\n",
       "            599,     639,     584,     596,     571,     536,     556,\n",
       "            559,     552,     551,     515,     525,     548,     497,\n",
       "            480,     475,     440,     488,     447,     458,     446,\n",
       "            455,     445,     436,     445,     452,     445,     401,\n",
       "            432,     407,     385,     408,     395,     401,     417,\n",
       "            376,     378,     351,     387,     398,     405,     374,\n",
       "            375,     361,     407,     407,     342,     374,     363,\n",
       "            387,     391,     366,     366,     369,     353,     382,\n",
       "            395,     366,     396,     429,     366,     340,     377,\n",
       "            334,     381,     327,     356,     340,     357,     355,\n",
       "            375,     376,     348,     366,     373,     377,     354,\n",
       "            389,     365,     370,     325,     356,     370,     345,\n",
       "            330,     325,     340,     338,     318,     338,     350,\n",
       "            317,     301,     330,     306,     312,     296,     363,\n",
       "            310,     295,     296,     291,     274,     303,     285,\n",
       "            306,     251,     294,     261,     292,     276,     255,\n",
       "            270,     257,     261,     249,     219,     241,     241,\n",
       "            230,     256,     226,     267,     271,     218,     232,\n",
       "            208,     205,     213,     192,     170,     199,     214,\n",
       "            220,     216,     197,     199,     206,     196,     206,\n",
       "            186,     192,     181,     181,     180,     204,     177,\n",
       "            152,     158,     159,     181,     148,     154,     170,\n",
       "            141,     142,     127,     146,     143,     161,     147,\n",
       "            128,     143,     169,     128,     148,     137,     136,\n",
       "            139,     137,     153,     137,     134,     128,     116,\n",
       "            127,     128,     123,     123,     120,     111,     119,\n",
       "            118,     124,     113,     104,     102,     112,     105,\n",
       "            107,     122,     112,     119,     117,      94,     108,\n",
       "             96,     107,      87,     108,      90,      90,      82,\n",
       "            108,     103,     103,      88,      94,      98,     104,\n",
       "             96,      82,     109,      84,      78,      97,      76,\n",
       "             80,      88,      98,      82,      76,      76,      85,\n",
       "             77,      82,      78,      79,      77,      84,      88,\n",
       "             70,      71,      77,      75,      87,      66,      70,\n",
       "             59,      80,      67,      78,      63,      66,      70,\n",
       "             54,      74,      74,      50,      70,      63,      65,\n",
       "             60,      62,      68,      50,      55,      51,      62,\n",
       "             54,      41,      68,      53,      38,      38,      53,\n",
       "             56,      56,      54,      53,      53,      50,      52,\n",
       "             44,      65,      50,      47,      46,      42,      44,\n",
       "             36,      49,      47,      45,      49,      45,      34,\n",
       "             40,      48,      40,      43,      50,      42,      39,\n",
       "             32,      32,      44,      28,      35,      20,      35,\n",
       "             29,      25,      34,      34,      26,      31,      42,\n",
       "             26,      34,      28,      33,      18,      40,      33,\n",
       "             24,      40,      20,      34,      30,      28,      26,\n",
       "             34,      21,      30,      19,      27,      29,      24,\n",
       "             17,      25,      16,      23,      17,      20,      20,\n",
       "             26,      23,      18,      26,      34,      23,      25,\n",
       "             16,      19,      14,      18,      15,      23,      17,\n",
       "             10,      19,      15,      12,      19,      12,      25,\n",
       "             14,      21,      12,      11,      17,      12,      21,\n",
       "             14,      16,      14,      13,      14,      16,      19,\n",
       "             17,      17,      15,      13,       8,      18,       7,\n",
       "             11,      15,      11,      14,       8,       7,      13,\n",
       "              8,      18,      12,       5,      11,       9,      13,\n",
       "             10,       7,       6,       6,       7,       6,      12,\n",
       "              7,      10,      10,       6,      11,       9,      11,\n",
       "             10,       4,       5,       9,       6,       8,       8,\n",
       "             10,      15,      11,       7,       8,      14,       9,\n",
       "              9,       6,      10,       7,       3,       4,       5,\n",
       "              4,       3,      10,       8,       8,       8,       8,\n",
       "              6,       6,       6,      11,       7,       5,       5,\n",
       "              4,       6,       7,       6,       7,       8,       4,\n",
       "              4,       5,       5,       6,       5,       9,       3,\n",
       "              9,       3,       6,       4,       4,       4,       5,\n",
       "              1,       5,       1,       4, 1306181]))"
      ]
     },
     "execution_count": 17,
     "metadata": {},
     "output_type": "execute_result"
    }
   ],
   "source": [
    "np.unique(swe100,return_counts=True)"
   ]
  },
  {
   "cell_type": "code",
   "execution_count": 33,
   "metadata": {},
   "outputs": [
    {
     "name": "stderr",
     "output_type": "stream",
     "text": [
      "/tmp/ipykernel_498/1873868723.py:2: UserWarning: \n",
      "\n",
      "`distplot` is a deprecated function and will be removed in seaborn v0.14.0.\n",
      "\n",
      "Please adapt your code to use either `displot` (a figure-level function with\n",
      "similar flexibility) or `histplot` (an axes-level function for histograms).\n",
      "\n",
      "For a guide to updating your code to use the new functions, please see\n",
      "https://gist.github.com/mwaskom/de44147ed2974457ad6372750bbe5751\n",
      "\n",
      "  sns.distplot(swe100)\n"
     ]
    },
    {
     "data": {
      "text/plain": [
       "<AxesSubplot:ylabel='Density'>"
      ]
     },
     "execution_count": 33,
     "metadata": {},
     "output_type": "execute_result"
    },
    {
     "data": {
      "image/png": "[encoded data removed]",
      "text/plain": [
       "<Figure size 640x480 with 1 Axes>"
      ]
     },
     "metadata": {},
     "output_type": "display_data"
    }
   ],
   "source": [
    "import seaborn as sns\n",
    "sns.distplot(swe100)"
   ]
  },
  {
   "cell_type": "code",
   "execution_count": 35,
   "metadata": {},
   "outputs": [
    {
     "data": {
      "text/plain": [
       "(array([40.295, 40.29 , 40.295, ..., 36.585, 36.58 , 36.555]),\n",
       " array([-123.065, -123.065, -123.06 , ..., -117.83 , -117.83 , -117.805]))"
      ]
     },
     "execution_count": 35,
     "metadata": {},
     "output_type": "execute_result"
    }
   ],
   "source": [
    "lat100[swe100>1], lon100[swe100>1]"
   ]
  },
  {
   "cell_type": "markdown",
   "metadata": {},
   "source": [
    "## Find data point closest to # 39.9927° N, -120.8039° W"
   ]
  },
  {
   "cell_type": "code",
   "execution_count": 5,
   "metadata": {},
   "outputs": [],
   "source": [
    "### Find Data value that's closest to 39.9927°, -120.8039°\n",
    "def find_index(lon,lat):\n",
    "    \n",
    "    ### Find Lon\n",
    "    maxx = 100\n",
    "    lon_idx = 0\n",
    "    for i in range(len(data['lon'])):\n",
    "        dist = abs(data['lon'][i][0] - lon)\n",
    "        if dist < maxx:\n",
    "            maxx = dist\n",
    "            lon_idx = i\n",
    "    print('Longitude Index:',lon_idx)\n",
    "    print('Longitude Value:',data['lon'][lon_idx][0])\n",
    "    \n",
    "    ### Find Lat\n",
    "    maxx = 100\n",
    "    lat_idx = 0\n",
    "    for i in range(len(data['lat'][0])):\n",
    "        dist = abs(data['lat'][0][i] - lat)\n",
    "        if dist < maxx:\n",
    "            maxx = dist\n",
    "            lat_idx = i\n",
    "    print('Latitude Index:',lat_idx)\n",
    "    print('Latitude Value:',data['lat'][0][lat_idx])\n",
    "    \n",
    "    return lon_idx,lat_idx\n"
   ]
  },
  {
   "cell_type": "code",
   "execution_count": 6,
   "metadata": {},
   "outputs": [
    {
     "name": "stdout",
     "output_type": "stream",
     "text": [
      "Longitude Index: 2496\n",
      "Longitude Value: -120.804\n",
      "Latitude Index: 2007\n",
      "Latitude Value: 39.993\n"
     ]
    }
   ],
   "source": [
    "lon_idx,lat_idx = find_index(-120.8039,39.9927)"
   ]
  },
  {
   "cell_type": "code",
   "execution_count": 7,
   "metadata": {},
   "outputs": [
    {
     "name": "stdout",
     "output_type": "stream",
     "text": [
      "Day 0\n",
      "[[0 0 0 0 0 0 0 0 0 0]\n",
      " [0 0 0 0 0 0 0 0 0 0]\n",
      " [0 0 0 0 0 0 0 0 0 0]\n",
      " [0 0 0 0 0 0 0 0 0 0]\n",
      " [0 0 0 0 0 0 0 0 0 0]\n",
      " [0 0 0 0 0 0 0 0 0 0]\n",
      " [0 0 0 0 0 0 0 0 0 0]\n",
      " [0 0 0 0 0 0 0 0 0 0]\n",
      " [0 0 0 0 0 0 0 0 0 0]\n",
      " [0 0 0 0 0 0 0 0 0 0]]\n",
      "-------------\n",
      "Day 10\n",
      "[[0 0 0 0 0 0 0 0 0 0]\n",
      " [0 0 0 0 0 0 0 0 0 0]\n",
      " [0 0 0 0 0 0 0 0 0 0]\n",
      " [0 0 0 0 0 0 0 0 0 0]\n",
      " [0 0 0 0 0 0 0 0 0 0]\n",
      " [0 0 0 0 0 0 0 0 0 0]\n",
      " [0 0 0 0 0 0 0 0 0 0]\n",
      " [0 0 0 0 0 0 0 0 0 0]\n",
      " [0 0 0 0 0 0 0 0 0 0]\n",
      " [0 0 0 0 0 0 0 0 0 0]]\n",
      "-------------\n",
      "Day 20\n",
      "[[0 0 0 0 0 0 0 0 0 0]\n",
      " [0 0 0 0 0 0 0 0 0 0]\n",
      " [0 0 0 0 0 0 0 0 0 0]\n",
      " [0 0 0 0 0 0 0 0 0 0]\n",
      " [0 0 0 0 0 0 0 0 0 0]\n",
      " [0 0 0 0 0 0 0 0 0 0]\n",
      " [0 0 0 0 0 0 0 0 0 0]\n",
      " [0 0 0 0 0 0 0 0 0 0]\n",
      " [0 0 0 0 0 0 0 0 0 0]\n",
      " [0 0 0 0 0 0 0 0 0 0]]\n",
      "-------------\n",
      "Day 30\n",
      "[[0 0 0 0 0 0 1 0 0 0]\n",
      " [1 0 0 0 0 0 0 0 0 0]\n",
      " [0 0 0 0 0 0 0 0 0 0]\n",
      " [0 0 0 0 0 0 0 1 0 0]\n",
      " [0 0 0 0 0 0 0 0 0 0]\n",
      " [0 0 0 0 0 0 0 0 0 0]\n",
      " [0 0 0 0 0 0 0 0 0 0]\n",
      " [0 0 0 0 0 0 0 0 0 0]\n",
      " [0 0 0 0 0 0 0 0 0 0]\n",
      " [0 0 0 0 0 0 0 0 0 0]]\n",
      "-------------\n",
      "Day 40\n",
      "[[0 0 0 0 0 0 0 0 0 0]\n",
      " [0 0 0 0 0 0 0 0 0 0]\n",
      " [0 0 0 0 0 0 0 0 0 0]\n",
      " [0 0 0 0 0 0 0 0 0 0]\n",
      " [0 0 0 0 0 0 0 0 0 0]\n",
      " [0 0 0 0 0 0 0 0 0 0]\n",
      " [0 0 0 0 0 0 0 0 0 0]\n",
      " [0 0 0 0 0 0 0 0 0 0]\n",
      " [0 0 0 0 0 0 0 0 0 0]\n",
      " [0 0 0 0 0 0 0 0 0 0]]\n",
      "-------------\n",
      "Day 50\n",
      "[[1 0 0 0 0 0 1 0 0 1]\n",
      " [4 0 0 1 1 3 0 0 1 0]\n",
      " [0 1 0 0 1 0 0 0 1 0]\n",
      " [0 0 0 0 1 1 0 0 0 1]\n",
      " [0 0 0 0 1 0 0 1 1 1]\n",
      " [0 0 0 1 1 1 0 0 1 0]\n",
      " [0 0 1 0 1 0 0 0 0 0]\n",
      " [0 1 1 0 0 0 0 0 0 0]\n",
      " [0 1 0 0 0 0 0 0 0 0]\n",
      " [0 0 0 0 0 0 0 0 0 0]]\n",
      "-------------\n",
      "Day 60\n",
      "[[ 7  0  3  3  2  1  1  3  2  1]\n",
      " [13  4  4  3  3  3  6  3  3  1]\n",
      " [ 2  5  3  3  3  4  7  1  2  1]\n",
      " [ 6  5  5  4  3  4  5  8  6  8]\n",
      " [ 2  4  3  5  5  1  2  4 10  6]\n",
      " [ 3  2  5  3  7  5  2  1  7  4]\n",
      " [ 1  2  9  1  6  4  1  1  5  6]\n",
      " [ 4  6  7  3  3  2  1  1  1  3]\n",
      " [ 3  5  3  3  5  2  1  2  1  0]\n",
      " [ 3  1  1  1  3  4  2  2  1  0]]\n",
      "-------------\n",
      "Day 70\n",
      "[[ 53   5   5   4   5 133   6  34  45  19]\n",
      " [ 28  12  26  12  13  78 144  74  78  38]\n",
      " [ 14   7  14   8  10  15 143  14   9  21]\n",
      " [  1   3   3   6   9   8  42 123  50  18]\n",
      " [  3  14   1  23  18   3   3  62  75  42]\n",
      " [  8   8  50  15  27  13  66   1 100  30]\n",
      " [  2   1  55   1  21   3  36   0   2  52]\n",
      " [  3  10  13   6   2   8   4   3   6   2]\n",
      " [  6  10   9  18  13   2   2   2   1   5]\n",
      " [  3   0   2   1  43   4   0   0   2   0]]\n",
      "-------------\n",
      "Day 80\n",
      "[[ 82  62  31  45 211 307 111 109 137 128]\n",
      " [125  66  64 129 216 316 280 156 206 146]\n",
      " [ 44  62  53  81 254 274 320  80 119 117]\n",
      " [ 55  62  45 106 218 210 228 233 136 100]\n",
      " [ 53  68  52 100 230 217 231 366 194 106]\n",
      " [ 48  47 168  93 125 247 312 179 258  96]\n",
      " [ 45  29 246  50 115  62 172  22  91 137]\n",
      " [ 47 115 224  90 208  46  48  38  48  63]\n",
      " [ 56 198 207 138 132 162  26  49  41  53]\n",
      " [124 164 223 242 116  52  25  37  29  35]]\n",
      "-------------\n",
      "Day 90\n",
      "[[ 76  60  29  40 183 280 126 110 138 138]\n",
      " [124  61  59 108 190 283 258 170 201 144]\n",
      " [ 40  59  48  66 215 230 293  83 109 112]\n",
      " [ 44  53  35  92 185 175 192 217 131  93]\n",
      " [ 49  55  43  84 196 178 157 331 179 102]\n",
      " [ 43  37 150  79 106 203 257 139 217  93]\n",
      " [ 39  19 212  42  95  53 163   7  68 119]\n",
      " [ 33  92 184  85 194  40  45  33  46  61]\n",
      " [ 45 165 163 120 113 152  17  42  39  50]\n",
      " [ 97 133 171 197  86  44  16  29  27  35]]\n",
      "-------------\n",
      "Day 100\n",
      "[[ 75  59  27  34 174 278 125 109 138 138]\n",
      " [120  59  57 100 181 281 257 170 200 143]\n",
      " [ 39  57  46  61 203 223 289  82 109 112]\n",
      " [ 43  50  33  91 182 170 188 214 130  92]\n",
      " [ 47  52  39  83 193 175 155 329 176 100]\n",
      " [ 40  34 143  74 103 196 255 138 215  91]\n",
      " [ 35  15 207  39  97  51 159   5  64 117]\n",
      " [ 27  88 180  82 191  43  42  31  44  59]\n",
      " [ 39 161 157 118 107 150  14  40  39  50]\n",
      " [ 85 127 166 193  85  40  12  27  26  34]]\n",
      "-------------\n",
      "Day 110\n",
      "[[ 72  55  22  25 133 255 125 108 136 137]\n",
      " [112  56  56  82 170 257 250 167 194 141]\n",
      " [ 32  54  46  43 165 190 269  81  99 106]\n",
      " [ 40  45  31  74 145 140 156 197 123  86]\n",
      " [ 39  49  34  69 160 143 125 313 174  97]\n",
      " [ 37  27 127  62  82 163 234 125 204  88]\n",
      " [ 27  10 181  33  84  40 145   4  50 113]\n",
      " [ 20  67 145  67 169  42  36  28  43  55]\n",
      " [ 26 132 116  96  84 133  12  36  39  51]\n",
      " [ 63  96 122 161  64  34   9  25  24  34]]\n",
      "-------------\n",
      "Day 120\n",
      "[[ 69  49  17  14  98 219 124 105 134 135]\n",
      " [102  54  53  55 122 225 240 162 188 139]\n",
      " [ 29  52  42  31 127 148 250  80  96 104]\n",
      " [ 36  42  29  61  92  99 128 181 116  82]\n",
      " [ 37  42  28  61 130  98  53 285 158  94]\n",
      " [ 31  20 107  51  64 120 181 112 184  85]\n",
      " [ 20   5 143  25  65  22 123   2  40 107]\n",
      " [ 10  51 100  53 141  31  27  24  42  48]\n",
      " [ 13 100  73  72  65 111   9  29  37  50]\n",
      " [ 30  63  73 116  32  25   2  16  20  31]]\n",
      "-------------\n",
      "Day 130\n",
      "[[ 58  42  12   6  28  98 124 104 135 135]\n",
      " [ 83  44  42  24  46  75 121 153 125 116]\n",
      " [ 21  41  33  14  40  44 113  74  52  81]\n",
      " [ 25  36  21  32  34  25  57  84  69  68]\n",
      " [ 26  29  17  37  55  16  19 109  80  92]\n",
      " [ 23  10  50  26  29  53  35  47  75  69]\n",
      " [ 10   1  73  11  31   9  43   1  33  55]\n",
      " [  3  26  59  32  41  13  16  11  35  33]\n",
      " [  4  26  34  22  37  32   3  12  25  41]\n",
      " [ 10   5   6  18   5   9   1   3  10  19]]\n",
      "-------------\n",
      "Day 140\n",
      "[[ 52  38  15   5  22 131 156 141 154 169]\n",
      " [ 63  42  42  21  41  84 118 161 150 135]\n",
      " [ 18  35  26  11  37  40 111  59  64 100]\n",
      " [  4  21  10  28  31  25  56  82  79  79]\n",
      " [ 24  17   8  27  45  14  17 144  89 105]\n",
      " [ 17   8  46  19  23  46  42  64  64  75]\n",
      " [  9   1  69  12  27   8  40   0  25  48]\n",
      " [  1  26  50  29  14  19  13   7  37  20]\n",
      " [  1  24  26  14  26  15   4   4  21  44]\n",
      " [  6   2   3  16   2   5   0   0   5  16]]\n",
      "-------------\n",
      "Day 150\n",
      "[[ 37  35  12   0  18 111 143 135 156 168]\n",
      " [ 51  31  33  14  36  32 112 149 147 136]\n",
      " [ 15  29  19   8  34  35 106  52  54 102]\n",
      " [  2  14   7  25  25  21  49  70  73  80]\n",
      " [ 15   9   4  24  42  12  13 135  80 105]\n",
      " [ 16   4  38  18  20  42  18  61  55  64]\n",
      " [  6   0  63   5  25   6  23   1  17  40]\n",
      " [  1  26  46  17  12  17   8   6  33  14]\n",
      " [  0  23  23   9  19  13   4   3  17  35]\n",
      " [  6   1   3  12   1   5   1   0   5  10]]\n",
      "-------------\n",
      "Day 160\n",
      "[[ 29  15   7   0  16  82 115 109 132 148]\n",
      " [ 34  20  22  12  32  24  64 111 118 115]\n",
      " [  5  16  10   5  30  26  70  36  42  91]\n",
      " [  0   4   1  15  19  17  38  48  56  71]\n",
      " [  3   3   0  14  32   9  11 102  59  93]\n",
      " [  7   2  26  10  15  35  10  46  37  45]\n",
      " [  1   0  48   1  15   5  10   0  14  24]\n",
      " [  0  20  38   7  10   5   2   1  23  13]\n",
      " [  0  18  18   4  11   8   1   1   5  23]\n",
      " [  4   1   2  11   0   0   0   0   0   4]]\n",
      "-------------\n",
      "Day 170\n",
      "[[19  7  3  0 10 11 56 55 72 78]\n",
      " [16  6 13  4 20 13 14 45 51 52]\n",
      " [ 1  5  6  2 16  8 27 15 25 45]\n",
      " [ 0  1  1  9 13  7 14 22 25 38]\n",
      " [ 0  0  0  8 17  6  3 17 22 47]\n",
      " [ 1  0 15  4  7 16  4  5  6 14]\n",
      " [ 0  0 19  0  7  2  3  0  7  4]\n",
      " [ 0 13 10  2  7  1  0  0 17  7]\n",
      " [ 0 12  7  2  5  5  0  0  1 17]\n",
      " [ 2  1  1  5  0  0  0  0  0  0]]\n",
      "-------------\n",
      "Day 180\n",
      "[[ 9  3  1  0  5  7 31 36 48 40]\n",
      " [12  1  2  2 14  7  7 19 27 34]\n",
      " [ 0  1  1  1 11  5 17  3  9 24]\n",
      " [ 0  0  0  2  7  4 10 13 13 22]\n",
      " [ 1  1  0  3  9  4  2 13 12 29]\n",
      " [ 1  0  8  2  4 10  4  4  2  6]\n",
      " [ 0  0  8  0  3  1  3  0  1  2]\n",
      " [ 0 11  5  1  5  0  0  0  7  1]\n",
      " [ 0 10  6  1  3  4  0  0  0  7]\n",
      " [ 2  0  0  2  0  0  0  0  0  0]]\n",
      "-------------\n",
      "Day 190\n",
      "[[ 4  2  1  0  4 10 17 41 52 29]\n",
      " [10  0  1  3 15  9  4 13 21 17]\n",
      " [ 0  1  1  0 11  5 25  1  5 24]\n",
      " [ 0  0  0  1  5  5 14 12  5 20]\n",
      " [ 0  1  0  3  7  4  3 14  7 28]\n",
      " [ 1  1  6  2  4  8  4  5  2  4]\n",
      " [ 0  0 12  0  4  1  3  0  1  3]\n",
      " [ 0  9 10  1  4  0  0  0  2  1]\n",
      " [ 0  8  5  0  3  3  0  0  0  2]\n",
      " [ 1  0  1  1  0  0  0  0  0  0]]\n",
      "-------------\n",
      "Day 200\n",
      "[[ 1  0  0  0  2  7  4 14 27 10]\n",
      " [ 2  0  0  2  9  6  2  3  8  3]\n",
      " [ 0  0  0  0  8  3 15  0  1  6]\n",
      " [ 0  0  0  1  3  3  7  9  1  8]\n",
      " [ 0  1  0  2  5  2  1  9  1 13]\n",
      " [ 0  0  4  1  2  6  3  3  1  0]\n",
      " [ 0  0  5  0  1  1  2  0  0  1]\n",
      " [ 0  6  3  0  3  0  0  0  0  0]\n",
      " [ 0  5  3  0  1  2  0  0  0  0]\n",
      " [ 1  0  1  1  0  0  0  0  0  0]]\n",
      "-------------\n",
      "Day 210\n",
      "[[4 0 0 0 1 5 3 3 4 2]\n",
      " [7 1 2 1 6 5 3 1 5 1]\n",
      " [1 1 1 0 5 2 9 0 1 1]\n",
      " [2 0 0 1 2 3 3 6 1 3]\n",
      " [1 2 0 2 5 1 1 7 1 4]\n",
      " [0 1 6 2 3 5 2 3 2 1]\n",
      " [0 0 9 0 3 1 2 0 1 2]\n",
      " [0 5 6 1 2 0 1 0 0 0]\n",
      " [0 5 2 0 4 2 0 0 0 0]\n",
      " [1 0 0 1 0 0 0 0 0 0]]\n",
      "-------------\n",
      "Day 220\n",
      "[[1 0 0 0 0 3 1 1 1 1]\n",
      " [2 0 0 0 3 1 0 0 2 1]\n",
      " [0 0 0 0 2 1 3 0 0 0]\n",
      " [0 0 0 0 1 1 1 3 0 1]\n",
      " [0 0 0 0 2 0 0 5 0 1]\n",
      " [0 0 2 0 1 1 1 2 0 0]\n",
      " [0 0 3 0 1 0 0 0 0 0]\n",
      " [0 2 1 0 1 0 0 0 0 0]\n",
      " [0 2 0 0 0 1 0 0 0 0]\n",
      " [0 0 0 0 0 0 0 0 0 0]]\n",
      "-------------\n",
      "Day 230\n",
      "[[0 0 0 0 0 2 0 0 0 0]\n",
      " [1 0 0 0 1 1 0 0 1 0]\n",
      " [0 0 0 0 1 0 1 0 0 0]\n",
      " [0 0 0 0 0 0 0 2 0 0]\n",
      " [0 0 0 0 1 0 0 3 0 0]\n",
      " [0 0 1 0 0 1 0 1 0 0]\n",
      " [0 0 1 0 0 0 0 0 0 0]\n",
      " [0 1 0 0 1 0 0 0 0 0]\n",
      " [0 1 0 0 0 1 0 0 0 0]\n",
      " [0 0 0 0 0 0 0 0 0 0]]\n",
      "-------------\n",
      "Day 240\n",
      "[[0 0 0 0 0 1 0 0 0 0]\n",
      " [0 0 0 0 0 0 0 0 1 0]\n",
      " [0 0 0 0 0 0 0 0 0 0]\n",
      " [0 0 0 0 0 0 0 1 0 0]\n",
      " [0 0 0 0 0 0 0 2 0 0]\n",
      " [0 0 0 0 0 0 0 1 0 0]\n",
      " [0 0 0 0 0 0 0 0 0 0]\n",
      " [0 0 0 0 0 0 0 0 0 0]\n",
      " [0 0 0 0 0 0 0 0 0 0]\n",
      " [0 0 0 0 0 0 0 0 0 0]]\n",
      "-------------\n",
      "Day 250\n",
      "[[0 0 0 0 0 1 0 0 0 0]\n",
      " [0 0 0 0 0 0 0 0 0 0]\n",
      " [0 0 0 0 0 0 0 0 0 0]\n",
      " [0 0 0 0 0 0 0 0 0 0]\n",
      " [0 0 0 0 0 0 0 1 0 0]\n",
      " [0 0 0 0 0 0 0 0 0 0]\n",
      " [0 0 0 0 0 0 0 0 0 0]\n",
      " [0 0 0 0 0 0 0 0 0 0]\n",
      " [0 0 0 0 0 0 0 0 0 0]\n",
      " [0 0 0 0 0 0 0 0 0 0]]\n",
      "-------------\n",
      "Day 260\n",
      "[[0 0 0 0 0 0 0 0 0 0]\n",
      " [0 0 0 0 0 0 0 0 0 0]\n",
      " [0 0 0 0 0 0 0 0 0 0]\n",
      " [0 0 0 0 0 0 0 0 0 0]\n",
      " [0 0 0 0 0 0 0 0 0 0]\n",
      " [0 0 0 0 0 0 0 0 0 0]\n",
      " [0 0 0 0 0 0 0 0 0 0]\n",
      " [0 0 0 0 0 0 0 0 0 0]\n",
      " [0 0 0 0 0 0 0 0 0 0]\n",
      " [0 0 0 0 0 0 0 0 0 0]]\n",
      "-------------\n",
      "Day 270\n",
      "[[0 0 0 0 0 0 0 0 0 0]\n",
      " [0 0 0 0 0 0 0 0 0 0]\n",
      " [0 0 0 0 0 0 0 0 0 0]\n",
      " [0 0 0 0 0 0 0 0 0 0]\n",
      " [0 0 0 0 0 0 0 0 0 0]\n",
      " [0 0 0 0 0 0 0 0 0 0]\n",
      " [0 0 0 0 0 0 0 0 0 0]\n",
      " [0 0 0 0 0 0 0 0 0 0]\n",
      " [0 0 0 0 0 0 0 0 0 0]\n",
      " [0 0 0 0 0 0 0 0 0 0]]\n",
      "-------------\n",
      "Day 280\n",
      "[[0 0 0 0 0 0 0 0 0 0]\n",
      " [0 0 0 0 0 0 0 0 0 0]\n",
      " [0 0 0 0 0 0 0 0 0 0]\n",
      " [0 0 0 0 0 0 0 0 0 0]\n",
      " [0 0 0 0 0 0 0 0 0 0]\n",
      " [0 0 0 0 0 0 0 0 0 0]\n",
      " [0 0 0 0 0 0 0 0 0 0]\n",
      " [0 0 0 0 0 0 0 0 0 0]\n",
      " [0 0 0 0 0 0 0 0 0 0]\n",
      " [0 0 0 0 0 0 0 0 0 0]]\n",
      "-------------\n",
      "Day 290\n",
      "[[0 0 0 0 0 0 0 0 0 0]\n",
      " [0 0 0 0 0 0 0 0 0 0]\n",
      " [0 0 0 0 0 0 0 0 0 0]\n",
      " [0 0 0 0 0 0 0 0 0 0]\n",
      " [0 0 0 0 0 0 0 0 0 0]\n",
      " [0 0 0 0 0 0 0 0 0 0]\n",
      " [0 0 0 0 0 0 0 0 0 0]\n",
      " [0 0 0 0 0 0 0 0 0 0]\n",
      " [0 0 0 0 0 0 0 0 0 0]\n",
      " [0 0 0 0 0 0 0 0 0 0]]\n",
      "-------------\n",
      "Day 300\n",
      "[[0 0 0 0 0 0 0 0 0 0]\n",
      " [0 0 0 0 0 0 0 0 0 0]\n",
      " [0 0 0 0 0 0 0 0 0 0]\n",
      " [0 0 0 0 0 0 0 0 0 0]\n",
      " [0 0 0 0 0 0 0 0 0 0]\n",
      " [0 0 0 0 0 0 0 0 0 0]\n",
      " [0 0 0 0 0 0 0 0 0 0]\n",
      " [0 0 0 0 0 0 0 0 0 0]\n",
      " [0 0 0 0 0 0 0 0 0 0]\n",
      " [0 0 0 0 0 0 0 0 0 0]]\n",
      "-------------\n",
      "Day 310\n",
      "[[0 0 0 0 0 0 0 0 0 0]\n",
      " [0 0 0 0 0 0 0 0 0 0]\n",
      " [0 0 0 0 0 0 0 0 0 0]\n",
      " [0 0 0 0 0 0 0 0 0 0]\n",
      " [0 0 0 0 0 0 0 0 0 0]\n",
      " [0 0 0 0 0 0 0 0 0 0]\n",
      " [0 0 0 0 0 0 0 0 0 0]\n",
      " [0 0 0 0 0 0 0 0 0 0]\n",
      " [0 0 0 0 0 0 0 0 0 0]\n",
      " [0 0 0 0 0 0 0 0 0 0]]\n",
      "-------------\n",
      "Day 320\n",
      "[[0 0 0 0 0 0 0 0 0 0]\n",
      " [0 0 0 0 0 0 0 0 0 0]\n",
      " [0 0 0 0 0 0 0 0 0 0]\n",
      " [0 0 0 0 0 0 0 0 0 0]\n",
      " [0 0 0 0 0 0 0 0 0 0]\n",
      " [0 0 0 0 0 0 0 0 0 0]\n",
      " [0 0 0 0 0 0 0 0 0 0]\n",
      " [0 0 0 0 0 0 0 0 0 0]\n",
      " [0 0 0 0 0 0 0 0 0 0]\n",
      " [0 0 0 0 0 0 0 0 0 0]]\n",
      "-------------\n",
      "Day 330\n",
      "[[0 0 0 0 0 0 0 0 0 0]\n",
      " [0 0 0 0 0 0 0 0 0 0]\n",
      " [0 0 0 0 0 0 0 0 0 0]\n",
      " [0 0 0 0 0 0 0 0 0 0]\n",
      " [0 0 0 0 0 0 0 0 0 0]\n",
      " [0 0 0 0 0 0 0 0 0 0]\n",
      " [0 0 0 0 0 0 0 0 0 0]\n",
      " [0 0 0 0 0 0 0 0 0 0]\n",
      " [0 0 0 0 0 0 0 0 0 0]\n",
      " [0 0 0 0 0 0 0 0 0 0]]\n",
      "-------------\n",
      "Day 340\n",
      "[[0 0 0 0 0 0 0 0 0 0]\n",
      " [0 0 0 0 0 0 0 0 0 0]\n",
      " [0 0 0 0 0 0 0 0 0 0]\n",
      " [0 0 0 0 0 0 0 0 0 0]\n",
      " [0 0 0 0 0 0 0 0 0 0]\n",
      " [0 0 0 0 0 0 0 0 0 0]\n",
      " [0 0 0 0 0 0 0 0 0 0]\n",
      " [0 0 0 0 0 0 0 0 0 0]\n",
      " [0 0 0 0 0 0 0 0 0 0]\n",
      " [0 0 0 0 0 0 0 0 0 0]]\n",
      "-------------\n",
      "Day 350\n",
      "[[0 0 0 0 0 0 0 0 0 0]\n",
      " [0 0 0 0 0 0 0 0 0 0]\n",
      " [0 0 0 0 0 0 0 0 0 0]\n",
      " [0 0 0 0 0 0 0 0 0 0]\n",
      " [0 0 0 0 0 0 0 0 0 0]\n",
      " [0 0 0 0 0 0 0 0 0 0]\n",
      " [0 0 0 0 0 0 0 0 0 0]\n",
      " [0 0 0 0 0 0 0 0 0 0]\n",
      " [0 0 0 0 0 0 0 0 0 0]\n",
      " [0 0 0 0 0 0 0 0 0 0]]\n",
      "-------------\n",
      "Day 360\n",
      "[[0 0 0 0 0 0 0 0 0 0]\n",
      " [0 0 0 0 0 0 0 0 0 0]\n",
      " [0 0 0 0 0 0 0 0 0 0]\n",
      " [0 0 0 0 0 0 0 0 0 0]\n",
      " [0 0 0 0 0 0 0 0 0 0]\n",
      " [0 0 0 0 0 0 0 0 0 0]\n",
      " [0 0 0 0 0 0 0 0 0 0]\n",
      " [0 0 0 0 0 0 0 0 0 0]\n",
      " [0 0 0 0 0 0 0 0 0 0]\n",
      " [0 0 0 0 0 0 0 0 0 0]]\n",
      "-------------\n"
     ]
    }
   ],
   "source": [
    "l = []\n",
    "for i in range(0,365,10):\n",
    "    print('Day',i)\n",
    "    print(data['SWE'][i][lon_idx-5:lon_idx+5,lat_idx-5:lat_idx+5])\n",
    "    print('-------------')"
   ]
  },
  {
   "cell_type": "code",
   "execution_count": 19,
   "metadata": {},
   "outputs": [],
   "source": [
    "### Snow Water Equivalent Value for 39.9927° N, -120.8039° E over 2015\n",
    "l = []\n",
    "for i in range(0,365):\n",
    "    #print('Day',i)\n",
    "    l.append(data['SWE'][i][lon_idx,lat_idx])\n",
    "    #print(data['SWE'][i][lon_idx,lat_idx])\n",
    "    #print('-------------')"
   ]
  },
  {
   "cell_type": "code",
   "execution_count": 26,
   "metadata": {},
   "outputs": [
    {
     "data": {
      "text/plain": [
       "Text(0.5, 1.0, 'Snow Water Equivalent of Year 2015 on One Water Gage')"
      ]
     },
     "execution_count": 26,
     "metadata": {},
     "output_type": "execute_result"
    },
    {
     "data": {
      "image/png": "[encoded data removed]",
      "text/plain": [
       "<Figure size 640x480 with 1 Axes>"
      ]
     },
     "metadata": {},
     "output_type": "display_data"
    }
   ],
   "source": [
    "## Plot\n",
    "days = [i for i in range(365)]\n",
    "plt.plot(days,l)\n",
    "plt.xlabel('Days')\n",
    "plt.ylabel('Snow Water Equivalent')\n",
    "plt.title('Snow Water Equivalent of Year 2015 on One Water Gage')"
   ]
  },
  {
   "cell_type": "code",
   "execution_count": 82,
   "metadata": {},
   "outputs": [
    {
     "data": {
      "text/plain": [
       "[0,\n",
       " 0,\n",
       " 0,\n",
       " 0,\n",
       " 0,\n",
       " 0,\n",
       " 0,\n",
       " 0,\n",
       " 0,\n",
       " 0,\n",
       " 0,\n",
       " 0,\n",
       " 0,\n",
       " 0,\n",
       " 0,\n",
       " 0,\n",
       " 0,\n",
       " 0,\n",
       " 0,\n",
       " 0,\n",
       " 0,\n",
       " 0,\n",
       " 0,\n",
       " 0,\n",
       " 0,\n",
       " 4,\n",
       " 1,\n",
       " 0,\n",
       " 0,\n",
       " 0,\n",
       " 0,\n",
       " 1,\n",
       " 1,\n",
       " 1,\n",
       " 0,\n",
       " 0,\n",
       " 0,\n",
       " 0,\n",
       " 0,\n",
       " 0,\n",
       " 0,\n",
       " 0,\n",
       " 0,\n",
       " 3,\n",
       " 2,\n",
       " 2,\n",
       " 1,\n",
       " 1,\n",
       " 1,\n",
       " 1,\n",
       " 1,\n",
       " 1,\n",
       " 2,\n",
       " 2,\n",
       " 1,\n",
       " 0,\n",
       " 0,\n",
       " 0,\n",
       " 0,\n",
       " 2,\n",
       " 5,\n",
       " 6,\n",
       " 5,\n",
       " 9,\n",
       " 19,\n",
       " 19,\n",
       " 19,\n",
       " 18,\n",
       " 16,\n",
       " 14,\n",
       " 13,\n",
       " 47,\n",
       " 94,\n",
       " 94,\n",
       " 93,\n",
       " 100,\n",
       " 145,\n",
       " 174,\n",
       " 177,\n",
       " 220,\n",
       " 247,\n",
       " 236,\n",
       " 223,\n",
       " 220,\n",
       " 211,\n",
       " 205,\n",
       " 204,\n",
       " 204,\n",
       " 204,\n",
       " 203,\n",
       " 203,\n",
       " 202,\n",
       " 202,\n",
       " 202,\n",
       " 202,\n",
       " 202,\n",
       " 201,\n",
       " 200,\n",
       " 199,\n",
       " 198,\n",
       " 196,\n",
       " 196,\n",
       " 194,\n",
       " 192,\n",
       " 191,\n",
       " 190,\n",
       " 189,\n",
       " 189,\n",
       " 185,\n",
       " 170,\n",
       " 163,\n",
       " 161,\n",
       " 159,\n",
       " 159,\n",
       " 158,\n",
       " 157,\n",
       " 155,\n",
       " 150,\n",
       " 139,\n",
       " 130,\n",
       " 120,\n",
       " 109,\n",
       " 102,\n",
       " 96,\n",
       " 89,\n",
       " 79,\n",
       " 72,\n",
       " 66,\n",
       " 57,\n",
       " 53,\n",
       " 53,\n",
       " 72,\n",
       " 71,\n",
       " 73,\n",
       " 69,\n",
       " 60,\n",
       " 55,\n",
       " 51,\n",
       " 50,\n",
       " 48,\n",
       " 46,\n",
       " 42,\n",
       " 41,\n",
       " 40,\n",
       " 40,\n",
       " 40,\n",
       " 40,\n",
       " 40,\n",
       " 40,\n",
       " 40,\n",
       " 42,\n",
       " 42,\n",
       " 41,\n",
       " 41,\n",
       " 41,\n",
       " 40,\n",
       " 39,\n",
       " 38,\n",
       " 35,\n",
       " 35,\n",
       " 35,\n",
       " 34,\n",
       " 33,\n",
       " 31,\n",
       " 29,\n",
       " 26,\n",
       " 24,\n",
       " 22,\n",
       " 21,\n",
       " 18,\n",
       " 16,\n",
       " 15,\n",
       " 15,\n",
       " 20,\n",
       " 18,\n",
       " 18,\n",
       " 16,\n",
       " 13,\n",
       " 11,\n",
       " 10,\n",
       " 10,\n",
       " 9,\n",
       " 9,\n",
       " 8,\n",
       " 8,\n",
       " 8,\n",
       " 8,\n",
       " 8,\n",
       " 8,\n",
       " 8,\n",
       " 8,\n",
       " 8,\n",
       " 8,\n",
       " 7,\n",
       " 7,\n",
       " 7,\n",
       " 7,\n",
       " 7,\n",
       " 7,\n",
       " 6,\n",
       " 6,\n",
       " 5,\n",
       " 5,\n",
       " 5,\n",
       " 4,\n",
       " 4,\n",
       " 9,\n",
       " 8,\n",
       " 8,\n",
       " 7,\n",
       " 5,\n",
       " 5,\n",
       " 4,\n",
       " 4,\n",
       " 3,\n",
       " 3,\n",
       " 2,\n",
       " 2,\n",
       " 2,\n",
       " 2,\n",
       " 1,\n",
       " 1,\n",
       " 1,\n",
       " 1,\n",
       " 1,\n",
       " 1,\n",
       " 1,\n",
       " 1,\n",
       " 1,\n",
       " 1,\n",
       " 1,\n",
       " 1,\n",
       " 1,\n",
       " 0,\n",
       " 0,\n",
       " 0,\n",
       " 0,\n",
       " 0,\n",
       " 0,\n",
       " 0,\n",
       " 0,\n",
       " 0,\n",
       " 0,\n",
       " 0,\n",
       " 0,\n",
       " 0,\n",
       " 0,\n",
       " 0,\n",
       " 0,\n",
       " 0,\n",
       " 0,\n",
       " 0,\n",
       " 0,\n",
       " 0,\n",
       " 0,\n",
       " 0,\n",
       " 0,\n",
       " 0,\n",
       " 0,\n",
       " 0,\n",
       " 0,\n",
       " 0,\n",
       " 0,\n",
       " 0,\n",
       " 0,\n",
       " 0,\n",
       " 0,\n",
       " 0,\n",
       " 0,\n",
       " 0,\n",
       " 0,\n",
       " 0,\n",
       " 0,\n",
       " 0,\n",
       " 0,\n",
       " 0,\n",
       " 0,\n",
       " 0,\n",
       " 0,\n",
       " 0,\n",
       " 0,\n",
       " 0,\n",
       " 0,\n",
       " 0,\n",
       " 0,\n",
       " 0,\n",
       " 0,\n",
       " 0,\n",
       " 0,\n",
       " 0,\n",
       " 0,\n",
       " 0,\n",
       " 0,\n",
       " 0,\n",
       " 0,\n",
       " 0,\n",
       " 0,\n",
       " 0,\n",
       " 0,\n",
       " 0,\n",
       " 0,\n",
       " 0,\n",
       " 0,\n",
       " 0,\n",
       " 0,\n",
       " 0,\n",
       " 0,\n",
       " 0,\n",
       " 0,\n",
       " 0,\n",
       " 0,\n",
       " 0,\n",
       " 0,\n",
       " 0,\n",
       " 0,\n",
       " 0,\n",
       " 0,\n",
       " 0,\n",
       " 0,\n",
       " 0,\n",
       " 0,\n",
       " 0,\n",
       " 0,\n",
       " 0,\n",
       " 0,\n",
       " 0,\n",
       " 0,\n",
       " 0,\n",
       " 0,\n",
       " 0,\n",
       " 0,\n",
       " 0,\n",
       " 0,\n",
       " 0,\n",
       " 0,\n",
       " 0,\n",
       " 0,\n",
       " 0,\n",
       " 0,\n",
       " 0,\n",
       " 0,\n",
       " 0,\n",
       " 0,\n",
       " 0,\n",
       " 0,\n",
       " 0,\n",
       " 0,\n",
       " 0,\n",
       " 0,\n",
       " 0,\n",
       " 0,\n",
       " 0,\n",
       " 0,\n",
       " 0,\n",
       " 0,\n",
       " 0,\n",
       " 0,\n",
       " 0,\n",
       " 0,\n",
       " 0,\n",
       " 0,\n",
       " 0,\n",
       " 0,\n",
       " 0,\n",
       " 0]"
      ]
     },
     "execution_count": 82,
     "metadata": {},
     "output_type": "execute_result"
    }
   ],
   "source": [
    "l"
   ]
  },
  {
   "cell_type": "code",
   "execution_count": null,
   "metadata": {},
   "outputs": [],
   "source": []
  }
 ],
 "metadata": {
  "colab": {
   "collapsed_sections": [],
   "provenance": [],
   "toc_visible": true
  },
  "kernelspec": {
   "display_name": "default:Python",
   "language": "python",
   "name": "conda-env-default-py"
  },
  "language_info": {
   "codemirror_mode": {
    "name": "ipython",
    "version": 3
   },
   "file_extension": ".py",
   "mimetype": "text/x-python",
   "name": "python",
   "nbconvert_exporter": "python",
   "pygments_lexer": "ipython3",
   "version": "3.9.13"
  }
 },
 "nbformat": 4,
 "nbformat_minor": 4
}
