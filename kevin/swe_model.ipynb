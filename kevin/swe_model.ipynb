{
 "cells": [
  {
   "cell_type": "markdown",
   "metadata": {},
   "source": [
    "# Build Model to Predict Discharge Based on SWE"
   ]
  },
  {
   "cell_type": "markdown",
   "metadata": {},
   "source": [
    "##### Author: Kevin\n",
    "##### Date: 10/17/2022\n",
    "#### Objective: construct model to Predict Discharge with Current SWE features"
   ]
  },
  {
   "cell_type": "code",
   "execution_count": 1,
   "metadata": {},
   "outputs": [],
   "source": [
    "# Import packages\n",
    "import os\n",
    "import h5py\n",
    "import numpy as np\n",
    "import pandas as pd\n",
    "import copy\n",
    "import sklearn"
   ]
  },
  {
   "cell_type": "code",
   "execution_count": 2,
   "metadata": {},
   "outputs": [
    {
     "name": "stdout",
     "output_type": "stream",
     "text": [
      "Total Number of rows: 83274\n"
     ]
    }
   ],
   "source": [
    "# Read Data\n",
    "data = pd.read_csv('gage_with_swe.csv')\n",
    "print('Total Number of rows:',len(data))"
   ]
  },
  {
   "cell_type": "code",
   "execution_count": 3,
   "metadata": {
    "scrolled": false
   },
   "outputs": [
    {
     "data": {
      "text/html": [
       "<div>\n",
       "<style scoped>\n",
       "    .dataframe tbody tr th:only-of-type {\n",
       "        vertical-align: middle;\n",
       "    }\n",
       "\n",
       "    .dataframe tbody tr th {\n",
       "        vertical-align: top;\n",
       "    }\n",
       "\n",
       "    .dataframe thead th {\n",
       "        text-align: right;\n",
       "    }\n",
       "</style>\n",
       "<table border=\"1\" class=\"dataframe\">\n",
       "  <thead>\n",
       "    <tr style=\"text-align: right;\">\n",
       "      <th></th>\n",
       "      <th>time</th>\n",
       "      <th>ft</th>\n",
       "      <th>m3</th>\n",
       "      <th>gage</th>\n",
       "      <th>ll_lon</th>\n",
       "      <th>ll_lat</th>\n",
       "      <th>tr_lon</th>\n",
       "      <th>tr_lat</th>\n",
       "      <th>swe_avg</th>\n",
       "      <th>swe_max</th>\n",
       "    </tr>\n",
       "  </thead>\n",
       "  <tbody>\n",
       "    <tr>\n",
       "      <th>0</th>\n",
       "      <td>1984-10-01</td>\n",
       "      <td>54.0</td>\n",
       "      <td>1.529110</td>\n",
       "      <td>11402000</td>\n",
       "      <td>-121.157674</td>\n",
       "      <td>39.855478</td>\n",
       "      <td>-120.690823</td>\n",
       "      <td>40.049659</td>\n",
       "      <td>-1.0</td>\n",
       "      <td>-1.0</td>\n",
       "    </tr>\n",
       "    <tr>\n",
       "      <th>1</th>\n",
       "      <td>1984-10-02</td>\n",
       "      <td>52.0</td>\n",
       "      <td>1.472476</td>\n",
       "      <td>11402000</td>\n",
       "      <td>-121.157674</td>\n",
       "      <td>39.855478</td>\n",
       "      <td>-120.690823</td>\n",
       "      <td>40.049659</td>\n",
       "      <td>-1.0</td>\n",
       "      <td>-1.0</td>\n",
       "    </tr>\n",
       "    <tr>\n",
       "      <th>2</th>\n",
       "      <td>1984-10-03</td>\n",
       "      <td>49.0</td>\n",
       "      <td>1.387525</td>\n",
       "      <td>11402000</td>\n",
       "      <td>-121.157674</td>\n",
       "      <td>39.855478</td>\n",
       "      <td>-120.690823</td>\n",
       "      <td>40.049659</td>\n",
       "      <td>-1.0</td>\n",
       "      <td>-1.0</td>\n",
       "    </tr>\n",
       "    <tr>\n",
       "      <th>3</th>\n",
       "      <td>1984-10-04</td>\n",
       "      <td>49.0</td>\n",
       "      <td>1.387525</td>\n",
       "      <td>11402000</td>\n",
       "      <td>-121.157674</td>\n",
       "      <td>39.855478</td>\n",
       "      <td>-120.690823</td>\n",
       "      <td>40.049659</td>\n",
       "      <td>-1.0</td>\n",
       "      <td>-1.0</td>\n",
       "    </tr>\n",
       "    <tr>\n",
       "      <th>4</th>\n",
       "      <td>1984-10-05</td>\n",
       "      <td>48.0</td>\n",
       "      <td>1.359209</td>\n",
       "      <td>11402000</td>\n",
       "      <td>-121.157674</td>\n",
       "      <td>39.855478</td>\n",
       "      <td>-120.690823</td>\n",
       "      <td>40.049659</td>\n",
       "      <td>-1.0</td>\n",
       "      <td>-1.0</td>\n",
       "    </tr>\n",
       "  </tbody>\n",
       "</table>\n",
       "</div>"
      ],
      "text/plain": [
       "         time    ft        m3      gage      ll_lon     ll_lat      tr_lon  \\\n",
       "0  1984-10-01  54.0  1.529110  11402000 -121.157674  39.855478 -120.690823   \n",
       "1  1984-10-02  52.0  1.472476  11402000 -121.157674  39.855478 -120.690823   \n",
       "2  1984-10-03  49.0  1.387525  11402000 -121.157674  39.855478 -120.690823   \n",
       "3  1984-10-04  49.0  1.387525  11402000 -121.157674  39.855478 -120.690823   \n",
       "4  1984-10-05  48.0  1.359209  11402000 -121.157674  39.855478 -120.690823   \n",
       "\n",
       "      tr_lat  swe_avg  swe_max  \n",
       "0  40.049659     -1.0     -1.0  \n",
       "1  40.049659     -1.0     -1.0  \n",
       "2  40.049659     -1.0     -1.0  \n",
       "3  40.049659     -1.0     -1.0  \n",
       "4  40.049659     -1.0     -1.0  "
      ]
     },
     "execution_count": 3,
     "metadata": {},
     "output_type": "execute_result"
    }
   ],
   "source": [
    "data.head()"
   ]
  },
  {
   "cell_type": "markdown",
   "metadata": {},
   "source": [
    "### Data Quality Check & Cleaning"
   ]
  },
  {
   "cell_type": "code",
   "execution_count": 4,
   "metadata": {},
   "outputs": [],
   "source": [
    "# Replace -1 to missing values\n",
    "data['swe_avg'] = data['swe_avg'].replace(-1,np.nan)"
   ]
  },
  {
   "cell_type": "code",
   "execution_count": 5,
   "metadata": {},
   "outputs": [],
   "source": [
    "data = data.dropna(subset = ['swe_avg'])"
   ]
  },
  {
   "cell_type": "code",
   "execution_count": 6,
   "metadata": {},
   "outputs": [
    {
     "data": {
      "text/plain": [
       "time        0\n",
       "ft         57\n",
       "m3          0\n",
       "gage        0\n",
       "ll_lon      0\n",
       "ll_lat      0\n",
       "tr_lon      0\n",
       "tr_lat      0\n",
       "swe_avg     0\n",
       "swe_max     0\n",
       "dtype: int64"
      ]
     },
     "execution_count": 6,
     "metadata": {},
     "output_type": "execute_result"
    }
   ],
   "source": [
    "# Check Missing Value\n",
    "data.isnull().sum()\n",
    "### Result: 57 missing values in ft & 1 in m3"
   ]
  },
  {
   "cell_type": "code",
   "execution_count": 7,
   "metadata": {},
   "outputs": [],
   "source": [
    "# Drop ft column\n",
    "data = data.drop(['ft'],axis=1)"
   ]
  },
  {
   "cell_type": "code",
   "execution_count": 8,
   "metadata": {},
   "outputs": [
    {
     "data": {
      "text/html": [
       "<div>\n",
       "<style scoped>\n",
       "    .dataframe tbody tr th:only-of-type {\n",
       "        vertical-align: middle;\n",
       "    }\n",
       "\n",
       "    .dataframe tbody tr th {\n",
       "        vertical-align: top;\n",
       "    }\n",
       "\n",
       "    .dataframe thead th {\n",
       "        text-align: right;\n",
       "    }\n",
       "</style>\n",
       "<table border=\"1\" class=\"dataframe\">\n",
       "  <thead>\n",
       "    <tr style=\"text-align: right;\">\n",
       "      <th></th>\n",
       "      <th>time</th>\n",
       "      <th>m3</th>\n",
       "      <th>gage</th>\n",
       "      <th>ll_lon</th>\n",
       "      <th>ll_lat</th>\n",
       "      <th>tr_lon</th>\n",
       "      <th>tr_lat</th>\n",
       "      <th>swe_avg</th>\n",
       "      <th>swe_max</th>\n",
       "    </tr>\n",
       "  </thead>\n",
       "  <tbody>\n",
       "    <tr>\n",
       "      <th>92</th>\n",
       "      <td>1985-01-01</td>\n",
       "      <td>2.690100</td>\n",
       "      <td>11402000</td>\n",
       "      <td>-121.157674</td>\n",
       "      <td>39.855478</td>\n",
       "      <td>-120.690823</td>\n",
       "      <td>40.049659</td>\n",
       "      <td>0.000741</td>\n",
       "      <td>1.0</td>\n",
       "    </tr>\n",
       "    <tr>\n",
       "      <th>93</th>\n",
       "      <td>1985-01-02</td>\n",
       "      <td>2.605150</td>\n",
       "      <td>11402000</td>\n",
       "      <td>-121.157674</td>\n",
       "      <td>39.855478</td>\n",
       "      <td>-120.690823</td>\n",
       "      <td>40.049659</td>\n",
       "      <td>0.000000</td>\n",
       "      <td>0.0</td>\n",
       "    </tr>\n",
       "    <tr>\n",
       "      <th>94</th>\n",
       "      <td>1985-01-03</td>\n",
       "      <td>2.605150</td>\n",
       "      <td>11402000</td>\n",
       "      <td>-121.157674</td>\n",
       "      <td>39.855478</td>\n",
       "      <td>-120.690823</td>\n",
       "      <td>40.049659</td>\n",
       "      <td>0.000000</td>\n",
       "      <td>0.0</td>\n",
       "    </tr>\n",
       "    <tr>\n",
       "      <th>95</th>\n",
       "      <td>1985-01-04</td>\n",
       "      <td>2.605150</td>\n",
       "      <td>11402000</td>\n",
       "      <td>-121.157674</td>\n",
       "      <td>39.855478</td>\n",
       "      <td>-120.690823</td>\n",
       "      <td>40.049659</td>\n",
       "      <td>0.000000</td>\n",
       "      <td>0.0</td>\n",
       "    </tr>\n",
       "    <tr>\n",
       "      <th>96</th>\n",
       "      <td>1985-01-05</td>\n",
       "      <td>2.548516</td>\n",
       "      <td>11402000</td>\n",
       "      <td>-121.157674</td>\n",
       "      <td>39.855478</td>\n",
       "      <td>-120.690823</td>\n",
       "      <td>40.049659</td>\n",
       "      <td>0.000000</td>\n",
       "      <td>0.0</td>\n",
       "    </tr>\n",
       "  </tbody>\n",
       "</table>\n",
       "</div>"
      ],
      "text/plain": [
       "          time        m3      gage      ll_lon     ll_lat      tr_lon  \\\n",
       "92  1985-01-01  2.690100  11402000 -121.157674  39.855478 -120.690823   \n",
       "93  1985-01-02  2.605150  11402000 -121.157674  39.855478 -120.690823   \n",
       "94  1985-01-03  2.605150  11402000 -121.157674  39.855478 -120.690823   \n",
       "95  1985-01-04  2.605150  11402000 -121.157674  39.855478 -120.690823   \n",
       "96  1985-01-05  2.548516  11402000 -121.157674  39.855478 -120.690823   \n",
       "\n",
       "       tr_lat   swe_avg  swe_max  \n",
       "92  40.049659  0.000741      1.0  \n",
       "93  40.049659  0.000000      0.0  \n",
       "94  40.049659  0.000000      0.0  \n",
       "95  40.049659  0.000000      0.0  \n",
       "96  40.049659  0.000000      0.0  "
      ]
     },
     "execution_count": 8,
     "metadata": {},
     "output_type": "execute_result"
    }
   ],
   "source": [
    "data.head()"
   ]
  },
  {
   "cell_type": "markdown",
   "metadata": {},
   "source": [
    "### Data Splitting"
   ]
  },
  {
   "cell_type": "code",
   "execution_count": 9,
   "metadata": {},
   "outputs": [],
   "source": [
    "# Order Data by Date\n",
    "data['time'] = pd.to_datetime(data['time'])\n",
    "data = data.set_index(data['time'])\n",
    "data = data.sort_index()"
   ]
  },
  {
   "cell_type": "code",
   "execution_count": 10,
   "metadata": {},
   "outputs": [],
   "source": [
    "# Take only interested columns\n",
    "data = data[['m3','swe_avg','swe_max']]"
   ]
  },
  {
   "cell_type": "code",
   "execution_count": 11,
   "metadata": {},
   "outputs": [
    {
     "data": {
      "text/html": [
       "<div>\n",
       "<style scoped>\n",
       "    .dataframe tbody tr th:only-of-type {\n",
       "        vertical-align: middle;\n",
       "    }\n",
       "\n",
       "    .dataframe tbody tr th {\n",
       "        vertical-align: top;\n",
       "    }\n",
       "\n",
       "    .dataframe thead th {\n",
       "        text-align: right;\n",
       "    }\n",
       "</style>\n",
       "<table border=\"1\" class=\"dataframe\">\n",
       "  <thead>\n",
       "    <tr style=\"text-align: right;\">\n",
       "      <th></th>\n",
       "      <th>m3</th>\n",
       "      <th>swe_avg</th>\n",
       "      <th>swe_max</th>\n",
       "    </tr>\n",
       "    <tr>\n",
       "      <th>time</th>\n",
       "      <th></th>\n",
       "      <th></th>\n",
       "      <th></th>\n",
       "    </tr>\n",
       "  </thead>\n",
       "  <tbody>\n",
       "    <tr>\n",
       "      <th>1985-01-01</th>\n",
       "      <td>2.690100</td>\n",
       "      <td>0.000741</td>\n",
       "      <td>1.0</td>\n",
       "    </tr>\n",
       "    <tr>\n",
       "      <th>1985-01-01</th>\n",
       "      <td>8.268519</td>\n",
       "      <td>0.000000</td>\n",
       "      <td>0.0</td>\n",
       "    </tr>\n",
       "    <tr>\n",
       "      <th>1985-01-01</th>\n",
       "      <td>0.792872</td>\n",
       "      <td>0.000000</td>\n",
       "      <td>0.0</td>\n",
       "    </tr>\n",
       "    <tr>\n",
       "      <th>1985-01-01</th>\n",
       "      <td>3.341388</td>\n",
       "      <td>0.000000</td>\n",
       "      <td>0.0</td>\n",
       "    </tr>\n",
       "    <tr>\n",
       "      <th>1985-01-01</th>\n",
       "      <td>0.201050</td>\n",
       "      <td>0.000000</td>\n",
       "      <td>0.0</td>\n",
       "    </tr>\n",
       "  </tbody>\n",
       "</table>\n",
       "</div>"
      ],
      "text/plain": [
       "                  m3   swe_avg  swe_max\n",
       "time                                   \n",
       "1985-01-01  2.690100  0.000741      1.0\n",
       "1985-01-01  8.268519  0.000000      0.0\n",
       "1985-01-01  0.792872  0.000000      0.0\n",
       "1985-01-01  3.341388  0.000000      0.0\n",
       "1985-01-01  0.201050  0.000000      0.0"
      ]
     },
     "execution_count": 11,
     "metadata": {},
     "output_type": "execute_result"
    }
   ],
   "source": [
    "data.head()"
   ]
  },
  {
   "cell_type": "code",
   "execution_count": 12,
   "metadata": {},
   "outputs": [
    {
     "name": "stdout",
     "output_type": "stream",
     "text": [
      "training size: 61094 (0.78)\n",
      "test size: 17169 (0.22)\n"
     ]
    }
   ],
   "source": [
    "train = data[:'2010-01-01']\n",
    "test  = data['2010-01-01':]\n",
    "print(f'training size: {len(train)} ({round(len(train)/len(data),2)})')\n",
    "print(f'test size: {len(test)} ({round(len(test)/len(data),2)})')"
   ]
  },
  {
   "cell_type": "code",
   "execution_count": 13,
   "metadata": {},
   "outputs": [],
   "source": [
    "# Shuffle Data\n",
    "train = train.sample(frac=1)\n",
    "test = test.sample(frac=1)"
   ]
  },
  {
   "cell_type": "code",
   "execution_count": 14,
   "metadata": {},
   "outputs": [],
   "source": [
    "# Get X & Y\n",
    "train_x = train[['swe_avg','swe_max']]\n",
    "train_y = train['m3']\n",
    "test_x = test[['swe_avg','swe_max']]\n",
    "test_y = test['m3']"
   ]
  },
  {
   "cell_type": "markdown",
   "metadata": {},
   "source": [
    "### Model Building"
   ]
  },
  {
   "cell_type": "code",
   "execution_count": 20,
   "metadata": {},
   "outputs": [],
   "source": [
    "####### 1. Logistic Regression\n",
    "from sklearn.linear_model import LinearRegression\n",
    "lr = LinearRegression()\n",
    "\n",
    "lr.fit(train_x,train_y)\n",
    "\n",
    "lr_pred = lr.predict(test_x)"
   ]
  },
  {
   "cell_type": "code",
   "execution_count": 25,
   "metadata": {},
   "outputs": [
    {
     "name": "stdout",
     "output_type": "stream",
     "text": [
      "Root Mean Squared Error on Train 13.365887114533262\n",
      "Root Mean Squared Error on Test: 10.177950604486579\n"
     ]
    }
   ],
   "source": [
    "# Evaluation\n",
    "from sklearn.metrics import mean_squared_error\n",
    "import math\n",
    "mse_train = mean_squared_error(train_y,lr.predict(train_x))\n",
    "mse_test = mean_squared_error(test_y,lr_pred)\n",
    "\n",
    "print('Root Mean Squared Error on Train',math.sqrt(mse_train))\n",
    "print(\"Root Mean Squared Error on Test:\",math.sqrt(mse_test))"
   ]
  },
  {
   "cell_type": "code",
   "execution_count": null,
   "metadata": {},
   "outputs": [],
   "source": []
  }
 ],
 "metadata": {
  "kernelspec": {
   "display_name": "Python 3",
   "language": "python",
   "name": "python3"
  },
  "language_info": {
   "codemirror_mode": {
    "name": "ipython",
    "version": 3
   },
   "file_extension": ".py",
   "mimetype": "text/x-python",
   "name": "python",
   "nbconvert_exporter": "python",
   "pygments_lexer": "ipython3",
   "version": "3.7.9"
  }
 },
 "nbformat": 4,
 "nbformat_minor": 4
}
