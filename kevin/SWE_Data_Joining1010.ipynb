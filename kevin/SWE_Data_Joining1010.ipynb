{
 "cells": [
  {
   "cell_type": "code",
   "execution_count": null,
   "id": "42dd03b0-8fc5-4cea-bd9d-fb0d90dba17d",
   "metadata": {},
   "outputs": [],
   "source": [
    "# Import Packages\n",
    "import os\n",
    "import h5py\n",
    "import numpy as np\n",
    "import pandas as pd\n",
    "import matplotlib.pyplot as plt\n",
    "import copy\n",
    "from datetime import datetime, date"
   ]
  },
  {
   "cell_type": "code",
   "execution_count": null,
   "id": "a8a1d70d-30b8-4fcb-9581-14c686270bd1",
   "metadata": {},
   "outputs": [],
   "source": [
    "# Change Directory\n",
    "import os\n",
    "os.chdir('swe_data/')\n",
    "os.listdir()"
   ]
  },
  {
   "cell_type": "markdown",
   "id": "9e94b24f-137d-4056-a62f-cd5baab8a033",
   "metadata": {
    "tags": []
   },
   "source": [
    "## Function Used in Later Code"
   ]
  },
  {
   "cell_type": "code",
   "execution_count": 76,
   "id": "79be8099-8793-4dd3-b65e-e415ee0a60ae",
   "metadata": {},
   "outputs": [],
   "source": [
    "### 2. Function for Extracting Index\n",
    "def index_finder(lon,lat):\n",
    "    # Longtitude finder\n",
    "    if lon < -123.3 or lon > -117.6:\n",
    "        print('Longitude of Input is out of range! lon:',lon)\n",
    "        return None\n",
    "    elif lat < 35.4 or lat > 42:\n",
    "        print('Latitude of Input is out of range! lat:',lat)\n",
    "    else: #longtitude and latitude are within reasonable range\n",
    "        lon_idx = round((lon + 123.3) * 1000)\n",
    "        lat_idx = round((lat - 35.4) * 1000)\n",
    "    \n",
    "        return int(lon_idx),int(lat_idx)"
   ]
  },
  {
   "cell_type": "markdown",
   "id": "62c7725f-56c0-4981-b0f6-08f4deac5241",
   "metadata": {},
   "source": [
    "## Read Data"
   ]
  },
  {
   "cell_type": "code",
   "execution_count": null,
   "id": "e48371b4-01ad-47b4-92ce-6b4bd4210c59",
   "metadata": {},
   "outputs": [],
   "source": [
    "# Discharge Data\n",
    "gage = pd.read_csv('../gage_discharge_lat_lon.csv')\n",
    "gage['swe'] = -1"
   ]
  },
  {
   "cell_type": "code",
   "execution_count": null,
   "id": "2fdc6c93-a4c9-488e-8201-71aff4db9032",
   "metadata": {},
   "outputs": [],
   "source": [
    "gage.head()"
   ]
  },
  {
   "cell_type": "code",
   "execution_count": null,
   "id": "4251226a-43fb-49f6-9179-4c344df315b1",
   "metadata": {},
   "outputs": [],
   "source": [
    "# Variable Defining\n",
    "prev_year = 0"
   ]
  },
  {
   "cell_type": "code",
   "execution_count": null,
   "id": "e805ce74-6661-4266-ad2b-ba84208a8e83",
   "metadata": {},
   "outputs": [],
   "source": [
    "### \n",
    "for row_num in range(len(gage)):\n",
    "    row_data = gage.iloc[row_num,:]\n",
    "    row_time = row_data['time']\n",
    "    if row_time[0:4] == '2015' and row_data['gage']==11189500:\n",
    "        break"
   ]
  },
  {
   "cell_type": "code",
   "execution_count": null,
   "id": "a03121ea-4897-4adc-9a47-2e9944ea7046",
   "metadata": {},
   "outputs": [],
   "source": [
    "row_data"
   ]
  },
  {
   "cell_type": "code",
   "execution_count": null,
   "id": "d649f343-2886-4c83-b46d-37c8d89e5b70",
   "metadata": {},
   "outputs": [],
   "source": [
    "# ---------- Inside For Loop -----------"
   ]
  },
  {
   "cell_type": "code",
   "execution_count": null,
   "id": "25d60198-f7b3-4df4-a64d-72b69a29c49c",
   "metadata": {},
   "outputs": [],
   "source": [
    "### Extract Date from Gage Data to match SWE\n",
    "date_format = \"%Y-%m-%d\"\n",
    "d_date = datetime.strptime(row_time, date_format)\n",
    "\n",
    "# Extract year of date\n",
    "d_year = d_date.year\n",
    "# Extract number of days from SWE Data\n",
    "num_days = d_date- datetime.strptime('{}-1-1'.format(d_year),date_format)\n",
    "num_days = num_days.days\n",
    "\n",
    "print(f'Year: {d_year}  Day: {num_days}')\n"
   ]
  },
  {
   "cell_type": "code",
   "execution_count": null,
   "id": "19c03a74-c579-4aba-ba74-29b0c8806610",
   "metadata": {},
   "outputs": [],
   "source": [
    "## Obtain swe data\n",
    "# if year of previous row does not match year of current row. Then Read Data\n",
    "if prev_year != d_year: \n",
    "    swe = h5py.File(f'SN_SWE_WY{d_year}.h5', 'r')\n",
    "    # # testing purpose\n",
    "    # swe = h5py.File('/Users/apple/Desktop/UC_Berkeley/UCB_2022/w210/data/SN_SWE_WY1985.h5','r')\n",
    "    lat = swe['lat'][0][::-1]\n",
    "    lon = swe['lon'][:,0]\n",
    "    lats,lons = np.meshgrid(lat,lon)\n",
    "prev_year = d_year\n",
    "\n",
    "swe_data = swe['SWE'][num_days]\n",
    "# flip over yaxis as lats are in a descending order --> need to change to ascending order\n",
    "swe_data_flip = swe_data[:,::-1]"
   ]
  },
  {
   "cell_type": "markdown",
   "id": "b7687f3b-0365-4d03-be53-19672454892b",
   "metadata": {},
   "source": [
    "## Find SWE Interested Region with Lat Lon"
   ]
  },
  {
   "cell_type": "code",
   "execution_count": 80,
   "id": "1671c5bb-9b67-495e-abab-9b5ea74293c5",
   "metadata": {},
   "outputs": [
    {
     "name": "stdout",
     "output_type": "stream",
     "text": [
      "4916\n"
     ]
    }
   ],
   "source": [
    "### 4. Find closest idx to the lower left & upper right corner\n",
    "ll_lon_idx,ll_lat_idx = index_finder(row_data['ll_lon'],row_data['ll_lat'])\n",
    "tr_lon_idx,tr_lat_idx = index_finder(row_data['tr_lon'],row_data['tr_lat'])\n",
    "region = swe_data_flip[ll_lon_idx:tr_lon_idx,ll_lat_idx:tr_lat_idx]\n",
    "\n",
    "# # Get SWE values of surrounding gage regions\n",
    "# lon_idx,lat_idx = index_finder(row_data['lon'],row_data['lat'])\n",
    "# lon_idx,lat_idx = int(lon_idx),int(lat_idx)\n",
    "# region = swe_data_flip[lon_idx-sur:lon_idx+sur,lat_idx-sur:lat_idx+sur]\n"
   ]
  },
  {
   "cell_type": "code",
   "execution_count": 78,
   "id": "3cb7204c-80b9-4bc8-84bc-5fc9d289f8ab",
   "metadata": {},
   "outputs": [
    {
     "name": "stdout",
     "output_type": "stream",
     "text": [
      "Region Shape: (380, 709)\n",
      "Unique Value: (array([-32768,      0], dtype=int16), array([ 39327, 230093]))\n"
     ]
    },
    {
     "data": {
      "text/plain": [
       "array([[-32768, -32768, -32768, ...,      0,      0,      0],\n",
       "       [-32768, -32768, -32768, ...,      0,      0,      0],\n",
       "       [-32768, -32768, -32768, ...,      0,      0,      0],\n",
       "       ...,\n",
       "       [     0,      0,      0, ..., -32768, -32768, -32768],\n",
       "       [     0,      0,      0, ..., -32768, -32768, -32768],\n",
       "       [-32768, -32768,      0, ..., -32768, -32768, -32768]], dtype=int16)"
      ]
     },
     "execution_count": 78,
     "metadata": {},
     "output_type": "execute_result"
    }
   ],
   "source": [
    "# Print Shape of array\n",
    "print('Region Shape:',region.shape)\n",
    "# Print \n",
    "print('Unique Value:',np.unique(region,return_counts=True))\n",
    "region"
   ]
  },
  {
   "cell_type": "code",
   "execution_count": null,
   "id": "b5779b2f",
   "metadata": {},
   "outputs": [],
   "source": [
    "'''\n",
    " ---- OLD COORDINATES ---\n",
    "Gage with swe values: 11266500 \n",
    "Gage with no swe values: 11402000, 11318500,11208000\n",
    "Gage with certain swe values: 11185500\n",
    "Gage with limited swe values: 11189500, 11202710\n",
    "Note: Gage 11202710 starts from 1988 while others start from 1985\n",
    "\n",
    " ---- SWE on NEW COORDINATES (10/15) ----\n",
    " 11202710: 40,904 valid & 6616 n/a values from region of 198x240 array\n",
    " 11266500: 126,687 valid & 2784 n/a values from region of 419x309 array\n",
    " 11402000: 36,414 valid & 54,651 n/a values from region of 467x195 array\n",
    " 11318500: 9510 valid & 29072 n/a values from region of 382x101 array\n",
    " 11208000: 29,403 valid & 3461 n/a values from region of 208x158 array\n",
    " 11185500: 348,392 valid & 21336 n/a values from region of 436x848 array\n",
    " 11189500: 230,093 valid & 39327 n/a values from region of 380x709 array\n",
    " --------------------------------------------------\n",
    "'''"
   ]
  },
  {
   "cell_type": "code",
   "execution_count": null,
   "id": "f7f4347e-787b-4c6e-9bb8-552e28b98288",
   "metadata": {},
   "outputs": [],
   "source": [
    "### Obtain Value of Interested Region\n",
    "\n",
    "# change null values to null\n",
    "region=region.astype('float')\n",
    "region[region == -32768] = np.nan\n",
    "\n",
    "region_avg = np.nanmean(region)\n",
    "\n",
    "if region_avg == np.nan:\n",
    "    gage.loc[row_num,'swe'] = -1\n",
    "else: # region avg is not null\n",
    "    gage.loc[row_num,'swe'] = region_avg"
   ]
  },
  {
   "cell_type": "markdown",
   "id": "bb6049ed",
   "metadata": {},
   "source": [
    "# Pipeline: Data Joining Between Gage Time Series Data & SWE Value\n",
    "- matching swe data to the gage time series data based on lat & lon of the gage\n",
    "- **main code**"
   ]
  },
  {
   "cell_type": "code",
   "execution_count": null,
   "id": "58b7a49a",
   "metadata": {},
   "outputs": [],
   "source": [
    "class j"
   ]
  },
  {
   "cell_type": "code",
   "execution_count": null,
   "id": "de0984d1",
   "metadata": {},
   "outputs": [],
   "source": [
    "# gage = pd.read_csv('../gage_swe.csv')\n",
    "date_format = \"%Y-%m-%d\"\n",
    "index_list = []\n",
    "\n",
    "### Run through all data\n",
    "for ii,row_num in enumerate(range(len(gage))):\n",
    "    \n",
    "    ### Start from row xx\n",
    "    if ii >=0:\n",
    "    \n",
    "        if ii % 100 == 0:\n",
    "            print(f'-------- Processing Row Number {ii} out of {len(gage)} ---------')\n",
    "        # Start with each row\n",
    "        row_data = gage.iloc[row_num,:]\n",
    "        row_time = row_data['time']\n",
    "\n",
    "        if 1984 < int(row_time[0:4]) <2017  : # SWE has only data files from 1984 - 2016\n",
    "            \n",
    "            ### Obtain Value of Interested Region\n",
    "            ll_lon_idx,ll_lat_idx = index_finder(row_data['ll_lon'],row_data['ll_lat'])\n",
    "            tr_lon_idx,tr_lat_idx = index_finder(row_data['tr_lon'],row_data['tr_lat'])\n",
    "            \n",
    "            if (lon_idx,lat_idx) not in index_list:\n",
    "\n",
    "                ### Extract Date from Gage Data to match SWE\n",
    "                d_date = datetime.strptime(row_time, date_format)\n",
    "\n",
    "                # Extract year of date\n",
    "                d_year = d_date.year\n",
    "                # Extract number of days from SWE Data\n",
    "                num_days = d_date- datetime.strptime('{}-1-1'.format(d_year),date_format)\n",
    "                num_days = num_days.days\n",
    "\n",
    "                ## Obtain swe data\n",
    "                # if year of previous row does not match year of current row. Then Read Data\n",
    "                if prev_year != d_year: \n",
    "                    swe = h5py.File(f'SN_SWE_WY{d_year}.h5', 'r')\n",
    "                    lat = swe['lat'][0][::-1]\n",
    "                    lon = swe['lon'][:,0]\n",
    "                    lats,lons = np.meshgrid(lat,lon)\n",
    "                prev_year = d_year\n",
    "\n",
    "                swe_data = swe['SWE'][num_days]\n",
    "                # flip over yaxis as lats are in a descending order --> need to change to ascending order\n",
    "                swe_data_flip = swe_data[:,::-1]\n",
    "\n",
    "                # get SWE values of surrounding region\n",
    "                region = swe_data_flip[ll_lon_idx:tr_lon_idx,ll_lat_idx:tr_lat_idx]\n",
    "\n",
    "                # change -32768 (null values) to null\n",
    "                region=region.astype('float')\n",
    "                region[region == -32768] = np.nan\n",
    "                \n",
    "                ### Select way to process the region data into a single value or a k-dimension vector\n",
    "                region_avg = np.nanmean(region)\n",
    "                #########################\n",
    "\n",
    "                if pd.isna(region_avg): # if region_avg is null, change to -2\n",
    "                    gage.loc[row_num,'swe'] = -2\n",
    "                    index_list.append((lon_idx,lat_idx))\n",
    "                else: # region avg is not null, assign the value with average\n",
    "                    gage.loc[row_num,'swe'] = region_avg\n",
    "            else: # (lon_idx,lat_idx) in index_list\n",
    "                gage.loc[row_num,'swe'] = -2\n",
    "    \n",
    "        if ii % 1000 == 0:\n",
    "            gage.to_csv('../gage_with_swe.csv',index=False)\n",
    "            print(f'---- Round {ii} Save to CSV file')"
   ]
  },
  {
   "cell_type": "code",
   "execution_count": null,
   "id": "04729671",
   "metadata": {},
   "outputs": [],
   "source": [
    "# save gage file to csv\n",
    "gage.to_csv('../gage_with_swe.csv',index=False)"
   ]
  },
  {
   "cell_type": "code",
   "execution_count": null,
   "id": "0494b81b",
   "metadata": {},
   "outputs": [],
   "source": [
    "gage.loc[80000:'swe'].value_counts()"
   ]
  },
  {
   "cell_type": "code",
   "execution_count": null,
   "id": "8c4ef016",
   "metadata": {},
   "outputs": [],
   "source": [
    "'''\n",
    "## SWE value indication\n",
    "Initial Assigned Value: -1\n",
    "N/A value: -2\n",
    "Rest are normal values\n",
    "'''"
   ]
  },
  {
   "cell_type": "code",
   "execution_count": null,
   "id": "88a1c6dd",
   "metadata": {},
   "outputs": [],
   "source": [
    "# ---------------------------"
   ]
  }
 ],
 "metadata": {
  "kernelspec": {
   "display_name": "Python 3 (ipykernel)",
   "language": "python",
   "name": "python3"
  },
  "language_info": {
   "codemirror_mode": {
    "name": "ipython",
    "version": 3
   },
   "file_extension": ".py",
   "mimetype": "text/x-python",
   "name": "python",
   "nbconvert_exporter": "python",
   "pygments_lexer": "ipython3",
   "version": "3.9.7"
  }
 },
 "nbformat": 4,
 "nbformat_minor": 5
}
