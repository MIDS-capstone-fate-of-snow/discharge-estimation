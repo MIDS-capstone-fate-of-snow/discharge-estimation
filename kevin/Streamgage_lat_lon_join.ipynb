{
 "cells": [
  {
   "cell_type": "code",
   "execution_count": 4,
   "id": "865b280a-8b2f-448a-8be6-1077fc399e89",
   "metadata": {},
   "outputs": [
    {
     "name": "stdout",
     "output_type": "stream",
     "text": [
      "Collecting openpyxl\n",
      "  Downloading openpyxl-3.0.10-py2.py3-none-any.whl (242 kB)\n",
      "\u001b[K     |████████████████████████████████| 242 kB 93 kB/s eta 0:00:01\n",
      "\u001b[?25hCollecting et-xmlfile\n",
      "  Downloading et_xmlfile-1.1.0-py3-none-any.whl (4.7 kB)\n",
      "Installing collected packages: et-xmlfile, openpyxl\n",
      "Successfully installed et-xmlfile-1.1.0 openpyxl-3.0.10\n"
     ]
    }
   ],
   "source": [
    "!pip install openpyxl"
   ]
  },
  {
   "cell_type": "code",
   "execution_count": 1,
   "id": "0eddddf8-65ac-42c3-a1e6-1ed8445f73b1",
   "metadata": {},
   "outputs": [],
   "source": [
    "\n",
    "import datetime\n",
    "import itertools\n",
    "import os\n",
    "\n",
    "import matplotlib.pyplot as plt\n",
    "import numpy as np\n",
    "import pandas as pd"
   ]
  },
  {
   "cell_type": "code",
   "execution_count": 5,
   "id": "d48520c9-15a4-4b4e-80f1-fbf56093e36c",
   "metadata": {},
   "outputs": [],
   "source": [
    "DATA_DIR = os.path.join(\"../data\")"
   ]
  },
  {
   "cell_type": "code",
   "execution_count": 6,
   "id": "89a35328-0209-400c-ba5e-140a2d772e4d",
   "metadata": {},
   "outputs": [],
   "source": [
    "fp = os.path.join(DATA_DIR, \"hydrograph-excel-sheet-tp-cleaned.xlsx\")\n",
    "xl = pd.ExcelFile(fp)\n",
    "gages = xl.sheet_names\n",
    "hydro_data = {s: xl.parse(s) for s in gages}"
   ]
  },
  {
   "cell_type": "code",
   "execution_count": 7,
   "id": "3a3c5b40-f59c-408a-b0ea-05ae6793dc8f",
   "metadata": {},
   "outputs": [],
   "source": [
    "def flatten_sheet(sheet_name: str, src_data: dict):\n",
    "    src_df = src_data[sheet_name]\n",
    "    \n",
    "    # Check lengths of columns, some contain only notes so will be\n",
    "    # much less than 100 and need to be dropped. Most columns\n",
    "    # should have 365/366 values but a few are missing and need to be filled.\n",
    "    col_lengths = {c: sum(src_df[c].notna()) for c in src_df.columns}\n",
    "    keep_cols = [c for c, l in col_lengths.items() if l > 100]\n",
    "    \n",
    "    # Check columns are all in the correct order to combine:\n",
    "    assert \"time\" in keep_cols[0].lower()\n",
    "    correct_order = {\"time\": \"ft\", \"ft\": \"discharge\", \"discharge\": \"time\"}\n",
    "    for i, col in enumerate(keep_cols[:-1]):\n",
    "        next_col = keep_cols[i+1]\n",
    "        for key in correct_order.keys():\n",
    "            if key in col.lower():\n",
    "                should_be = correct_order[key]\n",
    "                assert should_be in next_col.lower(), sheet_name\n",
    "    \n",
    "    # Iterate through columns and collect data:\n",
    "    data_subsets = list()\n",
    "    for start_col in range(0, len(keep_cols), 3):\n",
    "        df_columns = keep_cols[start_col: start_col+3]\n",
    "        subset = src_df[df_columns]\n",
    "        rename = dict(zip(subset.columns, [\"time\", \"ft\", \"m3\"]))\n",
    "        subset = subset.rename(columns=rename).dropna(how=\"all\")\n",
    "        data_subsets.append(subset)\n",
    "        \n",
    "    # Combine to a single df:\n",
    "    final =  pd.concat(data_subsets).reset_index(drop=True)\n",
    "    final[\"gage\"] = sheet_name\n",
    "    return final"
   ]
  },
  {
   "cell_type": "code",
   "execution_count": 8,
   "id": "a4b68779-87ae-412f-98e5-8f87ea538b3d",
   "metadata": {},
   "outputs": [],
   "source": [
    "all_sheets = list()\n",
    "for sname in gages:\n",
    "    all_sheets.append(flatten_sheet(sname, hydro_data)) \n",
    "df = pd.concat(all_sheets).reset_index(drop=True)"
   ]
  },
  {
   "cell_type": "code",
   "execution_count": 9,
   "id": "61c8b8d5-c8ab-4765-ba47-79916f804735",
   "metadata": {},
   "outputs": [
    {
     "data": {
      "text/plain": [
       "(83274, 4)"
      ]
     },
     "execution_count": 9,
     "metadata": {},
     "output_type": "execute_result"
    }
   ],
   "source": [
    "df.shape"
   ]
  },
  {
   "cell_type": "code",
   "execution_count": 10,
   "id": "e2069d9b-51f0-48b9-933a-b5848966e5f6",
   "metadata": {},
   "outputs": [
    {
     "data": {
      "text/html": [
       "<div>\n",
       "<style scoped>\n",
       "    .dataframe tbody tr th:only-of-type {\n",
       "        vertical-align: middle;\n",
       "    }\n",
       "\n",
       "    .dataframe tbody tr th {\n",
       "        vertical-align: top;\n",
       "    }\n",
       "\n",
       "    .dataframe thead th {\n",
       "        text-align: right;\n",
       "    }\n",
       "</style>\n",
       "<table border=\"1\" class=\"dataframe\">\n",
       "  <thead>\n",
       "    <tr style=\"text-align: right;\">\n",
       "      <th></th>\n",
       "      <th>time</th>\n",
       "      <th>ft</th>\n",
       "      <th>m3</th>\n",
       "      <th>gage</th>\n",
       "    </tr>\n",
       "  </thead>\n",
       "  <tbody>\n",
       "    <tr>\n",
       "      <th>0</th>\n",
       "      <td>1984-10-01</td>\n",
       "      <td>54.0</td>\n",
       "      <td>1.529110</td>\n",
       "      <td>11402000</td>\n",
       "    </tr>\n",
       "    <tr>\n",
       "      <th>1</th>\n",
       "      <td>1984-10-02</td>\n",
       "      <td>52.0</td>\n",
       "      <td>1.472476</td>\n",
       "      <td>11402000</td>\n",
       "    </tr>\n",
       "    <tr>\n",
       "      <th>2</th>\n",
       "      <td>1984-10-03</td>\n",
       "      <td>49.0</td>\n",
       "      <td>1.387525</td>\n",
       "      <td>11402000</td>\n",
       "    </tr>\n",
       "    <tr>\n",
       "      <th>3</th>\n",
       "      <td>1984-10-04</td>\n",
       "      <td>49.0</td>\n",
       "      <td>1.387525</td>\n",
       "      <td>11402000</td>\n",
       "    </tr>\n",
       "    <tr>\n",
       "      <th>4</th>\n",
       "      <td>1984-10-05</td>\n",
       "      <td>48.0</td>\n",
       "      <td>1.359209</td>\n",
       "      <td>11402000</td>\n",
       "    </tr>\n",
       "  </tbody>\n",
       "</table>\n",
       "</div>"
      ],
      "text/plain": [
       "        time    ft        m3      gage\n",
       "0 1984-10-01  54.0  1.529110  11402000\n",
       "1 1984-10-02  52.0  1.472476  11402000\n",
       "2 1984-10-03  49.0  1.387525  11402000\n",
       "3 1984-10-04  49.0  1.387525  11402000\n",
       "4 1984-10-05  48.0  1.359209  11402000"
      ]
     },
     "execution_count": 10,
     "metadata": {},
     "output_type": "execute_result"
    }
   ],
   "source": [
    "df.head()"
   ]
  },
  {
   "cell_type": "code",
   "execution_count": 11,
   "id": "4ac58066-af7e-4a04-bf94-8e00cb59fef9",
   "metadata": {},
   "outputs": [
    {
     "data": {
      "text/plain": [
       "11402000    12418\n",
       "11318500    12418\n",
       "11266500    12418\n",
       "11208000    12053\n",
       "11185500    12053\n",
       "11189500    11322\n",
       "11202710    10592\n",
       "Name: gage, dtype: int64"
      ]
     },
     "execution_count": 11,
     "metadata": {},
     "output_type": "execute_result"
    }
   ],
   "source": [
    "# convert column gage to numeric column\n",
    "df['gage'] = pd.to_numeric(df['gage'])\n",
    "df['gage'].value_counts()\n",
    "# Total of 7 gages"
   ]
  },
  {
   "cell_type": "markdown",
   "id": "36e73211",
   "metadata": {},
   "source": [
    "## Join table between new gage lat lon (gage_id_loation.csv') and gage discharge"
   ]
  },
  {
   "cell_type": "code",
   "execution_count": 13,
   "id": "330c71db",
   "metadata": {},
   "outputs": [
    {
     "data": {
      "text/html": [
       "<div>\n",
       "<style scoped>\n",
       "    .dataframe tbody tr th:only-of-type {\n",
       "        vertical-align: middle;\n",
       "    }\n",
       "\n",
       "    .dataframe tbody tr th {\n",
       "        vertical-align: top;\n",
       "    }\n",
       "\n",
       "    .dataframe thead th {\n",
       "        text-align: right;\n",
       "    }\n",
       "</style>\n",
       "<table border=\"1\" class=\"dataframe\">\n",
       "  <thead>\n",
       "    <tr style=\"text-align: right;\">\n",
       "      <th></th>\n",
       "      <th>gage</th>\n",
       "      <th>ll_lon</th>\n",
       "      <th>ll_lat</th>\n",
       "      <th>tr_lon</th>\n",
       "      <th>tr_lat</th>\n",
       "    </tr>\n",
       "  </thead>\n",
       "  <tbody>\n",
       "    <tr>\n",
       "      <th>0</th>\n",
       "      <td>11185500.0</td>\n",
       "      <td>-118.644780</td>\n",
       "      <td>35.852910</td>\n",
       "      <td>-118.209481</td>\n",
       "      <td>36.700635</td>\n",
       "    </tr>\n",
       "    <tr>\n",
       "      <th>1</th>\n",
       "      <td>11189500.0</td>\n",
       "      <td>-118.383732</td>\n",
       "      <td>35.728555</td>\n",
       "      <td>-118.003533</td>\n",
       "      <td>36.437843</td>\n",
       "    </tr>\n",
       "    <tr>\n",
       "      <th>2</th>\n",
       "      <td>11202710.0</td>\n",
       "      <td>-118.726190</td>\n",
       "      <td>36.085359</td>\n",
       "      <td>-118.527900</td>\n",
       "      <td>36.325132</td>\n",
       "    </tr>\n",
       "    <tr>\n",
       "      <th>3</th>\n",
       "      <td>11208000.0</td>\n",
       "      <td>-118.818577</td>\n",
       "      <td>36.520114</td>\n",
       "      <td>-118.610906</td>\n",
       "      <td>36.677516</td>\n",
       "    </tr>\n",
       "    <tr>\n",
       "      <th>4</th>\n",
       "      <td>11266500.0</td>\n",
       "      <td>-119.675871</td>\n",
       "      <td>37.593748</td>\n",
       "      <td>-119.257278</td>\n",
       "      <td>37.902601</td>\n",
       "    </tr>\n",
       "  </tbody>\n",
       "</table>\n",
       "</div>"
      ],
      "text/plain": [
       "         gage      ll_lon     ll_lat      tr_lon     tr_lat\n",
       "0  11185500.0 -118.644780  35.852910 -118.209481  36.700635\n",
       "1  11189500.0 -118.383732  35.728555 -118.003533  36.437843\n",
       "2  11202710.0 -118.726190  36.085359 -118.527900  36.325132\n",
       "3  11208000.0 -118.818577  36.520114 -118.610906  36.677516\n",
       "4  11266500.0 -119.675871  37.593748 -119.257278  37.902601"
      ]
     },
     "execution_count": 13,
     "metadata": {},
     "output_type": "execute_result"
    }
   ],
   "source": [
    "# 1. read gage lat lon data\n",
    "gage_loc = pd.read_csv(os.path.join(DATA_DIR,'gage_id_location.csv'))\n",
    "gage_loc.head()"
   ]
  },
  {
   "cell_type": "code",
   "execution_count": 15,
   "id": "476f56f5",
   "metadata": {},
   "outputs": [
    {
     "data": {
      "text/html": [
       "<div>\n",
       "<style scoped>\n",
       "    .dataframe tbody tr th:only-of-type {\n",
       "        vertical-align: middle;\n",
       "    }\n",
       "\n",
       "    .dataframe tbody tr th {\n",
       "        vertical-align: top;\n",
       "    }\n",
       "\n",
       "    .dataframe thead th {\n",
       "        text-align: right;\n",
       "    }\n",
       "</style>\n",
       "<table border=\"1\" class=\"dataframe\">\n",
       "  <thead>\n",
       "    <tr style=\"text-align: right;\">\n",
       "      <th></th>\n",
       "      <th>time</th>\n",
       "      <th>ft</th>\n",
       "      <th>m3</th>\n",
       "      <th>gage</th>\n",
       "      <th>ll_lon</th>\n",
       "      <th>ll_lat</th>\n",
       "      <th>tr_lon</th>\n",
       "      <th>tr_lat</th>\n",
       "    </tr>\n",
       "  </thead>\n",
       "  <tbody>\n",
       "    <tr>\n",
       "      <th>0</th>\n",
       "      <td>1984-10-01</td>\n",
       "      <td>54.0</td>\n",
       "      <td>1.529110</td>\n",
       "      <td>11402000</td>\n",
       "      <td>-121.157674</td>\n",
       "      <td>39.855478</td>\n",
       "      <td>-120.690823</td>\n",
       "      <td>40.049659</td>\n",
       "    </tr>\n",
       "    <tr>\n",
       "      <th>1</th>\n",
       "      <td>1984-10-02</td>\n",
       "      <td>52.0</td>\n",
       "      <td>1.472476</td>\n",
       "      <td>11402000</td>\n",
       "      <td>-121.157674</td>\n",
       "      <td>39.855478</td>\n",
       "      <td>-120.690823</td>\n",
       "      <td>40.049659</td>\n",
       "    </tr>\n",
       "    <tr>\n",
       "      <th>2</th>\n",
       "      <td>1984-10-03</td>\n",
       "      <td>49.0</td>\n",
       "      <td>1.387525</td>\n",
       "      <td>11402000</td>\n",
       "      <td>-121.157674</td>\n",
       "      <td>39.855478</td>\n",
       "      <td>-120.690823</td>\n",
       "      <td>40.049659</td>\n",
       "    </tr>\n",
       "    <tr>\n",
       "      <th>3</th>\n",
       "      <td>1984-10-04</td>\n",
       "      <td>49.0</td>\n",
       "      <td>1.387525</td>\n",
       "      <td>11402000</td>\n",
       "      <td>-121.157674</td>\n",
       "      <td>39.855478</td>\n",
       "      <td>-120.690823</td>\n",
       "      <td>40.049659</td>\n",
       "    </tr>\n",
       "    <tr>\n",
       "      <th>4</th>\n",
       "      <td>1984-10-05</td>\n",
       "      <td>48.0</td>\n",
       "      <td>1.359209</td>\n",
       "      <td>11402000</td>\n",
       "      <td>-121.157674</td>\n",
       "      <td>39.855478</td>\n",
       "      <td>-120.690823</td>\n",
       "      <td>40.049659</td>\n",
       "    </tr>\n",
       "  </tbody>\n",
       "</table>\n",
       "</div>"
      ],
      "text/plain": [
       "        time    ft        m3      gage      ll_lon     ll_lat      tr_lon  \\\n",
       "0 1984-10-01  54.0  1.529110  11402000 -121.157674  39.855478 -120.690823   \n",
       "1 1984-10-02  52.0  1.472476  11402000 -121.157674  39.855478 -120.690823   \n",
       "2 1984-10-03  49.0  1.387525  11402000 -121.157674  39.855478 -120.690823   \n",
       "3 1984-10-04  49.0  1.387525  11402000 -121.157674  39.855478 -120.690823   \n",
       "4 1984-10-05  48.0  1.359209  11402000 -121.157674  39.855478 -120.690823   \n",
       "\n",
       "      tr_lat  \n",
       "0  40.049659  \n",
       "1  40.049659  \n",
       "2  40.049659  \n",
       "3  40.049659  \n",
       "4  40.049659  "
      ]
     },
     "execution_count": 15,
     "metadata": {},
     "output_type": "execute_result"
    }
   ],
   "source": [
    "# 2. Join Data\n",
    "gage_data = df.merge(gage_loc,on = 'gage',how = 'inner')\n",
    "gage_data.head()"
   ]
  },
  {
   "cell_type": "code",
   "execution_count": 16,
   "id": "27ff74c2",
   "metadata": {},
   "outputs": [],
   "source": [
    "# save csv file\n",
    "gage_data.to_csv(os.path.join(DATA_DIR,'gage_discharge_lat_lon.csv'),index=False)"
   ]
  },
  {
   "cell_type": "code",
   "execution_count": 17,
   "id": "ce09b47b",
   "metadata": {},
   "outputs": [],
   "source": [
    "# -----------------------------------------------------------------------------"
   ]
  },
  {
   "cell_type": "markdown",
   "id": "af646056-5606-4698-a826-59a92319e83c",
   "metadata": {},
   "source": [
    "## Join table between old gage lat lon (target_gages.csv') and gage discharge"
   ]
  },
  {
   "cell_type": "code",
   "execution_count": 11,
   "id": "86372a28-ea12-494d-82af-0ccd840ff7ac",
   "metadata": {},
   "outputs": [],
   "source": [
    "# 1. read gage lat lon data\n",
    "gage_loc = pd.read_csv(os.path.join(DATA_DIR,'target_gages.csv'))"
   ]
  },
  {
   "cell_type": "code",
   "execution_count": 17,
   "id": "f1598123-e015-433b-96f6-ffe08bdff17d",
   "metadata": {},
   "outputs": [
    {
     "data": {
      "text/html": [
       "<div>\n",
       "<style scoped>\n",
       "    .dataframe tbody tr th:only-of-type {\n",
       "        vertical-align: middle;\n",
       "    }\n",
       "\n",
       "    .dataframe tbody tr th {\n",
       "        vertical-align: top;\n",
       "    }\n",
       "\n",
       "    .dataframe thead th {\n",
       "        text-align: right;\n",
       "    }\n",
       "</style>\n",
       "<table border=\"1\" class=\"dataframe\">\n",
       "  <thead>\n",
       "    <tr style=\"text-align: right;\">\n",
       "      <th></th>\n",
       "      <th>gage</th>\n",
       "      <th>lat</th>\n",
       "      <th>long</th>\n",
       "    </tr>\n",
       "  </thead>\n",
       "  <tbody>\n",
       "    <tr>\n",
       "      <th>0</th>\n",
       "      <td>11185500</td>\n",
       "      <td>35.905504</td>\n",
       "      <td>-118.467586</td>\n",
       "    </tr>\n",
       "    <tr>\n",
       "      <th>1</th>\n",
       "      <td>11189500</td>\n",
       "      <td>35.737452</td>\n",
       "      <td>-118.173689</td>\n",
       "    </tr>\n",
       "    <tr>\n",
       "      <th>2</th>\n",
       "      <td>11202710</td>\n",
       "      <td>36.161336</td>\n",
       "      <td>-118.709536</td>\n",
       "    </tr>\n",
       "    <tr>\n",
       "      <th>3</th>\n",
       "      <td>11208000</td>\n",
       "      <td>36.521890</td>\n",
       "      <td>-118.799265</td>\n",
       "    </tr>\n",
       "    <tr>\n",
       "      <th>4</th>\n",
       "      <td>11266500</td>\n",
       "      <td>37.716871</td>\n",
       "      <td>-119.666279</td>\n",
       "    </tr>\n",
       "  </tbody>\n",
       "</table>\n",
       "</div>"
      ],
      "text/plain": [
       "       gage        lat        long\n",
       "0  11185500  35.905504 -118.467586\n",
       "1  11189500  35.737452 -118.173689\n",
       "2  11202710  36.161336 -118.709536\n",
       "3  11208000  36.521890 -118.799265\n",
       "4  11266500  37.716871 -119.666279"
      ]
     },
     "execution_count": 17,
     "metadata": {},
     "output_type": "execute_result"
    }
   ],
   "source": [
    "# 2. take subset of the data\n",
    "lat_lon = gage_loc[['site_no','dec_lat_va','dec_long_va']]\n",
    "lat_lon.columns = ['gage','lat','lon']\n",
    "lat_lon.head()"
   ]
  },
  {
   "cell_type": "code",
   "execution_count": 29,
   "id": "ac6c9877-aa0f-4c52-969c-59b8072425ad",
   "metadata": {},
   "outputs": [
    {
     "data": {
      "text/plain": [
       "dtype('int64')"
      ]
     },
     "execution_count": 29,
     "metadata": {},
     "output_type": "execute_result"
    }
   ],
   "source": [
    "df['gage'].dtype"
   ]
  },
  {
   "cell_type": "code",
   "execution_count": 33,
   "id": "c1e2a59b-f923-4104-8e95-4957fee9fbf6",
   "metadata": {},
   "outputs": [
    {
     "data": {
      "text/html": [
       "<div>\n",
       "<style scoped>\n",
       "    .dataframe tbody tr th:only-of-type {\n",
       "        vertical-align: middle;\n",
       "    }\n",
       "\n",
       "    .dataframe tbody tr th {\n",
       "        vertical-align: top;\n",
       "    }\n",
       "\n",
       "    .dataframe thead th {\n",
       "        text-align: right;\n",
       "    }\n",
       "</style>\n",
       "<table border=\"1\" class=\"dataframe\">\n",
       "  <thead>\n",
       "    <tr style=\"text-align: right;\">\n",
       "      <th></th>\n",
       "      <th>time</th>\n",
       "      <th>ft</th>\n",
       "      <th>m3</th>\n",
       "      <th>gage</th>\n",
       "      <th>lat</th>\n",
       "      <th>long</th>\n",
       "    </tr>\n",
       "  </thead>\n",
       "  <tbody>\n",
       "    <tr>\n",
       "      <th>0</th>\n",
       "      <td>1984-10-01</td>\n",
       "      <td>54.0</td>\n",
       "      <td>1.529110</td>\n",
       "      <td>11402000</td>\n",
       "      <td>40.002947</td>\n",
       "      <td>-120.954399</td>\n",
       "    </tr>\n",
       "    <tr>\n",
       "      <th>1</th>\n",
       "      <td>1984-10-02</td>\n",
       "      <td>52.0</td>\n",
       "      <td>1.472476</td>\n",
       "      <td>11402000</td>\n",
       "      <td>40.002947</td>\n",
       "      <td>-120.954399</td>\n",
       "    </tr>\n",
       "    <tr>\n",
       "      <th>2</th>\n",
       "      <td>1984-10-03</td>\n",
       "      <td>49.0</td>\n",
       "      <td>1.387525</td>\n",
       "      <td>11402000</td>\n",
       "      <td>40.002947</td>\n",
       "      <td>-120.954399</td>\n",
       "    </tr>\n",
       "    <tr>\n",
       "      <th>3</th>\n",
       "      <td>1984-10-04</td>\n",
       "      <td>49.0</td>\n",
       "      <td>1.387525</td>\n",
       "      <td>11402000</td>\n",
       "      <td>40.002947</td>\n",
       "      <td>-120.954399</td>\n",
       "    </tr>\n",
       "    <tr>\n",
       "      <th>4</th>\n",
       "      <td>1984-10-05</td>\n",
       "      <td>48.0</td>\n",
       "      <td>1.359209</td>\n",
       "      <td>11402000</td>\n",
       "      <td>40.002947</td>\n",
       "      <td>-120.954399</td>\n",
       "    </tr>\n",
       "  </tbody>\n",
       "</table>\n",
       "</div>"
      ],
      "text/plain": [
       "        time    ft        m3      gage        lat        long\n",
       "0 1984-10-01  54.0  1.529110  11402000  40.002947 -120.954399\n",
       "1 1984-10-02  52.0  1.472476  11402000  40.002947 -120.954399\n",
       "2 1984-10-03  49.0  1.387525  11402000  40.002947 -120.954399\n",
       "3 1984-10-04  49.0  1.387525  11402000  40.002947 -120.954399\n",
       "4 1984-10-05  48.0  1.359209  11402000  40.002947 -120.954399"
      ]
     },
     "execution_count": 33,
     "metadata": {},
     "output_type": "execute_result"
    }
   ],
   "source": [
    "# 3. Join Data\n",
    "gage_data = df.merge(lat_lon,on = 'gage',how = 'inner')\n",
    "gage_data.head()"
   ]
  },
  {
   "cell_type": "code",
   "execution_count": 34,
   "id": "70820892-1594-4777-a633-e6769df15738",
   "metadata": {},
   "outputs": [],
   "source": [
    "# save csv file\n",
    "gage_data.to_csv('gage_discharge_lat_lon.csv',index=False)"
   ]
  }
 ],
 "metadata": {
  "kernelspec": {
   "display_name": "Python 3 (ipykernel)",
   "language": "python",
   "name": "python3"
  },
  "language_info": {
   "codemirror_mode": {
    "name": "ipython",
    "version": 3
   },
   "file_extension": ".py",
   "mimetype": "text/x-python",
   "name": "python",
   "nbconvert_exporter": "python",
   "pygments_lexer": "ipython3",
   "version": "3.9.7"
  }
 },
 "nbformat": 4,
 "nbformat_minor": 5
}
